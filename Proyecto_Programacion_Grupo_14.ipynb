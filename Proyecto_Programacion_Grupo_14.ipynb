{
 "cells": [
  {
   "cell_type": "markdown",
   "metadata": {
    "id": "fOKlEkNt00Vm"
   },
   "source": [
    "### 1. Carga del conjunto de datos"
   ]
  },
  {
   "cell_type": "markdown",
   "metadata": {
    "tags": []
   },
   "source": [
    "#### 1.1 Instalación de librerias necesarias y lectura de datos de kaggle\n",
    "\n",
    "Esta fase inical sólo debe ejecutarse una unica vez."
   ]
  },
  {
   "cell_type": "code",
   "execution_count": 3,
   "metadata": {
    "collapsed": true,
    "jupyter": {
     "outputs_hidden": true
    },
    "tags": []
   },
   "outputs": [
    {
     "name": "stdout",
     "output_type": "stream",
     "text": [
      "\u001b[31mERROR: Could not find a version that satisfies the requirement opencv (from versions: none)\u001b[0m\n",
      "\u001b[31mERROR: No matching distribution found for opencv\u001b[0m\n",
      "Note: you may need to restart the kernel to use updated packages.\n",
      "Requirement already satisfied: google-colab in /home/studio-lab-user/.conda/envs/default/lib/python3.9/site-packages (1.0.0)\n",
      "Requirement already satisfied: notebook>=5.2.0 in /home/studio-lab-user/.conda/envs/default/lib/python3.9/site-packages (from google-colab) (7.1.3)\n",
      "Requirement already satisfied: ipython>=5.5.0 in /home/studio-lab-user/.conda/envs/default/lib/python3.9/site-packages (from google-colab) (7.33.0)\n",
      "Requirement already satisfied: tornado>=4.5.0 in /home/studio-lab-user/.conda/envs/default/lib/python3.9/site-packages (from google-colab) (6.4)\n",
      "Requirement already satisfied: portpicker>=1.2.0 in /home/studio-lab-user/.conda/envs/default/lib/python3.9/site-packages (from google-colab) (1.6.0)\n",
      "Requirement already satisfied: requests>=2.21.0 in /home/studio-lab-user/.conda/envs/default/lib/python3.9/site-packages (from google-colab) (2.32.3)\n",
      "Requirement already satisfied: ipykernel>=4.6.0 in /home/studio-lab-user/.conda/envs/default/lib/python3.9/site-packages (from google-colab) (6.4.2)\n",
      "Requirement already satisfied: six>=1.12.0 in /home/studio-lab-user/.conda/envs/default/lib/python3.9/site-packages (from google-colab) (1.16.0)\n",
      "Requirement already satisfied: pandas>=0.24.0 in /home/studio-lab-user/.conda/envs/default/lib/python3.9/site-packages (from google-colab) (2.2.3)\n",
      "Requirement already satisfied: google-auth>=1.4.0 in /home/studio-lab-user/.conda/envs/default/lib/python3.9/site-packages (from google-colab) (2.35.0)\n",
      "Requirement already satisfied: pyasn1-modules>=0.2.1 in /home/studio-lab-user/.conda/envs/default/lib/python3.9/site-packages (from google-auth>=1.4.0->google-colab) (0.4.1)\n",
      "Requirement already satisfied: cachetools<6.0,>=2.0.0 in /home/studio-lab-user/.conda/envs/default/lib/python3.9/site-packages (from google-auth>=1.4.0->google-colab) (5.5.0)\n",
      "Requirement already satisfied: rsa<5,>=3.1.4 in /home/studio-lab-user/.conda/envs/default/lib/python3.9/site-packages (from google-auth>=1.4.0->google-colab) (4.9)\n",
      "Requirement already satisfied: traitlets<6.0,>=4.1.0 in /home/studio-lab-user/.conda/envs/default/lib/python3.9/site-packages (from ipykernel>=4.6.0->google-colab) (5.14.3)\n",
      "Requirement already satisfied: debugpy<2.0,>=1.0.0 in /home/studio-lab-user/.conda/envs/default/lib/python3.9/site-packages (from ipykernel>=4.6.0->google-colab) (1.8.1)\n",
      "Requirement already satisfied: jupyter-client<8.0 in /home/studio-lab-user/.conda/envs/default/lib/python3.9/site-packages (from ipykernel>=4.6.0->google-colab) (7.4.9)\n",
      "Requirement already satisfied: ipython-genutils in /home/studio-lab-user/.conda/envs/default/lib/python3.9/site-packages (from ipykernel>=4.6.0->google-colab) (0.2.0)\n",
      "Requirement already satisfied: matplotlib-inline<0.2.0,>=0.1.0 in /home/studio-lab-user/.conda/envs/default/lib/python3.9/site-packages (from ipykernel>=4.6.0->google-colab) (0.1.7)\n",
      "Requirement already satisfied: prompt-toolkit!=3.0.0,!=3.0.1,<3.1.0,>=2.0.0 in /home/studio-lab-user/.conda/envs/default/lib/python3.9/site-packages (from ipython>=5.5.0->google-colab) (3.0.42)\n",
      "Requirement already satisfied: pygments in /home/studio-lab-user/.conda/envs/default/lib/python3.9/site-packages (from ipython>=5.5.0->google-colab) (2.18.0)\n",
      "Requirement already satisfied: pexpect>4.3 in /home/studio-lab-user/.conda/envs/default/lib/python3.9/site-packages (from ipython>=5.5.0->google-colab) (4.9.0)\n",
      "Requirement already satisfied: backcall in /home/studio-lab-user/.conda/envs/default/lib/python3.9/site-packages (from ipython>=5.5.0->google-colab) (0.2.0)\n",
      "Requirement already satisfied: setuptools>=18.5 in /home/studio-lab-user/.conda/envs/default/lib/python3.9/site-packages (from ipython>=5.5.0->google-colab) (70.0.0)\n",
      "Requirement already satisfied: decorator in /home/studio-lab-user/.conda/envs/default/lib/python3.9/site-packages (from ipython>=5.5.0->google-colab) (5.1.1)\n",
      "Requirement already satisfied: pickleshare in /home/studio-lab-user/.conda/envs/default/lib/python3.9/site-packages (from ipython>=5.5.0->google-colab) (0.7.5)\n",
      "Requirement already satisfied: jedi>=0.16 in /home/studio-lab-user/.conda/envs/default/lib/python3.9/site-packages (from ipython>=5.5.0->google-colab) (0.19.1)\n",
      "Requirement already satisfied: parso<0.9.0,>=0.8.3 in /home/studio-lab-user/.conda/envs/default/lib/python3.9/site-packages (from jedi>=0.16->ipython>=5.5.0->google-colab) (0.8.4)\n",
      "Requirement already satisfied: nest-asyncio>=1.5.4 in /home/studio-lab-user/.conda/envs/default/lib/python3.9/site-packages (from jupyter-client<8.0->ipykernel>=4.6.0->google-colab) (1.6.0)\n",
      "Requirement already satisfied: entrypoints in /home/studio-lab-user/.conda/envs/default/lib/python3.9/site-packages (from jupyter-client<8.0->ipykernel>=4.6.0->google-colab) (0.4)\n",
      "Requirement already satisfied: pyzmq>=23.0 in /home/studio-lab-user/.conda/envs/default/lib/python3.9/site-packages (from jupyter-client<8.0->ipykernel>=4.6.0->google-colab) (26.0.3)\n",
      "Requirement already satisfied: jupyter-core>=4.9.2 in /home/studio-lab-user/.conda/envs/default/lib/python3.9/site-packages (from jupyter-client<8.0->ipykernel>=4.6.0->google-colab) (5.7.2)\n",
      "Requirement already satisfied: python-dateutil>=2.8.2 in /home/studio-lab-user/.conda/envs/default/lib/python3.9/site-packages (from jupyter-client<8.0->ipykernel>=4.6.0->google-colab) (2.9.0)\n",
      "Requirement already satisfied: platformdirs>=2.5 in /home/studio-lab-user/.conda/envs/default/lib/python3.9/site-packages (from jupyter-core>=4.9.2->jupyter-client<8.0->ipykernel>=4.6.0->google-colab) (4.2.2)\n",
      "Requirement already satisfied: jupyter-server<3,>=2.4.0 in /home/studio-lab-user/.conda/envs/default/lib/python3.9/site-packages (from notebook>=5.2.0->google-colab) (2.14.0)\n",
      "Requirement already satisfied: notebook-shim<0.3,>=0.2 in /home/studio-lab-user/.conda/envs/default/lib/python3.9/site-packages (from notebook>=5.2.0->google-colab) (0.2.4)\n",
      "Requirement already satisfied: jupyterlab<4.2,>=4.1.1 in /home/studio-lab-user/.conda/envs/default/lib/python3.9/site-packages (from notebook>=5.2.0->google-colab) (4.1.5)\n",
      "Requirement already satisfied: jupyterlab-server<3,>=2.22.1 in /home/studio-lab-user/.conda/envs/default/lib/python3.9/site-packages (from notebook>=5.2.0->google-colab) (2.27.2)\n",
      "Requirement already satisfied: nbconvert>=6.4.4 in /home/studio-lab-user/.conda/envs/default/lib/python3.9/site-packages (from jupyter-server<3,>=2.4.0->notebook>=5.2.0->google-colab) (7.16.4)\n",
      "Requirement already satisfied: packaging>=22.0 in /home/studio-lab-user/.conda/envs/default/lib/python3.9/site-packages (from jupyter-server<3,>=2.4.0->notebook>=5.2.0->google-colab) (24.0)\n",
      "Requirement already satisfied: nbformat>=5.3.0 in /home/studio-lab-user/.conda/envs/default/lib/python3.9/site-packages (from jupyter-server<3,>=2.4.0->notebook>=5.2.0->google-colab) (5.10.4)\n",
      "Requirement already satisfied: terminado>=0.8.3 in /home/studio-lab-user/.conda/envs/default/lib/python3.9/site-packages (from jupyter-server<3,>=2.4.0->notebook>=5.2.0->google-colab) (0.18.1)\n",
      "Requirement already satisfied: send2trash>=1.8.2 in /home/studio-lab-user/.conda/envs/default/lib/python3.9/site-packages (from jupyter-server<3,>=2.4.0->notebook>=5.2.0->google-colab) (1.8.3)\n",
      "Requirement already satisfied: argon2-cffi>=21.1 in /home/studio-lab-user/.conda/envs/default/lib/python3.9/site-packages (from jupyter-server<3,>=2.4.0->notebook>=5.2.0->google-colab) (23.1.0)\n",
      "Requirement already satisfied: jupyter-events>=0.9.0 in /home/studio-lab-user/.conda/envs/default/lib/python3.9/site-packages (from jupyter-server<3,>=2.4.0->notebook>=5.2.0->google-colab) (0.10.0)\n",
      "Requirement already satisfied: jupyter-server-terminals>=0.4.4 in /home/studio-lab-user/.conda/envs/default/lib/python3.9/site-packages (from jupyter-server<3,>=2.4.0->notebook>=5.2.0->google-colab) (0.5.3)\n",
      "Requirement already satisfied: prometheus-client>=0.9 in /home/studio-lab-user/.conda/envs/default/lib/python3.9/site-packages (from jupyter-server<3,>=2.4.0->notebook>=5.2.0->google-colab) (0.20.0)\n",
      "Requirement already satisfied: anyio>=3.1.0 in /home/studio-lab-user/.conda/envs/default/lib/python3.9/site-packages (from jupyter-server<3,>=2.4.0->notebook>=5.2.0->google-colab) (4.3.0)\n",
      "Requirement already satisfied: websocket-client>=1.7 in /home/studio-lab-user/.conda/envs/default/lib/python3.9/site-packages (from jupyter-server<3,>=2.4.0->notebook>=5.2.0->google-colab) (1.8.0)\n",
      "Requirement already satisfied: overrides>=5.0 in /home/studio-lab-user/.conda/envs/default/lib/python3.9/site-packages (from jupyter-server<3,>=2.4.0->notebook>=5.2.0->google-colab) (7.7.0)\n",
      "Requirement already satisfied: jinja2>=3.0.3 in /home/studio-lab-user/.conda/envs/default/lib/python3.9/site-packages (from jupyter-server<3,>=2.4.0->notebook>=5.2.0->google-colab) (3.1.4)\n",
      "Requirement already satisfied: exceptiongroup>=1.0.2 in /home/studio-lab-user/.conda/envs/default/lib/python3.9/site-packages (from anyio>=3.1.0->jupyter-server<3,>=2.4.0->notebook>=5.2.0->google-colab) (1.2.0)\n",
      "Requirement already satisfied: typing-extensions>=4.1 in /home/studio-lab-user/.conda/envs/default/lib/python3.9/site-packages (from anyio>=3.1.0->jupyter-server<3,>=2.4.0->notebook>=5.2.0->google-colab) (4.11.0)\n",
      "Requirement already satisfied: sniffio>=1.1 in /home/studio-lab-user/.conda/envs/default/lib/python3.9/site-packages (from anyio>=3.1.0->jupyter-server<3,>=2.4.0->notebook>=5.2.0->google-colab) (1.3.1)\n",
      "Requirement already satisfied: idna>=2.8 in /home/studio-lab-user/.conda/envs/default/lib/python3.9/site-packages (from anyio>=3.1.0->jupyter-server<3,>=2.4.0->notebook>=5.2.0->google-colab) (3.7)\n",
      "Requirement already satisfied: argon2-cffi-bindings in /home/studio-lab-user/.conda/envs/default/lib/python3.9/site-packages (from argon2-cffi>=21.1->jupyter-server<3,>=2.4.0->notebook>=5.2.0->google-colab) (21.2.0)\n",
      "Requirement already satisfied: MarkupSafe>=2.0 in /home/studio-lab-user/.conda/envs/default/lib/python3.9/site-packages (from jinja2>=3.0.3->jupyter-server<3,>=2.4.0->notebook>=5.2.0->google-colab) (2.1.5)\n",
      "Requirement already satisfied: rfc3986-validator>=0.1.1 in /home/studio-lab-user/.conda/envs/default/lib/python3.9/site-packages (from jupyter-events>=0.9.0->jupyter-server<3,>=2.4.0->notebook>=5.2.0->google-colab) (0.1.1)\n",
      "Requirement already satisfied: jsonschema[format-nongpl]>=4.18.0 in /home/studio-lab-user/.conda/envs/default/lib/python3.9/site-packages (from jupyter-events>=0.9.0->jupyter-server<3,>=2.4.0->notebook>=5.2.0->google-colab) (4.22.0)\n",
      "Requirement already satisfied: pyyaml>=5.3 in /home/studio-lab-user/.conda/envs/default/lib/python3.9/site-packages (from jupyter-events>=0.9.0->jupyter-server<3,>=2.4.0->notebook>=5.2.0->google-colab) (6.0.1)\n",
      "Requirement already satisfied: referencing in /home/studio-lab-user/.conda/envs/default/lib/python3.9/site-packages (from jupyter-events>=0.9.0->jupyter-server<3,>=2.4.0->notebook>=5.2.0->google-colab) (0.35.1)\n",
      "Requirement already satisfied: python-json-logger>=2.0.4 in /home/studio-lab-user/.conda/envs/default/lib/python3.9/site-packages (from jupyter-events>=0.9.0->jupyter-server<3,>=2.4.0->notebook>=5.2.0->google-colab) (2.0.7)\n",
      "Requirement already satisfied: rfc3339-validator in /home/studio-lab-user/.conda/envs/default/lib/python3.9/site-packages (from jupyter-events>=0.9.0->jupyter-server<3,>=2.4.0->notebook>=5.2.0->google-colab) (0.1.4)\n",
      "Requirement already satisfied: rpds-py>=0.7.1 in /home/studio-lab-user/.conda/envs/default/lib/python3.9/site-packages (from jsonschema[format-nongpl]>=4.18.0->jupyter-events>=0.9.0->jupyter-server<3,>=2.4.0->notebook>=5.2.0->google-colab) (0.18.1)\n",
      "Requirement already satisfied: attrs>=22.2.0 in /home/studio-lab-user/.conda/envs/default/lib/python3.9/site-packages (from jsonschema[format-nongpl]>=4.18.0->jupyter-events>=0.9.0->jupyter-server<3,>=2.4.0->notebook>=5.2.0->google-colab) (23.2.0)\n",
      "Requirement already satisfied: jsonschema-specifications>=2023.03.6 in /home/studio-lab-user/.conda/envs/default/lib/python3.9/site-packages (from jsonschema[format-nongpl]>=4.18.0->jupyter-events>=0.9.0->jupyter-server<3,>=2.4.0->notebook>=5.2.0->google-colab) (2023.12.1)\n",
      "Requirement already satisfied: fqdn in /home/studio-lab-user/.conda/envs/default/lib/python3.9/site-packages (from jsonschema[format-nongpl]>=4.18.0->jupyter-events>=0.9.0->jupyter-server<3,>=2.4.0->notebook>=5.2.0->google-colab) (1.5.1)\n",
      "Requirement already satisfied: uri-template in /home/studio-lab-user/.conda/envs/default/lib/python3.9/site-packages (from jsonschema[format-nongpl]>=4.18.0->jupyter-events>=0.9.0->jupyter-server<3,>=2.4.0->notebook>=5.2.0->google-colab) (1.3.0)\n",
      "Requirement already satisfied: isoduration in /home/studio-lab-user/.conda/envs/default/lib/python3.9/site-packages (from jsonschema[format-nongpl]>=4.18.0->jupyter-events>=0.9.0->jupyter-server<3,>=2.4.0->notebook>=5.2.0->google-colab) (20.11.0)\n",
      "Requirement already satisfied: webcolors>=1.11 in /home/studio-lab-user/.conda/envs/default/lib/python3.9/site-packages (from jsonschema[format-nongpl]>=4.18.0->jupyter-events>=0.9.0->jupyter-server<3,>=2.4.0->notebook>=5.2.0->google-colab) (1.13)\n",
      "Requirement already satisfied: jsonpointer>1.13 in /home/studio-lab-user/.conda/envs/default/lib/python3.9/site-packages (from jsonschema[format-nongpl]>=4.18.0->jupyter-events>=0.9.0->jupyter-server<3,>=2.4.0->notebook>=5.2.0->google-colab) (2.4)\n",
      "Requirement already satisfied: jupyter-lsp>=2.0.0 in /home/studio-lab-user/.conda/envs/default/lib/python3.9/site-packages (from jupyterlab<4.2,>=4.1.1->notebook>=5.2.0->google-colab) (2.2.5)\n",
      "Requirement already satisfied: tomli in /home/studio-lab-user/.conda/envs/default/lib/python3.9/site-packages (from jupyterlab<4.2,>=4.1.1->notebook>=5.2.0->google-colab) (2.0.1)\n",
      "Requirement already satisfied: async-lru>=1.0.0 in /home/studio-lab-user/.conda/envs/default/lib/python3.9/site-packages (from jupyterlab<4.2,>=4.1.1->notebook>=5.2.0->google-colab) (2.0.4)\n",
      "Requirement already satisfied: importlib-metadata>=4.8.3 in /home/studio-lab-user/.conda/envs/default/lib/python3.9/site-packages (from jupyterlab<4.2,>=4.1.1->notebook>=5.2.0->google-colab) (7.1.0)\n",
      "Requirement already satisfied: httpx>=0.25.0 in /home/studio-lab-user/.conda/envs/default/lib/python3.9/site-packages (from jupyterlab<4.2,>=4.1.1->notebook>=5.2.0->google-colab) (0.27.0)\n",
      "Requirement already satisfied: certifi in /home/studio-lab-user/.conda/envs/default/lib/python3.9/site-packages (from httpx>=0.25.0->jupyterlab<4.2,>=4.1.1->notebook>=5.2.0->google-colab) (2024.8.30)\n",
      "Requirement already satisfied: httpcore==1.* in /home/studio-lab-user/.conda/envs/default/lib/python3.9/site-packages (from httpx>=0.25.0->jupyterlab<4.2,>=4.1.1->notebook>=5.2.0->google-colab) (1.0.5)\n",
      "Requirement already satisfied: h11<0.15,>=0.13 in /home/studio-lab-user/.conda/envs/default/lib/python3.9/site-packages (from httpcore==1.*->httpx>=0.25.0->jupyterlab<4.2,>=4.1.1->notebook>=5.2.0->google-colab) (0.14.0)\n",
      "Requirement already satisfied: zipp>=0.5 in /home/studio-lab-user/.conda/envs/default/lib/python3.9/site-packages (from importlib-metadata>=4.8.3->jupyterlab<4.2,>=4.1.1->notebook>=5.2.0->google-colab) (3.17.0)\n",
      "Requirement already satisfied: babel>=2.10 in /home/studio-lab-user/.conda/envs/default/lib/python3.9/site-packages (from jupyterlab-server<3,>=2.22.1->notebook>=5.2.0->google-colab) (2.14.0)\n",
      "Requirement already satisfied: json5>=0.9.0 in /home/studio-lab-user/.conda/envs/default/lib/python3.9/site-packages (from jupyterlab-server<3,>=2.22.1->notebook>=5.2.0->google-colab) (0.9.25)\n",
      "Requirement already satisfied: beautifulsoup4 in /home/studio-lab-user/.conda/envs/default/lib/python3.9/site-packages (from nbconvert>=6.4.4->jupyter-server<3,>=2.4.0->notebook>=5.2.0->google-colab) (4.12.3)\n",
      "Requirement already satisfied: nbclient>=0.5.0 in /home/studio-lab-user/.conda/envs/default/lib/python3.9/site-packages (from nbconvert>=6.4.4->jupyter-server<3,>=2.4.0->notebook>=5.2.0->google-colab) (0.10.0)\n",
      "Requirement already satisfied: pandocfilters>=1.4.1 in /home/studio-lab-user/.conda/envs/default/lib/python3.9/site-packages (from nbconvert>=6.4.4->jupyter-server<3,>=2.4.0->notebook>=5.2.0->google-colab) (1.5.0)\n",
      "Requirement already satisfied: tinycss2 in /home/studio-lab-user/.conda/envs/default/lib/python3.9/site-packages (from nbconvert>=6.4.4->jupyter-server<3,>=2.4.0->notebook>=5.2.0->google-colab) (1.3.0)\n",
      "Requirement already satisfied: jupyterlab-pygments in /home/studio-lab-user/.conda/envs/default/lib/python3.9/site-packages (from nbconvert>=6.4.4->jupyter-server<3,>=2.4.0->notebook>=5.2.0->google-colab) (0.3.0)\n",
      "Requirement already satisfied: mistune<4,>=2.0.3 in /home/studio-lab-user/.conda/envs/default/lib/python3.9/site-packages (from nbconvert>=6.4.4->jupyter-server<3,>=2.4.0->notebook>=5.2.0->google-colab) (3.0.2)\n",
      "Requirement already satisfied: bleach!=5.0.0 in /home/studio-lab-user/.conda/envs/default/lib/python3.9/site-packages (from nbconvert>=6.4.4->jupyter-server<3,>=2.4.0->notebook>=5.2.0->google-colab) (6.1.0)\n",
      "Requirement already satisfied: defusedxml in /home/studio-lab-user/.conda/envs/default/lib/python3.9/site-packages (from nbconvert>=6.4.4->jupyter-server<3,>=2.4.0->notebook>=5.2.0->google-colab) (0.7.1)\n",
      "Requirement already satisfied: webencodings in /home/studio-lab-user/.conda/envs/default/lib/python3.9/site-packages (from bleach!=5.0.0->nbconvert>=6.4.4->jupyter-server<3,>=2.4.0->notebook>=5.2.0->google-colab) (0.5.1)\n",
      "Requirement already satisfied: fastjsonschema>=2.15 in /home/studio-lab-user/.conda/envs/default/lib/python3.9/site-packages (from nbformat>=5.3.0->jupyter-server<3,>=2.4.0->notebook>=5.2.0->google-colab) (2.19.1)\n",
      "Requirement already satisfied: pytz>=2020.1 in /home/studio-lab-user/.conda/envs/default/lib/python3.9/site-packages (from pandas>=0.24.0->google-colab) (2024.1)\n",
      "Requirement already satisfied: numpy>=1.22.4 in /home/studio-lab-user/.conda/envs/default/lib/python3.9/site-packages (from pandas>=0.24.0->google-colab) (2.0.2)\n",
      "Requirement already satisfied: tzdata>=2022.7 in /home/studio-lab-user/.conda/envs/default/lib/python3.9/site-packages (from pandas>=0.24.0->google-colab) (2024.2)\n",
      "Requirement already satisfied: ptyprocess>=0.5 in /home/studio-lab-user/.conda/envs/default/lib/python3.9/site-packages (from pexpect>4.3->ipython>=5.5.0->google-colab) (0.7.0)\n",
      "Requirement already satisfied: psutil in /home/studio-lab-user/.conda/envs/default/lib/python3.9/site-packages (from portpicker>=1.2.0->google-colab) (6.0.0)\n",
      "Requirement already satisfied: wcwidth in /home/studio-lab-user/.conda/envs/default/lib/python3.9/site-packages (from prompt-toolkit!=3.0.0,!=3.0.1,<3.1.0,>=2.0.0->ipython>=5.5.0->google-colab) (0.2.13)\n",
      "Requirement already satisfied: pyasn1<0.7.0,>=0.4.6 in /home/studio-lab-user/.conda/envs/default/lib/python3.9/site-packages (from pyasn1-modules>=0.2.1->google-auth>=1.4.0->google-colab) (0.6.1)\n",
      "Requirement already satisfied: urllib3<3,>=1.21.1 in /home/studio-lab-user/.conda/envs/default/lib/python3.9/site-packages (from requests>=2.21.0->google-colab) (2.2.1)\n",
      "Requirement already satisfied: charset-normalizer<4,>=2 in /home/studio-lab-user/.conda/envs/default/lib/python3.9/site-packages (from requests>=2.21.0->google-colab) (3.3.2)\n",
      "Requirement already satisfied: cffi>=1.0.1 in /home/studio-lab-user/.conda/envs/default/lib/python3.9/site-packages (from argon2-cffi-bindings->argon2-cffi>=21.1->jupyter-server<3,>=2.4.0->notebook>=5.2.0->google-colab) (1.16.0)\n",
      "Requirement already satisfied: pycparser in /home/studio-lab-user/.conda/envs/default/lib/python3.9/site-packages (from cffi>=1.0.1->argon2-cffi-bindings->argon2-cffi>=21.1->jupyter-server<3,>=2.4.0->notebook>=5.2.0->google-colab) (2.22)\n",
      "Requirement already satisfied: soupsieve>1.2 in /home/studio-lab-user/.conda/envs/default/lib/python3.9/site-packages (from beautifulsoup4->nbconvert>=6.4.4->jupyter-server<3,>=2.4.0->notebook>=5.2.0->google-colab) (2.5)\n",
      "Requirement already satisfied: arrow>=0.15.0 in /home/studio-lab-user/.conda/envs/default/lib/python3.9/site-packages (from isoduration->jsonschema[format-nongpl]>=4.18.0->jupyter-events>=0.9.0->jupyter-server<3,>=2.4.0->notebook>=5.2.0->google-colab) (1.3.0)\n",
      "Requirement already satisfied: types-python-dateutil>=2.8.10 in /home/studio-lab-user/.conda/envs/default/lib/python3.9/site-packages (from arrow>=0.15.0->isoduration->jsonschema[format-nongpl]>=4.18.0->jupyter-events>=0.9.0->jupyter-server<3,>=2.4.0->notebook>=5.2.0->google-colab) (2.9.0.20240316)\n",
      "Note: you may need to restart the kernel to use updated packages.\n",
      "Requirement already satisfied: matplotlib in /home/studio-lab-user/.conda/envs/default/lib/python3.9/site-packages (3.9.2)\n",
      "Requirement already satisfied: packaging>=20.0 in /home/studio-lab-user/.conda/envs/default/lib/python3.9/site-packages (from matplotlib) (24.0)\n",
      "Requirement already satisfied: pillow>=8 in /home/studio-lab-user/.conda/envs/default/lib/python3.9/site-packages (from matplotlib) (11.0.0)\n",
      "Requirement already satisfied: python-dateutil>=2.7 in /home/studio-lab-user/.conda/envs/default/lib/python3.9/site-packages (from matplotlib) (2.9.0)\n",
      "Requirement already satisfied: numpy>=1.23 in /home/studio-lab-user/.conda/envs/default/lib/python3.9/site-packages (from matplotlib) (2.0.2)\n",
      "Requirement already satisfied: contourpy>=1.0.1 in /home/studio-lab-user/.conda/envs/default/lib/python3.9/site-packages (from matplotlib) (1.3.0)\n",
      "Requirement already satisfied: cycler>=0.10 in /home/studio-lab-user/.conda/envs/default/lib/python3.9/site-packages (from matplotlib) (0.12.1)\n",
      "Requirement already satisfied: fonttools>=4.22.0 in /home/studio-lab-user/.conda/envs/default/lib/python3.9/site-packages (from matplotlib) (4.54.1)\n",
      "Requirement already satisfied: kiwisolver>=1.3.1 in /home/studio-lab-user/.conda/envs/default/lib/python3.9/site-packages (from matplotlib) (1.4.7)\n",
      "Requirement already satisfied: importlib-resources>=3.2.0 in /home/studio-lab-user/.conda/envs/default/lib/python3.9/site-packages (from matplotlib) (6.4.5)\n",
      "Requirement already satisfied: pyparsing>=2.3.1 in /home/studio-lab-user/.conda/envs/default/lib/python3.9/site-packages (from matplotlib) (3.2.0)\n",
      "Requirement already satisfied: zipp>=3.1.0 in /home/studio-lab-user/.conda/envs/default/lib/python3.9/site-packages (from importlib-resources>=3.2.0->matplotlib) (3.17.0)\n",
      "Requirement already satisfied: six>=1.5 in /home/studio-lab-user/.conda/envs/default/lib/python3.9/site-packages (from python-dateutil>=2.7->matplotlib) (1.16.0)\n",
      "Note: you may need to restart the kernel to use updated packages.\n",
      "Collecting tensorflow\n",
      "  Downloading tensorflow-2.17.0-cp39-cp39-manylinux_2_17_x86_64.manylinux2014_x86_64.whl (601.3 MB)\n",
      "\u001b[K     |████████████████████████████████| 601.3 MB 13 kB/s s eta 0:00:0134 MB 4.6 MB/s eta 0:02:02MB/s eta 0:00:040:04\n",
      "\u001b[?25hCollecting h5py>=3.10.0\n",
      "  Downloading h5py-3.12.1-cp39-cp39-manylinux_2_17_x86_64.manylinux2014_x86_64.whl (5.4 MB)\n",
      "\u001b[K     |████████████████████████████████| 5.4 MB 29.7 MB/s eta 0:00:01\n",
      "\u001b[?25hCollecting astunparse>=1.6.0\n",
      "  Downloading astunparse-1.6.3-py2.py3-none-any.whl (12 kB)\n",
      "Collecting keras>=3.2.0\n",
      "  Downloading keras-3.6.0-py3-none-any.whl (1.2 MB)\n",
      "\u001b[K     |████████████████████████████████| 1.2 MB 19.0 MB/s eta 0:00:01\n",
      "\u001b[?25hCollecting tensorflow-io-gcs-filesystem>=0.23.1\n",
      "  Downloading tensorflow_io_gcs_filesystem-0.37.1-cp39-cp39-manylinux_2_17_x86_64.manylinux2014_x86_64.whl (5.1 MB)\n",
      "\u001b[K     |████████████████████████████████| 5.1 MB 18.8 MB/s eta 0:00:01\n",
      "\u001b[?25hCollecting wrapt>=1.11.0\n",
      "  Downloading wrapt-1.16.0-cp39-cp39-manylinux_2_5_x86_64.manylinux1_x86_64.manylinux_2_17_x86_64.manylinux2014_x86_64.whl (80 kB)\n",
      "\u001b[K     |████████████████████████████████| 80 kB 12.8 MB/s eta 0:00:01\n",
      "\u001b[?25hCollecting ml-dtypes<0.5.0,>=0.3.1\n",
      "  Downloading ml_dtypes-0.4.1-cp39-cp39-manylinux_2_17_x86_64.manylinux2014_x86_64.whl (2.2 MB)\n",
      "\u001b[K     |████████████████████████████████| 2.2 MB 23.4 MB/s eta 0:00:01\n",
      "\u001b[?25hRequirement already satisfied: typing-extensions>=3.6.6 in /home/studio-lab-user/.conda/envs/default/lib/python3.9/site-packages (from tensorflow) (4.11.0)\n",
      "Requirement already satisfied: setuptools in /home/studio-lab-user/.conda/envs/default/lib/python3.9/site-packages (from tensorflow) (70.0.0)\n",
      "Collecting tensorboard<2.18,>=2.17\n",
      "  Downloading tensorboard-2.17.1-py3-none-any.whl (5.5 MB)\n",
      "\u001b[K     |████████████████████████████████| 5.5 MB 28.2 MB/s eta 0:00:01\n",
      "\u001b[?25hCollecting flatbuffers>=24.3.25\n",
      "  Downloading flatbuffers-24.3.25-py2.py3-none-any.whl (26 kB)\n",
      "Collecting opt-einsum>=2.3.2\n",
      "  Downloading opt_einsum-3.4.0-py3-none-any.whl (71 kB)\n",
      "\u001b[K     |████████████████████████████████| 71 kB 796 kB/s  eta 0:00:01\n",
      "\u001b[?25hCollecting protobuf!=4.21.0,!=4.21.1,!=4.21.2,!=4.21.3,!=4.21.4,!=4.21.5,<5.0.0dev,>=3.20.3\n",
      "  Downloading protobuf-4.25.5-cp37-abi3-manylinux2014_x86_64.whl (294 kB)\n",
      "\u001b[K     |████████████████████████████████| 294 kB 26.8 MB/s eta 0:00:01\n",
      "\u001b[?25hRequirement already satisfied: requests<3,>=2.21.0 in /home/studio-lab-user/.conda/envs/default/lib/python3.9/site-packages (from tensorflow) (2.32.3)\n",
      "Collecting grpcio<2.0,>=1.24.3\n",
      "  Downloading grpcio-1.67.0-cp39-cp39-manylinux_2_17_x86_64.manylinux2014_x86_64.whl (5.9 MB)\n",
      "\u001b[K     |████████████████████████████████| 5.9 MB 29.6 MB/s eta 0:00:01\n",
      "\u001b[?25hCollecting numpy<2.0.0,>=1.23.5\n",
      "  Downloading numpy-1.26.4-cp39-cp39-manylinux_2_17_x86_64.manylinux2014_x86_64.whl (18.2 MB)\n",
      "\u001b[K     |████████████████████████████████| 18.2 MB 20.4 MB/s eta 0:00:01\n",
      "\u001b[?25hCollecting libclang>=13.0.0\n",
      "  Downloading libclang-18.1.1-py2.py3-none-manylinux2010_x86_64.whl (24.5 MB)\n",
      "\u001b[K     |████████████████████████████████| 24.5 MB 35.7 MB/s eta 0:00:01\n",
      "\u001b[?25hCollecting absl-py>=1.0.0\n",
      "  Downloading absl_py-2.1.0-py3-none-any.whl (133 kB)\n",
      "\u001b[K     |████████████████████████████████| 133 kB 26.1 MB/s eta 0:00:01\n",
      "\u001b[?25hRequirement already satisfied: six>=1.12.0 in /home/studio-lab-user/.conda/envs/default/lib/python3.9/site-packages (from tensorflow) (1.16.0)\n",
      "Collecting gast!=0.5.0,!=0.5.1,!=0.5.2,>=0.2.1\n",
      "  Downloading gast-0.6.0-py3-none-any.whl (21 kB)\n",
      "Collecting termcolor>=1.1.0\n",
      "  Downloading termcolor-2.5.0-py3-none-any.whl (7.8 kB)\n",
      "Collecting google-pasta>=0.1.1\n",
      "  Downloading google_pasta-0.2.0-py3-none-any.whl (57 kB)\n",
      "\u001b[K     |████████████████████████████████| 57 kB 7.6 MB/s  eta 0:00:01\n",
      "\u001b[?25hRequirement already satisfied: packaging in /home/studio-lab-user/.conda/envs/default/lib/python3.9/site-packages (from tensorflow) (24.0)\n",
      "Requirement already satisfied: wheel<1.0,>=0.23.0 in /home/studio-lab-user/.conda/envs/default/lib/python3.9/site-packages (from astunparse>=1.6.0->tensorflow) (0.43.0)\n",
      "Collecting namex\n",
      "  Downloading namex-0.0.8-py3-none-any.whl (5.8 kB)\n",
      "Collecting rich\n",
      "  Downloading rich-13.9.3-py3-none-any.whl (242 kB)\n",
      "\u001b[K     |████████████████████████████████| 242 kB 49.1 MB/s eta 0:00:01\n",
      "\u001b[?25hCollecting optree\n",
      "  Downloading optree-0.13.0-cp39-cp39-manylinux_2_17_x86_64.manylinux2014_x86_64.whl (358 kB)\n",
      "\u001b[K     |████████████████████████████████| 358 kB 28.8 MB/s eta 0:00:01\n",
      "\u001b[?25hRequirement already satisfied: certifi>=2017.4.17 in /home/studio-lab-user/.conda/envs/default/lib/python3.9/site-packages (from requests<3,>=2.21.0->tensorflow) (2024.8.30)\n",
      "Requirement already satisfied: charset-normalizer<4,>=2 in /home/studio-lab-user/.conda/envs/default/lib/python3.9/site-packages (from requests<3,>=2.21.0->tensorflow) (3.3.2)\n",
      "Requirement already satisfied: urllib3<3,>=1.21.1 in /home/studio-lab-user/.conda/envs/default/lib/python3.9/site-packages (from requests<3,>=2.21.0->tensorflow) (2.2.1)\n",
      "Requirement already satisfied: idna<4,>=2.5 in /home/studio-lab-user/.conda/envs/default/lib/python3.9/site-packages (from requests<3,>=2.21.0->tensorflow) (3.7)\n",
      "Collecting markdown>=2.6.8\n",
      "  Downloading Markdown-3.7-py3-none-any.whl (106 kB)\n",
      "\u001b[K     |████████████████████████████████| 106 kB 43.1 MB/s eta 0:00:01\n",
      "\u001b[?25hCollecting tensorboard-data-server<0.8.0,>=0.7.0\n",
      "  Downloading tensorboard_data_server-0.7.2-py3-none-manylinux_2_31_x86_64.whl (6.6 MB)\n",
      "\u001b[K     |████████████████████████████████| 6.6 MB 19.8 MB/s eta 0:00:01\n",
      "\u001b[?25hCollecting werkzeug>=1.0.1\n",
      "  Downloading werkzeug-3.0.4-py3-none-any.whl (227 kB)\n",
      "\u001b[K     |████████████████████████████████| 227 kB 40.6 MB/s eta 0:00:01\n",
      "\u001b[?25hRequirement already satisfied: importlib-metadata>=4.4 in /home/studio-lab-user/.conda/envs/default/lib/python3.9/site-packages (from markdown>=2.6.8->tensorboard<2.18,>=2.17->tensorflow) (7.1.0)\n",
      "Requirement already satisfied: zipp>=0.5 in /home/studio-lab-user/.conda/envs/default/lib/python3.9/site-packages (from importlib-metadata>=4.4->markdown>=2.6.8->tensorboard<2.18,>=2.17->tensorflow) (3.17.0)\n",
      "Requirement already satisfied: MarkupSafe>=2.1.1 in /home/studio-lab-user/.conda/envs/default/lib/python3.9/site-packages (from werkzeug>=1.0.1->tensorboard<2.18,>=2.17->tensorflow) (2.1.5)\n",
      "Requirement already satisfied: pygments<3.0.0,>=2.13.0 in /home/studio-lab-user/.conda/envs/default/lib/python3.9/site-packages (from rich->keras>=3.2.0->tensorflow) (2.18.0)\n",
      "Collecting markdown-it-py>=2.2.0\n",
      "  Downloading markdown_it_py-3.0.0-py3-none-any.whl (87 kB)\n",
      "\u001b[K     |████████████████████████████████| 87 kB 15.0 MB/s eta 0:00:01\n",
      "\u001b[?25hCollecting mdurl~=0.1\n",
      "  Downloading mdurl-0.1.2-py3-none-any.whl (10.0 kB)\n",
      "Installing collected packages: mdurl, numpy, markdown-it-py, werkzeug, tensorboard-data-server, rich, protobuf, optree, namex, ml-dtypes, markdown, h5py, grpcio, absl-py, wrapt, termcolor, tensorflow-io-gcs-filesystem, tensorboard, opt-einsum, libclang, keras, google-pasta, gast, flatbuffers, astunparse, tensorflow\n",
      "  Attempting uninstall: numpy\n",
      "    Found existing installation: numpy 2.0.2\n",
      "    Uninstalling numpy-2.0.2:\n",
      "      Successfully uninstalled numpy-2.0.2\n",
      "Successfully installed absl-py-2.1.0 astunparse-1.6.3 flatbuffers-24.3.25 gast-0.6.0 google-pasta-0.2.0 grpcio-1.67.0 h5py-3.12.1 keras-3.6.0 libclang-18.1.1 markdown-3.7 markdown-it-py-3.0.0 mdurl-0.1.2 ml-dtypes-0.4.1 namex-0.0.8 numpy-1.26.4 opt-einsum-3.4.0 optree-0.13.0 protobuf-4.25.5 rich-13.9.3 tensorboard-2.17.1 tensorboard-data-server-0.7.2 tensorflow-2.17.0 tensorflow-io-gcs-filesystem-0.37.1 termcolor-2.5.0 werkzeug-3.0.4 wrapt-1.16.0\n",
      "Note: you may need to restart the kernel to use updated packages.\n"
     ]
    }
   ],
   "source": [
    "!pip install opencv\n",
    "!pip install google-colab\n",
    "!pip install matplotlib\n",
    "!pip install tensorflow\n",
    "!pip install scipy"
   ]
  },
  {
   "cell_type": "code",
   "execution_count": 2,
   "metadata": {
    "colab": {
     "base_uri": "https://localhost:8080/"
    },
    "executionInfo": {
     "elapsed": 2434,
     "status": "ok",
     "timestamp": 1729740176632,
     "user": {
      "displayName": "daniel soria",
      "userId": "10185820582160562446"
     },
     "user_tz": 300
    },
    "id": "qwPt9Mv0cRRU",
    "outputId": "867499ac-0173-4ca0-cf96-34a44680daf6",
    "tags": []
   },
   "outputs": [
    {
     "name": "stdout",
     "output_type": "stream",
     "text": [
      "Collecting kaggle\n",
      "  Using cached kaggle-1.6.17-py3-none-any.whl\n",
      "Installing collected packages: kaggle\n",
      "  Attempting uninstall: kaggle\n",
      "    Found existing installation: kaggle 1.6.17\n",
      "    Uninstalling kaggle-1.6.17:\n",
      "      Successfully uninstalled kaggle-1.6.17\n",
      "Successfully installed kaggle-1.6.17\n"
     ]
    }
   ],
   "source": [
    "!pip install --upgrade --force-reinstall --no-deps kaggle"
   ]
  },
  {
   "cell_type": "code",
   "execution_count": 4,
   "metadata": {
    "colab": {
     "base_uri": "https://localhost:8080/",
     "height": 92
    },
    "collapsed": true,
    "executionInfo": {
     "elapsed": 7204,
     "status": "ok",
     "timestamp": 1729740185579,
     "user": {
      "displayName": "daniel soria",
      "userId": "10185820582160562446"
     },
     "user_tz": 300
    },
    "id": "So5bwu9dnrLu",
    "jupyter": {
     "outputs_hidden": true
    },
    "outputId": "192d3ed9-2854-4a59-8846-67243fa8291d",
    "tags": []
   },
   "outputs": [
    {
     "name": "stdout",
     "output_type": "stream",
     "text": [
      "Requirement already satisfied: kaggle in /home/studio-lab-user/.conda/envs/default/lib/python3.9/site-packages (1.6.17)\n",
      "Requirement already satisfied: python-dateutil in /home/studio-lab-user/.conda/envs/default/lib/python3.9/site-packages (from kaggle) (2.9.0)\n",
      "Requirement already satisfied: urllib3 in /home/studio-lab-user/.conda/envs/default/lib/python3.9/site-packages (from kaggle) (2.2.1)\n",
      "Requirement already satisfied: requests in /home/studio-lab-user/.conda/envs/default/lib/python3.9/site-packages (from kaggle) (2.32.3)\n",
      "Requirement already satisfied: certifi>=2023.7.22 in /home/studio-lab-user/.conda/envs/default/lib/python3.9/site-packages (from kaggle) (2024.8.30)\n",
      "Requirement already satisfied: tqdm in /home/studio-lab-user/.conda/envs/default/lib/python3.9/site-packages (from kaggle) (4.66.5)\n",
      "Requirement already satisfied: python-slugify in /home/studio-lab-user/.conda/envs/default/lib/python3.9/site-packages (from kaggle) (8.0.4)\n",
      "Requirement already satisfied: bleach in /home/studio-lab-user/.conda/envs/default/lib/python3.9/site-packages (from kaggle) (6.1.0)\n",
      "Requirement already satisfied: six>=1.10 in /home/studio-lab-user/.conda/envs/default/lib/python3.9/site-packages (from kaggle) (1.16.0)\n",
      "Requirement already satisfied: webencodings in /home/studio-lab-user/.conda/envs/default/lib/python3.9/site-packages (from bleach->kaggle) (0.5.1)\n",
      "Requirement already satisfied: text-unidecode>=1.3 in /home/studio-lab-user/.conda/envs/default/lib/python3.9/site-packages (from python-slugify->kaggle) (1.3)\n",
      "Requirement already satisfied: charset-normalizer<4,>=2 in /home/studio-lab-user/.conda/envs/default/lib/python3.9/site-packages (from requests->kaggle) (3.3.2)\n",
      "Requirement already satisfied: idna<4,>=2.5 in /home/studio-lab-user/.conda/envs/default/lib/python3.9/site-packages (from requests->kaggle) (3.7)\n"
     ]
    }
   ],
   "source": [
    "# Seleccionar el API Token personal previamente descargado (fichero kaggle.json)\n",
    "!pip install --upgrade kaggle"
   ]
  },
  {
   "cell_type": "code",
   "execution_count": 6,
   "metadata": {
    "tags": []
   },
   "outputs": [],
   "source": [
    "!mkdir -p ~/.kaggle"
   ]
  },
  {
   "cell_type": "code",
   "execution_count": 7,
   "metadata": {
    "executionInfo": {
     "elapsed": 432,
     "status": "ok",
     "timestamp": 1729740191706,
     "user": {
      "displayName": "daniel soria",
      "userId": "10185820582160562446"
     },
     "user_tz": 300
    },
    "id": "QHG46rMAoAtR",
    "tags": []
   },
   "outputs": [],
   "source": [
    "# Creamos un directorio en el que copiamos el fichero kaggle.json\n",
    "!mkdir -p ~/.kaggle\n",
    "!cp kaggle.json ~/.kaggle/\n",
    "!chmod 600 ~/.kaggle/kaggle.json"
   ]
  },
  {
   "cell_type": "code",
   "execution_count": 8,
   "metadata": {
    "colab": {
     "base_uri": "https://localhost:8080/"
    },
    "collapsed": true,
    "executionInfo": {
     "elapsed": 2477,
     "status": "ok",
     "timestamp": 1729740197123,
     "user": {
      "displayName": "daniel soria",
      "userId": "10185820582160562446"
     },
     "user_tz": 300
    },
    "id": "ITrzVyiOAogH",
    "jupyter": {
     "outputs_hidden": true
    },
    "outputId": "88d95830-51ac-4997-e726-a44d5782376a",
    "tags": []
   },
   "outputs": [
    {
     "name": "stdout",
     "output_type": "stream",
     "text": [
      "ref                                                          title                                           size  lastUpdated          downloadCount  voteCount  usabilityRating  \n",
      "-----------------------------------------------------------  ---------------------------------------------  -----  -------------------  -------------  ---------  ---------------  \n",
      "valakhorasani/mobile-device-usage-and-user-behavior-dataset  Mobile Device Usage and User Behavior Dataset   11KB  2024-09-28 20:21:12          12123        242  1.0              \n",
      "arslaan5/explore-car-performance-fuel-efficiency-data        Explore Car Performance: Fuel Efficiency Data    5KB  2024-10-17 16:35:59           1160         26  1.0              \n",
      "hasibur013/diabetes-dataset                                  Diabetes Dataset                                 9KB  2024-10-22 02:10:36            972         28  1.0              \n",
      "valakhorasani/gym-members-exercise-dataset                   Gym Members Exercise Dataset                    22KB  2024-10-06 11:27:38           6308        104  1.0              \n",
      "mexwell/google-merchandise-sales-data                        👕 Google Merchandise Sales Data                  5MB  2024-10-16 08:44:05           1343         21  1.0              \n",
      "lainguyn123/student-performance-factors                      Student Performance Factors                     94KB  2024-09-02 10:53:57          40977        703  1.0              \n",
      "satvshr/top-4-used-car-sales-datasets-combined               Top 4 Used Car Sales Datasets Combined         446KB  2024-10-21 13:20:56           1677         29  0.9411765        \n",
      "ankulsharma150/netflix-data-analysis                         Netflix Data Analysis                            1MB  2024-10-15 08:02:26           2562         33  1.0              \n",
      "bhadramohit/credit-card-fraud-detection                      Credit Card Fraud Detection                      2MB  2024-10-21 09:26:17            874         21  1.0              \n",
      "haseefalam/crime-dataset                                     Crime Dataset                                   47MB  2024-09-27 11:23:22           1592         31  1.0              \n",
      "arsalanjamal002/student-sleep-patterns                       Student Sleep Patterns                          11KB  2024-10-14 06:47:21           2285         34  0.7647059        \n",
      "abdulszz/spotify-most-streamed-songs                         Spotify Most Streamed Songs                     60KB  2024-09-07 18:23:14          16358        208  1.0              \n",
      "aravinii/house-price-prediction-treated-dataset              House Price Prediction Treated Dataset         279KB  2024-10-22 01:17:46           1786         29  1.0              \n",
      "patricklford/largest-companies-analysis-worldwide            World Top Companies: Key Financial Analysis      1MB  2024-10-01 14:11:29           2061         29  1.0              \n",
      "octopusteam/imdb-top-rated-titles-movies-and-tv-series       IMDb Top Rated Titles (Movies & TV Series)     140KB  2024-10-25 08:00:13            999         30  1.0              \n",
      "waqi786/remote-work-and-mental-health                        Remote Work & Mental Health 🌍🧠                  93KB  2024-09-22 11:44:29           8102        107  1.0              \n",
      "octopusteam/imdb-top-1000-tv-series                          IMDb Top 1000 TV Series                         23KB  2024-10-25 08:00:06           1120         26  1.0              \n",
      "assemelqirsh/covid19-dataset                                 Covid19_Dataset                                 10MB  2024-10-01 11:30:44           2013         27  1.0              \n",
      "willianoliveiragibin/imports-exports-v23                     Imports_Exports V23                            863KB  2024-10-12 18:11:46            944         22  1.0              \n",
      "mohamedyosef101/2024-olympics-medals-and-economic-status     2024 Olympics Medals and Economic status         2KB  2024-10-13 12:39:58           2253         30  1.0              \n"
     ]
    }
   ],
   "source": [
    "# Listar los datasets disponibles en kaggle para su descarga\n",
    "!kaggle datasets list"
   ]
  },
  {
   "cell_type": "code",
   "execution_count": 9,
   "metadata": {
    "colab": {
     "base_uri": "https://localhost:8080/"
    },
    "executionInfo": {
     "elapsed": 1584,
     "status": "ok",
     "timestamp": 1729740206540,
     "user": {
      "displayName": "daniel soria",
      "userId": "10185820582160562446"
     },
     "user_tz": 300
    },
    "id": "0C-dorNv3z9S",
    "outputId": "2572a13a-ac1c-48e6-8cdc-76364f03343c",
    "tags": []
   },
   "outputs": [
    {
     "name": "stdout",
     "output_type": "stream",
     "text": [
      "Dataset URL: https://www.kaggle.com/datasets/chazzer/smiling-or-not-face-data\n",
      "License(s): CC0-1.0\n",
      "Downloading smiling-or-not-face-data.zip to /home/studio-lab-user/sagemaker-studiolab-notebooks/Proyecto_Programacion_G14/deeplearning\n",
      " 56%|█████████████████████                 | 10.0M/18.0M [00:00<00:00, 34.7MB/s]\n",
      "100%|██████████████████████████████████████| 18.0M/18.0M [00:00<00:00, 54.3MB/s]\n"
     ]
    }
   ],
   "source": [
    "!kaggle datasets download chazzer/smiling-or-not-face-data"
   ]
  },
  {
   "cell_type": "code",
   "execution_count": 20,
   "metadata": {
    "colab": {
     "base_uri": "https://localhost:8080/"
    },
    "executionInfo": {
     "elapsed": 473,
     "status": "ok",
     "timestamp": 1729740230672,
     "user": {
      "displayName": "daniel soria",
      "userId": "10185820582160562446"
     },
     "user_tz": 300
    },
    "id": "SV9ZYarbuahL",
    "outputId": "3c5fb5de-6af2-437b-f062-e3d623c93347"
   },
   "outputs": [
    {
     "name": "stdout",
     "output_type": "stream",
     "text": [
      "Ruta pricipal: my_dataset/\n"
     ]
    }
   ],
   "source": [
    "# Definimos ruta del dataset (donde se descargaron las imágenes)\n",
    "dataset_path = 'my_dataset/'\n",
    "print(f'Ruta pricipal: {dataset_path}')"
   ]
  },
  {
   "cell_type": "code",
   "execution_count": 11,
   "metadata": {
    "executionInfo": {
     "elapsed": 422,
     "status": "ok",
     "timestamp": 1729740234095,
     "user": {
      "displayName": "daniel soria",
      "userId": "10185820582160562446"
     },
     "user_tz": 300
    },
    "id": "JB1dCRRqHidH"
   },
   "outputs": [],
   "source": [
    "# Creemos un directorio para descomprimir los datos con la opción p si no existe no se crea\n",
    "!mkdir -p $dataset_path"
   ]
  },
  {
   "cell_type": "code",
   "execution_count": 12,
   "metadata": {
    "colab": {
     "base_uri": "https://localhost:8080/",
     "height": 365
    },
    "id": "I6Uy_9OPHnUJ",
    "outputId": "cf288675-c465-4292-ead8-a13bf2e61ddb",
    "tags": []
   },
   "outputs": [],
   "source": [
    "# Descomprimir el archivo ZIP en la carpeta de destino\n",
    "with zipfile.ZipFile('smiling-or-not-face-data.zip', 'r') as zip_ref:\n",
    "    zip_ref.extractall(dataset_path)"
   ]
  },
  {
   "cell_type": "markdown",
   "metadata": {},
   "source": [
    "Dado que para este Dataset de Kaggle dispone de 1203 muestras etiquetadas y 12000 muestras no etiquetadas en la carpeta \"test\", vamos a copiar el 10% del conjunto de entrenamiento (120 muestras) a la carpeta test_samples y manualmente las vamos a etiquetar moviéndolas a los directorios \"smile\" y \"non_smile\". "
   ]
  },
  {
   "cell_type": "code",
   "execution_count": null,
   "metadata": {},
   "outputs": [],
   "source": [
    "# Definir la ruta de la carpeta de origen y destino\n",
    "dataset_path_org = dataset_path + 'test'\n",
    "dataset_path_dest = dataset_path + 'test_samples'\n",
    "dataset_path_test_smile = dataset_path + 'test_samples/smile'\n",
    "dataset_path_test_non_smile = dataset_path + 'test_samples/non_smile'\n",
    "\n",
    "# Crear las carpetas si no existen\n",
    "if not os.path.exists(dataset_path_dest):\n",
    "  print(f'no existe direcytorio {dataset_path_dest}')\n",
    "  !mkdir -p $dataset_path_dest\n",
    "if not os.path.exists(dataset_path_test_smile):\n",
    "  print(f'no existe direcytorio {dataset_path_test_smile}')\n",
    "  !mkdir -p $dataset_path_test_smile\n",
    "if not os.path.exists(dataset_path_test_non_smile):\n",
    "  print(f'no existe direcytorio {dataset_path_test_non_smile}')\n",
    "  !mkdir -p $dataset_path_test_non_smile\n",
    "    \n",
    "# Obtener una lista de todos los archivos en la carpeta de origen\n",
    "all_test_files = os.listdir(dataset_path_org)\n",
    "\n",
    "# Seleccionar 120 archivos al azar\n",
    "random.seed(42)\n",
    "random_files = random.sample(all_test_files, 120)\n",
    "\n",
    "# Copiar los archivos seleccionados a la carpeta de destino\n",
    "for file in random_files:\n",
    "    src_path = os.path.join(dataset_path_org, file)\n",
    "    dst_path = os.path.join(dataset_path_dest, file)\n",
    "    shutil.copyfile(src_path, dst_path)\n",
    "    print(f\"Archivo copiado: {file}\")\n",
    "\n",
    "# Luego manualmente se etiquetaron las 120 muestras y se movieron a lso directorios \"smile\" y \"non_smile\" dentro de la carrpeta \"test_samples\""
   ]
  },
  {
   "cell_type": "markdown",
   "metadata": {
    "tags": []
   },
   "source": [
    "#### 1.2 Importación de todas las librerias necesarias"
   ]
  },
  {
   "cell_type": "code",
   "execution_count": 9,
   "metadata": {},
   "outputs": [],
   "source": [
    "import os\n",
    "import cv2\n",
    "import random\n",
    "import matplotlib.pyplot as plt\n",
    "import pandas as pd\n",
    "import matplotlib.pyplot as plt\n",
    "import numpy as np\n",
    "from tensorflow.keras.preprocessing.image import ImageDataGenerator\n",
    "import shutil\n",
    "import zipfile\n",
    "from tensorflow.keras.models import Sequential\n",
    "from tensorflow.keras import layers\n",
    "import tensorflow as tf\n",
    "from tensorflow.keras import callbacks\n",
    "from keras import regularizers"
   ]
  },
  {
   "cell_type": "markdown",
   "metadata": {
    "id": "gCsSmxKkOByS"
   },
   "source": [
    "#### 1.3 Formación del conjunto de datos de entrenamiento"
   ]
  },
  {
   "cell_type": "code",
   "execution_count": 2,
   "metadata": {
    "colab": {
     "base_uri": "https://localhost:8080/"
    },
    "executionInfo": {
     "elapsed": 297,
     "status": "ok",
     "timestamp": 1729701588594,
     "user": {
      "displayName": "daniel soria",
      "userId": "10185820582160562446"
     },
     "user_tz": 300
    },
    "id": "z0qmah5F1a4c",
    "outputId": "10d6c2ad-786d-435f-d43d-ca62f71c13aa"
   },
   "outputs": [
    {
     "name": "stdout",
     "output_type": "stream",
     "text": [
      "Ruta pricipal: my_dataset/\n",
      "Cantidad de imagenes de la clase smile 600\n",
      "Cantidad de imagenes de la clase non_smile 603\n",
      "Cantidad total de imagenes (1203, 2)\n"
     ]
    }
   ],
   "source": [
    "\n",
    "# Definimos una función que separa las imagenes por clases y le agrega una etiqueta de clase\n",
    "def clasificacion_imagenes(dataset_path):\n",
    "  classes = ['smile','non_smile'] # Lista de clases específicas (subdirectorios) a considerar\n",
    "  all_images = []\n",
    "  all_labels = []\n",
    "  for class_name in classes:\n",
    "    class_path = os.path.join(dataset_path, class_name)\n",
    "    class_images = [os.path.join(class_path, img) for img in os.listdir(class_path)]\n",
    "    print(f'Cantidad de imagenes de la clase {class_name} {len(class_images)}')\n",
    "    all_images.extend(class_images)\n",
    "    all_labels.extend([class_name] * len(class_images))\n",
    "  return all_images, all_labels\n",
    "\n",
    "# Definimos ruta del dataset (donde se descargaron las imágenes)\n",
    "dataset_path = 'my_dataset/'\n",
    "print(f'Ruta pricipal: {dataset_path}')\n",
    "\n",
    "# Listar las subcarpetas en el directorio\n",
    "subfolders = [f for f in os.listdir(dataset_path) if os.path.isdir(os.path.join(dataset_path, f))]\n",
    "\n",
    "# Obtener la lista de todas las imágenes de entrenamiento y sus etiquetas\n",
    "all_train_images = []\n",
    "all_train_labels = []\n",
    "\n",
    "# Rellenamos la lista con las imagenes y sus clases para el dataframe de entrenamiento y validación\n",
    "all_train_images, all_train_labels = clasificacion_imagenes(dataset_path)\n",
    "\n",
    "# Creamos un DataFrame con las rutas de las imágenes y sus etiquetas para el set de entrenamiento\n",
    "df_train = pd.DataFrame({'filename': all_train_images, 'class': all_train_labels})\n",
    "\n",
    "# Mezclamos aleatoriamente los datos\n",
    "df_train = df_train.sample(frac=1).reset_index(drop=True)\n",
    "print(f'Cantidad total de imagenes {df_train.shape}')"
   ]
  },
  {
   "cell_type": "markdown",
   "metadata": {},
   "source": [
    "#### 1.4 Formación del conjunto de datos de test"
   ]
  },
  {
   "cell_type": "code",
   "execution_count": 3,
   "metadata": {
    "colab": {
     "base_uri": "https://localhost:8080/",
     "height": 88
    },
    "executionInfo": {
     "elapsed": 900,
     "status": "ok",
     "timestamp": 1729701839465,
     "user": {
      "displayName": "daniel soria",
      "userId": "10185820582160562446"
     },
     "user_tz": 300
    },
    "id": "w3P79dPChGZd",
    "outputId": "fde40384-51d3-4956-c401-c63d0532d082"
   },
   "outputs": [
    {
     "name": "stdout",
     "output_type": "stream",
     "text": [
      "Cantidad de imagenes de la clase smile 38\n",
      "Cantidad de imagenes de la clase non_smile 82\n"
     ]
    },
    {
     "data": {
      "text/plain": [
       "120"
      ]
     },
     "metadata": {},
     "output_type": "display_data"
    }
   ],
   "source": [
    "# Obtener la lista de todas las imágenes de entrenamiento y sus etiquetas\n",
    "all_test_images = []\n",
    "all_test_labels = []\n",
    "\n",
    "# Manualmente clasificamos las imagenes de test\n",
    "dataset_path_test = dataset_path + 'test_samples'\n",
    "all_test_images, all_test_labels = clasificacion_imagenes(dataset_path_test)\n",
    "\n",
    "# Creamos un Dataframe con las rutas y etiquetas para el conjunto de test\n",
    "df_test = pd.DataFrame({'filename': all_test_images, 'class':all_test_labels})\n",
    "\n",
    "# Mezclamos aleatoriamente los datos\n",
    "df_test = df_test.sample(frac=1).reset_index(drop=True)\n",
    "\n",
    "display(len(df_test))"
   ]
  },
  {
   "cell_type": "markdown",
   "metadata": {
    "id": "CrIWzChE1BL7"
   },
   "source": [
    "### 2. Inspección del conjunto de datos"
   ]
  },
  {
   "cell_type": "code",
   "execution_count": 4,
   "metadata": {
    "colab": {
     "base_uri": "https://localhost:8080/",
     "height": 219
    },
    "executionInfo": {
     "elapsed": 991,
     "status": "ok",
     "timestamp": 1729703049592,
     "user": {
      "displayName": "daniel soria",
      "userId": "10185820582160562446"
     },
     "user_tz": 300
    },
    "id": "4ZX5tkabvW2Y",
    "outputId": "64c7ad27-bad7-4e71-c1b5-2458cac016c6"
   },
   "outputs": [
    {
     "name": "stdout",
     "output_type": "stream",
     "text": [
      "my_dataset/non_smile/Eric_Clapton_0002.jpg\n",
      "True\n"
     ]
    },
    {
     "data": {
      "image/png": "[encoded data removed]",
      "text/plain": [
       "<Figure size 200x200 with 1 Axes>"
      ]
     },
     "metadata": {},
     "output_type": "display_data"
    }
   ],
   "source": [
    "# Definimos una función para mostrar cualquier imagen dada como entrada\n",
    "\n",
    "def mostrar_muestra(imagen,etiqueta):\n",
    "    # Esta función recibe una imagen ya sea como \"ruta de archivo\" o como un \"tensor\"\n",
    "    if isinstance(imagen,str): # Es ruta de archivo ?\n",
    "        img = cv2.imread(imagen, cv2.COLOR_BGR2RGB)\n",
    "        img = cv2.cvtColor(img, cv2.COLOR_BGR2RGB)\n",
    "    else: # Es tensor\n",
    "        img = imagen\n",
    "    plt.figure(figsize=(2, 2))\n",
    "    plt.title(f\"Etiqueta: {etiqueta}\")\n",
    "    plt.imshow(img)\n",
    "\n",
    "idx = np.random.randint(1, 1200)\n",
    "mostrar_muestra(df_train.iloc[idx,0],df_train.iloc[idx,1])\n",
    "print(df_train.iloc[idx,0])\n",
    "print(isinstance(df_train.iloc[idx,0],str))"
   ]
  },
  {
   "cell_type": "markdown",
   "metadata": {
    "id": "G4zSl7uB1D0U"
   },
   "source": [
    "### 3. Acondicionamiento del conjunto de datos\n",
    "\n",
    "Debido a que nuestro conjunto de entrenamiento y validación es muy pequeño, sólo disponemos de 1200 muestras; por lo tanto en la formación de nuestros datos vamos con \"ImageDataGenerator\" de la librería Keras vamos a incluir \"DataAugmentation\"."
   ]
  },
  {
   "cell_type": "code",
   "execution_count": 51,
   "metadata": {
    "colab": {
     "base_uri": "https://localhost:8080/"
    },
    "executionInfo": {
     "elapsed": 1369,
     "status": "ok",
     "timestamp": 1729703060376,
     "user": {
      "displayName": "daniel soria",
      "userId": "10185820582160562446"
     },
     "user_tz": 300
    },
    "id": "1pzKyxq9OuQR",
    "outputId": "793cdf0e-e257-4700-a099-9397244f2f4e"
   },
   "outputs": [
    {
     "name": "stdout",
     "output_type": "stream",
     "text": [
      "Found 963 validated image filenames belonging to 2 classes.\n",
      "Found 240 validated image filenames belonging to 2 classes.\n",
      "Found 120 validated image filenames belonging to 2 classes.\n"
     ]
    }
   ],
   "source": [
    "# Definimos los parametros iniciales de nuestro generador de datos\n",
    "\n",
    "img_height = img_width = 64 # Tamaño de la imgane\n",
    "batch_size = 32\n",
    "classes = ['smile','non_smile']\n",
    "\n",
    "# Instanciamos una copia de ImageDataGenerador para el conjunto de datos de entrenamiento aplicando DataAugmentation\n",
    "train_datagen = ImageDataGenerator(\n",
    "    rescale=1./255,\n",
    "    rotation_range=15,  # Rotación aleatoria\n",
    "    width_shift_range=0.2, # fraccion del total (1) para mover la imagen\n",
    "    height_shift_range=0.2, # fraccion del total (1) para mover la imagen\n",
    "    #shear_range=0.2, \n",
    "    zoom_range=0.2,  # rango de zoom\n",
    "    horizontal_flip=True, # girar las imagenes horizontalmente (eje vertical)\n",
    "    #fill_mode='nearest',\n",
    "    validation_split=0.2\n",
    "    )\n",
    "\n",
    "# Instanciamos una copia de ImageDataGenerador para el conjunto de datos de test\n",
    "test_datagen = ImageDataGenerator(rescale=1./255)\n",
    "\n",
    "# Generadores de flujo de datos para entrenamiento, validación y prueba\n",
    "train_generator = train_datagen.flow_from_dataframe(\n",
    "    df_train,\n",
    "    x_col='filename',\n",
    "    y_col='class',\n",
    "    target_size=(img_height, img_width),\n",
    "    batch_size=batch_size,\n",
    "    subset='training',\n",
    "    class_mode='binary')\n",
    "\n",
    "val_generator = train_datagen.flow_from_dataframe(\n",
    "    df_train,\n",
    "    x_col='filename',\n",
    "    y_col='class',\n",
    "    target_size=(img_height, img_width),\n",
    "    batch_size=batch_size,\n",
    "    subset='validation',\n",
    "    class_mode='binary')\n",
    "\n",
    "test_generator = test_datagen.flow_from_dataframe(\n",
    "    df_test,\n",
    "    x_col='filename',\n",
    "    y_col='class',\n",
    "    target_size=(img_height, img_width),\n",
    "    class_mode='binary',\n",
    "    batch_size=batch_size)"
   ]
  },
  {
   "cell_type": "markdown",
   "metadata": {
    "id": "rxctxDrAfHsD",
    "tags": []
   },
   "source": [
    "---\n",
    "\n",
    "\n",
    "# **ESTRATEGIA 1 - FROM SCRACH**\n",
    "\n",
    "\n",
    "---"
   ]
  },
  {
   "cell_type": "markdown",
   "metadata": {
    "id": "d-DGHCyQ1K1S"
   },
   "source": [
    "### 4. Desarrollo de la arquitectura de red neuronal y entrenamiento de la solución"
   ]
  },
  {
   "cell_type": "code",
   "execution_count": 60,
   "metadata": {
    "colab": {
     "base_uri": "https://localhost:8080/",
     "height": 216
    },
    "executionInfo": {
     "elapsed": 555,
     "status": "error",
     "timestamp": 1729739982315,
     "user": {
      "displayName": "daniel soria",
      "userId": "10185820582160562446"
     },
     "user_tz": 300
    },
    "id": "7jOL2TFDcoWx",
    "outputId": "0af9a4b0-6c56-4448-cabd-e04809a972b3",
    "tags": []
   },
   "outputs": [
    {
     "name": "stderr",
     "output_type": "stream",
     "text": [
      "/home/studio-lab-user/.conda/envs/default/lib/python3.9/site-packages/keras/src/layers/convolutional/base_conv.py:107: UserWarning: Do not pass an `input_shape`/`input_dim` argument to a layer. When using Sequential models, prefer using an `Input(shape)` object as the first layer in the model instead.\n",
      "  super().__init__(activity_regularizer=activity_regularizer, **kwargs)\n"
     ]
    },
    {
     "data": {
      "text/html": [
       "<pre style=\"white-space:pre;overflow-x:auto;line-height:normal;font-family:Menlo,'DejaVu Sans Mono',consolas,'Courier New',monospace\"><span style=\"font-weight: bold\">Model: \"sequential_26\"</span>\n",
       "</pre>\n"
      ],
      "text/plain": [
       "\u001b[1mModel: \"sequential_26\"\u001b[0m\n"
      ]
     },
     "metadata": {},
     "output_type": "display_data"
    },
    {
     "data": {
      "text/html": [
       "<pre style=\"white-space:pre;overflow-x:auto;line-height:normal;font-family:Menlo,'DejaVu Sans Mono',consolas,'Courier New',monospace\">┏━━━━━━━━━━━━━━━━━━━━━━━━━━━━━━━━━┳━━━━━━━━━━━━━━━━━━━━━━━━┳━━━━━━━━━━━━━━━┓\n",
       "┃<span style=\"font-weight: bold\"> Layer (type)                    </span>┃<span style=\"font-weight: bold\"> Output Shape           </span>┃<span style=\"font-weight: bold\">       Param # </span>┃\n",
       "┡━━━━━━━━━━━━━━━━━━━━━━━━━━━━━━━━━╇━━━━━━━━━━━━━━━━━━━━━━━━╇━━━━━━━━━━━━━━━┩\n",
       "│ conv2d_89 (<span style=\"color: #0087ff; text-decoration-color: #0087ff\">Conv2D</span>)              │ (<span style=\"color: #00d7ff; text-decoration-color: #00d7ff\">None</span>, <span style=\"color: #00af00; text-decoration-color: #00af00\">64</span>, <span style=\"color: #00af00; text-decoration-color: #00af00\">64</span>, <span style=\"color: #00af00; text-decoration-color: #00af00\">128</span>)    │         <span style=\"color: #00af00; text-decoration-color: #00af00\">3,584</span> │\n",
       "├─────────────────────────────────┼────────────────────────┼───────────────┤\n",
       "│ max_pooling2d_80 (<span style=\"color: #0087ff; text-decoration-color: #0087ff\">MaxPooling2D</span>) │ (<span style=\"color: #00d7ff; text-decoration-color: #00d7ff\">None</span>, <span style=\"color: #00af00; text-decoration-color: #00af00\">32</span>, <span style=\"color: #00af00; text-decoration-color: #00af00\">32</span>, <span style=\"color: #00af00; text-decoration-color: #00af00\">128</span>)    │             <span style=\"color: #00af00; text-decoration-color: #00af00\">0</span> │\n",
       "├─────────────────────────────────┼────────────────────────┼───────────────┤\n",
       "│ conv2d_90 (<span style=\"color: #0087ff; text-decoration-color: #0087ff\">Conv2D</span>)              │ (<span style=\"color: #00d7ff; text-decoration-color: #00d7ff\">None</span>, <span style=\"color: #00af00; text-decoration-color: #00af00\">32</span>, <span style=\"color: #00af00; text-decoration-color: #00af00\">32</span>, <span style=\"color: #00af00; text-decoration-color: #00af00\">64</span>)     │        <span style=\"color: #00af00; text-decoration-color: #00af00\">73,792</span> │\n",
       "├─────────────────────────────────┼────────────────────────┼───────────────┤\n",
       "│ max_pooling2d_81 (<span style=\"color: #0087ff; text-decoration-color: #0087ff\">MaxPooling2D</span>) │ (<span style=\"color: #00d7ff; text-decoration-color: #00d7ff\">None</span>, <span style=\"color: #00af00; text-decoration-color: #00af00\">16</span>, <span style=\"color: #00af00; text-decoration-color: #00af00\">16</span>, <span style=\"color: #00af00; text-decoration-color: #00af00\">64</span>)     │             <span style=\"color: #00af00; text-decoration-color: #00af00\">0</span> │\n",
       "├─────────────────────────────────┼────────────────────────┼───────────────┤\n",
       "│ conv2d_91 (<span style=\"color: #0087ff; text-decoration-color: #0087ff\">Conv2D</span>)              │ (<span style=\"color: #00d7ff; text-decoration-color: #00d7ff\">None</span>, <span style=\"color: #00af00; text-decoration-color: #00af00\">16</span>, <span style=\"color: #00af00; text-decoration-color: #00af00\">16</span>, <span style=\"color: #00af00; text-decoration-color: #00af00\">64</span>)     │        <span style=\"color: #00af00; text-decoration-color: #00af00\">36,928</span> │\n",
       "├─────────────────────────────────┼────────────────────────┼───────────────┤\n",
       "│ max_pooling2d_82 (<span style=\"color: #0087ff; text-decoration-color: #0087ff\">MaxPooling2D</span>) │ (<span style=\"color: #00d7ff; text-decoration-color: #00d7ff\">None</span>, <span style=\"color: #00af00; text-decoration-color: #00af00\">8</span>, <span style=\"color: #00af00; text-decoration-color: #00af00\">8</span>, <span style=\"color: #00af00; text-decoration-color: #00af00\">64</span>)       │             <span style=\"color: #00af00; text-decoration-color: #00af00\">0</span> │\n",
       "├─────────────────────────────────┼────────────────────────┼───────────────┤\n",
       "│ flatten_25 (<span style=\"color: #0087ff; text-decoration-color: #0087ff\">Flatten</span>)            │ (<span style=\"color: #00d7ff; text-decoration-color: #00d7ff\">None</span>, <span style=\"color: #00af00; text-decoration-color: #00af00\">4096</span>)           │             <span style=\"color: #00af00; text-decoration-color: #00af00\">0</span> │\n",
       "├─────────────────────────────────┼────────────────────────┼───────────────┤\n",
       "│ dense_41 (<span style=\"color: #0087ff; text-decoration-color: #0087ff\">Dense</span>)                │ (<span style=\"color: #00d7ff; text-decoration-color: #00d7ff\">None</span>, <span style=\"color: #00af00; text-decoration-color: #00af00\">64</span>)             │       <span style=\"color: #00af00; text-decoration-color: #00af00\">262,208</span> │\n",
       "├─────────────────────────────────┼────────────────────────┼───────────────┤\n",
       "│ dense_42 (<span style=\"color: #0087ff; text-decoration-color: #0087ff\">Dense</span>)                │ (<span style=\"color: #00d7ff; text-decoration-color: #00d7ff\">None</span>, <span style=\"color: #00af00; text-decoration-color: #00af00\">1</span>)              │            <span style=\"color: #00af00; text-decoration-color: #00af00\">65</span> │\n",
       "└─────────────────────────────────┴────────────────────────┴───────────────┘\n",
       "</pre>\n"
      ],
      "text/plain": [
       "┏━━━━━━━━━━━━━━━━━━━━━━━━━━━━━━━━━┳━━━━━━━━━━━━━━━━━━━━━━━━┳━━━━━━━━━━━━━━━┓\n",
       "┃\u001b[1m \u001b[0m\u001b[1mLayer (type)                   \u001b[0m\u001b[1m \u001b[0m┃\u001b[1m \u001b[0m\u001b[1mOutput Shape          \u001b[0m\u001b[1m \u001b[0m┃\u001b[1m \u001b[0m\u001b[1m      Param #\u001b[0m\u001b[1m \u001b[0m┃\n",
       "┡━━━━━━━━━━━━━━━━━━━━━━━━━━━━━━━━━╇━━━━━━━━━━━━━━━━━━━━━━━━╇━━━━━━━━━━━━━━━┩\n",
       "│ conv2d_89 (\u001b[38;5;33mConv2D\u001b[0m)              │ (\u001b[38;5;45mNone\u001b[0m, \u001b[38;5;34m64\u001b[0m, \u001b[38;5;34m64\u001b[0m, \u001b[38;5;34m128\u001b[0m)    │         \u001b[38;5;34m3,584\u001b[0m │\n",
       "├─────────────────────────────────┼────────────────────────┼───────────────┤\n",
       "│ max_pooling2d_80 (\u001b[38;5;33mMaxPooling2D\u001b[0m) │ (\u001b[38;5;45mNone\u001b[0m, \u001b[38;5;34m32\u001b[0m, \u001b[38;5;34m32\u001b[0m, \u001b[38;5;34m128\u001b[0m)    │             \u001b[38;5;34m0\u001b[0m │\n",
       "├─────────────────────────────────┼────────────────────────┼───────────────┤\n",
       "│ conv2d_90 (\u001b[38;5;33mConv2D\u001b[0m)              │ (\u001b[38;5;45mNone\u001b[0m, \u001b[38;5;34m32\u001b[0m, \u001b[38;5;34m32\u001b[0m, \u001b[38;5;34m64\u001b[0m)     │        \u001b[38;5;34m73,792\u001b[0m │\n",
       "├─────────────────────────────────┼────────────────────────┼───────────────┤\n",
       "│ max_pooling2d_81 (\u001b[38;5;33mMaxPooling2D\u001b[0m) │ (\u001b[38;5;45mNone\u001b[0m, \u001b[38;5;34m16\u001b[0m, \u001b[38;5;34m16\u001b[0m, \u001b[38;5;34m64\u001b[0m)     │             \u001b[38;5;34m0\u001b[0m │\n",
       "├─────────────────────────────────┼────────────────────────┼───────────────┤\n",
       "│ conv2d_91 (\u001b[38;5;33mConv2D\u001b[0m)              │ (\u001b[38;5;45mNone\u001b[0m, \u001b[38;5;34m16\u001b[0m, \u001b[38;5;34m16\u001b[0m, \u001b[38;5;34m64\u001b[0m)     │        \u001b[38;5;34m36,928\u001b[0m │\n",
       "├─────────────────────────────────┼────────────────────────┼───────────────┤\n",
       "│ max_pooling2d_82 (\u001b[38;5;33mMaxPooling2D\u001b[0m) │ (\u001b[38;5;45mNone\u001b[0m, \u001b[38;5;34m8\u001b[0m, \u001b[38;5;34m8\u001b[0m, \u001b[38;5;34m64\u001b[0m)       │             \u001b[38;5;34m0\u001b[0m │\n",
       "├─────────────────────────────────┼────────────────────────┼───────────────┤\n",
       "│ flatten_25 (\u001b[38;5;33mFlatten\u001b[0m)            │ (\u001b[38;5;45mNone\u001b[0m, \u001b[38;5;34m4096\u001b[0m)           │             \u001b[38;5;34m0\u001b[0m │\n",
       "├─────────────────────────────────┼────────────────────────┼───────────────┤\n",
       "│ dense_41 (\u001b[38;5;33mDense\u001b[0m)                │ (\u001b[38;5;45mNone\u001b[0m, \u001b[38;5;34m64\u001b[0m)             │       \u001b[38;5;34m262,208\u001b[0m │\n",
       "├─────────────────────────────────┼────────────────────────┼───────────────┤\n",
       "│ dense_42 (\u001b[38;5;33mDense\u001b[0m)                │ (\u001b[38;5;45mNone\u001b[0m, \u001b[38;5;34m1\u001b[0m)              │            \u001b[38;5;34m65\u001b[0m │\n",
       "└─────────────────────────────────┴────────────────────────┴───────────────┘\n"
      ]
     },
     "metadata": {},
     "output_type": "display_data"
    },
    {
     "data": {
      "text/html": [
       "<pre style=\"white-space:pre;overflow-x:auto;line-height:normal;font-family:Menlo,'DejaVu Sans Mono',consolas,'Courier New',monospace\"><span style=\"font-weight: bold\"> Total params: </span><span style=\"color: #00af00; text-decoration-color: #00af00\">376,577</span> (1.44 MB)\n",
       "</pre>\n"
      ],
      "text/plain": [
       "\u001b[1m Total params: \u001b[0m\u001b[38;5;34m376,577\u001b[0m (1.44 MB)\n"
      ]
     },
     "metadata": {},
     "output_type": "display_data"
    },
    {
     "data": {
      "text/html": [
       "<pre style=\"white-space:pre;overflow-x:auto;line-height:normal;font-family:Menlo,'DejaVu Sans Mono',consolas,'Courier New',monospace\"><span style=\"font-weight: bold\"> Trainable params: </span><span style=\"color: #00af00; text-decoration-color: #00af00\">376,577</span> (1.44 MB)\n",
       "</pre>\n"
      ],
      "text/plain": [
       "\u001b[1m Trainable params: \u001b[0m\u001b[38;5;34m376,577\u001b[0m (1.44 MB)\n"
      ]
     },
     "metadata": {},
     "output_type": "display_data"
    },
    {
     "data": {
      "text/html": [
       "<pre style=\"white-space:pre;overflow-x:auto;line-height:normal;font-family:Menlo,'DejaVu Sans Mono',consolas,'Courier New',monospace\"><span style=\"font-weight: bold\"> Non-trainable params: </span><span style=\"color: #00af00; text-decoration-color: #00af00\">0</span> (0.00 B)\n",
       "</pre>\n"
      ],
      "text/plain": [
       "\u001b[1m Non-trainable params: \u001b[0m\u001b[38;5;34m0\u001b[0m (0.00 B)\n"
      ]
     },
     "metadata": {},
     "output_type": "display_data"
    },
    {
     "name": "stdout",
     "output_type": "stream",
     "text": [
      "Epoch 1/20\n"
     ]
    },
    {
     "name": "stderr",
     "output_type": "stream",
     "text": [
      "/home/studio-lab-user/.conda/envs/default/lib/python3.9/site-packages/keras/src/trainers/data_adapters/py_dataset_adapter.py:121: UserWarning: Your `PyDataset` class should call `super().__init__(**kwargs)` in its constructor. `**kwargs` can include `workers`, `use_multiprocessing`, `max_queue_size`. Do not pass these arguments to `fit()`, as they will be ignored.\n",
      "  self._warn_if_super_not_called()\n"
     ]
    },
    {
     "name": "stdout",
     "output_type": "stream",
     "text": [
      "\u001b[1m31/31\u001b[0m \u001b[32m━━━━━━━━━━━━━━━━━━━━\u001b[0m\u001b[37m\u001b[0m \u001b[1m6s\u001b[0m 153ms/step - accuracy: 0.4932 - loss: 0.7166 - val_accuracy: 0.5125 - val_loss: 0.6914\n",
      "Epoch 2/20\n",
      "\u001b[1m31/31\u001b[0m \u001b[32m━━━━━━━━━━━━━━━━━━━━\u001b[0m\u001b[37m\u001b[0m \u001b[1m5s\u001b[0m 144ms/step - accuracy: 0.5062 - loss: 0.6916 - val_accuracy: 0.5542 - val_loss: 0.6903\n",
      "Epoch 3/20\n",
      "\u001b[1m31/31\u001b[0m \u001b[32m━━━━━━━━━━━━━━━━━━━━\u001b[0m\u001b[37m\u001b[0m \u001b[1m5s\u001b[0m 146ms/step - accuracy: 0.5888 - loss: 0.6855 - val_accuracy: 0.5708 - val_loss: 0.6835\n",
      "Epoch 4/20\n",
      "\u001b[1m31/31\u001b[0m \u001b[32m━━━━━━━━━━━━━━━━━━━━\u001b[0m\u001b[37m\u001b[0m \u001b[1m5s\u001b[0m 145ms/step - accuracy: 0.5325 - loss: 0.6865 - val_accuracy: 0.6083 - val_loss: 0.6895\n",
      "Epoch 5/20\n",
      "\u001b[1m31/31\u001b[0m \u001b[32m━━━━━━━━━━━━━━━━━━━━\u001b[0m\u001b[37m\u001b[0m \u001b[1m5s\u001b[0m 146ms/step - accuracy: 0.5359 - loss: 0.6808 - val_accuracy: 0.6833 - val_loss: 0.6293\n",
      "Epoch 6/20\n",
      "\u001b[1m31/31\u001b[0m \u001b[32m━━━━━━━━━━━━━━━━━━━━\u001b[0m\u001b[37m\u001b[0m \u001b[1m5s\u001b[0m 150ms/step - accuracy: 0.6744 - loss: 0.6260 - val_accuracy: 0.7542 - val_loss: 0.5869\n",
      "Epoch 7/20\n",
      "\u001b[1m31/31\u001b[0m \u001b[32m━━━━━━━━━━━━━━━━━━━━\u001b[0m\u001b[37m\u001b[0m \u001b[1m5s\u001b[0m 145ms/step - accuracy: 0.7228 - loss: 0.5953 - val_accuracy: 0.7000 - val_loss: 0.5740\n",
      "Epoch 8/20\n",
      "\u001b[1m31/31\u001b[0m \u001b[32m━━━━━━━━━━━━━━━━━━━━\u001b[0m\u001b[37m\u001b[0m \u001b[1m5s\u001b[0m 146ms/step - accuracy: 0.7472 - loss: 0.5229 - val_accuracy: 0.6750 - val_loss: 0.6417\n",
      "Epoch 9/20\n",
      "\u001b[1m31/31\u001b[0m \u001b[32m━━━━━━━━━━━━━━━━━━━━\u001b[0m\u001b[37m\u001b[0m \u001b[1m5s\u001b[0m 145ms/step - accuracy: 0.7664 - loss: 0.5236 - val_accuracy: 0.7542 - val_loss: 0.5484\n",
      "Epoch 10/20\n",
      "\u001b[1m31/31\u001b[0m \u001b[32m━━━━━━━━━━━━━━━━━━━━\u001b[0m\u001b[37m\u001b[0m \u001b[1m5s\u001b[0m 145ms/step - accuracy: 0.7926 - loss: 0.4768 - val_accuracy: 0.7792 - val_loss: 0.4742\n",
      "Epoch 11/20\n",
      "\u001b[1m31/31\u001b[0m \u001b[32m━━━━━━━━━━━━━━━━━━━━\u001b[0m\u001b[37m\u001b[0m \u001b[1m5s\u001b[0m 145ms/step - accuracy: 0.8107 - loss: 0.4300 - val_accuracy: 0.8208 - val_loss: 0.4257\n",
      "Epoch 12/20\n",
      "\u001b[1m31/31\u001b[0m \u001b[32m━━━━━━━━━━━━━━━━━━━━\u001b[0m\u001b[37m\u001b[0m \u001b[1m5s\u001b[0m 146ms/step - accuracy: 0.8417 - loss: 0.3807 - val_accuracy: 0.8042 - val_loss: 0.4114\n",
      "Epoch 13/20\n",
      "\u001b[1m31/31\u001b[0m \u001b[32m━━━━━━━━━━━━━━━━━━━━\u001b[0m\u001b[37m\u001b[0m \u001b[1m5s\u001b[0m 145ms/step - accuracy: 0.8468 - loss: 0.3747 - val_accuracy: 0.7542 - val_loss: 0.5095\n",
      "Epoch 14/20\n",
      "\u001b[1m31/31\u001b[0m \u001b[32m━━━━━━━━━━━━━━━━━━━━\u001b[0m\u001b[37m\u001b[0m \u001b[1m5s\u001b[0m 146ms/step - accuracy: 0.8536 - loss: 0.3474 - val_accuracy: 0.7875 - val_loss: 0.4418\n",
      "Epoch 15/20\n",
      "\u001b[1m31/31\u001b[0m \u001b[32m━━━━━━━━━━━━━━━━━━━━\u001b[0m\u001b[37m\u001b[0m \u001b[1m5s\u001b[0m 148ms/step - accuracy: 0.8500 - loss: 0.3499 - val_accuracy: 0.8667 - val_loss: 0.3566\n",
      "Epoch 16/20\n",
      "\u001b[1m31/31\u001b[0m \u001b[32m━━━━━━━━━━━━━━━━━━━━\u001b[0m\u001b[37m\u001b[0m \u001b[1m5s\u001b[0m 146ms/step - accuracy: 0.8529 - loss: 0.3439 - val_accuracy: 0.8375 - val_loss: 0.3730\n",
      "Epoch 17/20\n",
      "\u001b[1m31/31\u001b[0m \u001b[32m━━━━━━━━━━━━━━━━━━━━\u001b[0m\u001b[37m\u001b[0m \u001b[1m5s\u001b[0m 144ms/step - accuracy: 0.8691 - loss: 0.3243 - val_accuracy: 0.9083 - val_loss: 0.2834\n",
      "Epoch 18/20\n",
      "\u001b[1m31/31\u001b[0m \u001b[32m━━━━━━━━━━━━━━━━━━━━\u001b[0m\u001b[37m\u001b[0m \u001b[1m5s\u001b[0m 144ms/step - accuracy: 0.8480 - loss: 0.3254 - val_accuracy: 0.8542 - val_loss: 0.3237\n",
      "Epoch 19/20\n",
      "\u001b[1m31/31\u001b[0m \u001b[32m━━━━━━━━━━━━━━━━━━━━\u001b[0m\u001b[37m\u001b[0m \u001b[1m5s\u001b[0m 144ms/step - accuracy: 0.8888 - loss: 0.2789 - val_accuracy: 0.8625 - val_loss: 0.3318\n",
      "Epoch 20/20\n",
      "\u001b[1m31/31\u001b[0m \u001b[32m━━━━━━━━━━━━━━━━━━━━\u001b[0m\u001b[37m\u001b[0m \u001b[1m5s\u001b[0m 144ms/step - accuracy: 0.8584 - loss: 0.3158 - val_accuracy: 0.8667 - val_loss: 0.3333\n"
     ]
    }
   ],
   "source": [
    "# Definición de los hiperparámetros\n",
    "\n",
    "epochs = 20\n",
    "batch_size = 32\n",
    "\n",
    "# Instanciamos nuestro modelo Secuencial\n",
    "modelo = Sequential()\n",
    "\n",
    "# Definimos el BASE MODEL\n",
    "# Definimos 2 capas de 64 porque nos da mejores resultados para la extracción de caracteristicas del rostro\n",
    "\n",
    "modelo.add(layers.Conv2D(128, (3,3),input_shape=(img_width, img_height, 3),padding=\"same\",activation='relu'))\n",
    "modelo.add(layers.MaxPooling2D(2,2))\n",
    "modelo.add(layers.Conv2D(64, (3,3),padding=\"same\",activation='relu'))\n",
    "modelo.add(layers.MaxPooling2D(2,2))\n",
    "modelo.add(layers.Conv2D(64, (3,3),padding=\"same\",activation='relu'))\n",
    "modelo.add(layers.MaxPooling2D(2,2))\n",
    "\n",
    "# Definimos el TOP MODEL\n",
    "\n",
    "modelo.add(layers.Flatten())\n",
    "modelo.add(layers.Dense(64,activation='relu'))\n",
    "modelo.add(layers.Dense(1,activation='sigmoid'))\n",
    "\n",
    "modelo.summary()\n",
    "\n",
    "# Compilamos el modelo con los hiperparametros definidos\n",
    "modelo.compile(loss='binary_crossentropy',\n",
    "              optimizer='adam',\n",
    "              metrics=['accuracy'])\n",
    "\n",
    "# Entrenamos el modelo\n",
    "history = modelo.fit(train_generator,\n",
    "                     epochs = epochs,\n",
    "                     validation_data = val_generator)\n"
   ]
  },
  {
   "cell_type": "markdown",
   "metadata": {
    "id": "pFkhs3K41M-1"
   },
   "source": [
    "### 5. Monitorización del proceso de entrenamiento para la toma de decisiones"
   ]
  },
  {
   "cell_type": "code",
   "execution_count": 14,
   "metadata": {
    "tags": []
   },
   "outputs": [],
   "source": [
    "# Preparamos un función que nos ayudara a graficar las curvas de aprendizaje\n",
    "\n",
    "def grafica_curvas_aprendizaje(history, epocas):\n",
    "    acc = history.history['accuracy']\n",
    "    val_acc = history.history['val_accuracy']\n",
    "    loss = history.history['loss']\n",
    "    val_loss = history.history['val_loss']\n",
    "\n",
    "    epochs_range = range(epocas)\n",
    "\n",
    "    plt.figure(figsize=(12, 4))\n",
    "    plt.subplot(1, 2, 1)\n",
    "    plt.plot(epochs_range, acc, label='Entrenamiento')\n",
    "    plt.plot(epochs_range, val_acc, label='Validación')\n",
    "    plt.title('Precisión de Entrenamiento y Validación')\n",
    "    plt.legend(loc='lower right')\n",
    "\n",
    "    plt.subplot(1, 2, 2)\n",
    "    plt.plot(epochs_range, loss, label='Entrenamiento')\n",
    "    plt.plot(epochs_range, val_loss, label='Validación')\n",
    "    plt.title('Pérdida de Entrenamiento y Validación')\n",
    "    plt.legend(loc='upper right')\n",
    "    plt.show()\n",
    "\n",
    "grafica_curvas_aprendizaje(history, 20)"
   ]
  },
  {
   "cell_type": "markdown",
   "metadata": {
    "id": "NHJXh3Sf1H_D"
   },
   "source": [
    "### 6. Evaluación del modelo predictivo y planteamiento de la siguiente prueba experimental"
   ]
  },
  {
   "cell_type": "code",
   "execution_count": 41,
   "metadata": {
    "tags": []
   },
   "outputs": [
    {
     "name": "stdout",
     "output_type": "stream",
     "text": [
      "\u001b[1m1/1\u001b[0m \u001b[32m━━━━━━━━━━━━━━━━━━━━\u001b[0m\u001b[37m\u001b[0m \u001b[1m0s\u001b[0m 62ms/step\n"
     ]
    },
    {
     "data": {
      "image/png": "[encoded data removed]",
      "text/plain": [
       "<Figure size 200x200 with 1 Axes>"
      ]
     },
     "metadata": {},
     "output_type": "display_data"
    }
   ],
   "source": [
    "#validation_images, validation_labels = val_generator.next()\n",
    "\n",
    "sample_image, sample_label = next(val_generator)\n",
    "predict_label = (modelo.predict(sample_image) > 0.5).astype(\"int32\")\n",
    "random_index = np.random.randint(0, len(sample_image))  # Índice aleatorio dentro del batch\n",
    "\n",
    "single_image = sample_image[random_index]\n",
    "single_label = sample_label[random_index]\n",
    "\n",
    "mostrar_muestra(single_image,\"No smile\" if single_label == 0 else \"Smile\")\n",
    "#predicted_labels = (modelo.predict(val_generator) > 0.5).astype(\"int32\")\n",
    "\n"
   ]
  },
  {
   "cell_type": "markdown",
   "metadata": {},
   "source": [
    "**Análisis**\n",
    "\n",
    "Como modelo básico de Red neuronal se tiene resultados algo aceptables, sin embargo no son lo suficientemente buenos sobretodo para los curvas de validación que se muestra muy erráticos pero con tendencia a la baja, indicando que el modelo puede estar aprendiendo características específicas del conjunto de datos de entrenamiento que no generalizan bien al conjunto de datos de validación. Un factor importante es que disponemos de pocoas muestras en el dataset, por lo que se propone lo siguiente:\n",
    "\n",
    "1. Suavizar el Aumento de Datos: Reducir la intensidad de las transformaciones de aumento de datos.\n",
    "\n",
    "2. Regularización Adicional: Agregando en cada capa oculta dropout o agregando regularización L1/L2 en las capas densas.\n",
    "\n",
    "3. Programación de la Tasa de Aprendizaje: Usar una tasa de aprendizaje que disminuya con el tiempo o un callback de reducción de tasa de aprendizaje cuando la métrica de validación deje de mejorar.\n",
    "\n",
    "4. Incluir callbacks experimentando con el Optimizador: Cambiar el optimizador o ajustar sus hiperparámetros para ver si el modelo se beneficia de diferentes estrategias de optimización.\n"
   ]
  },
  {
   "cell_type": "markdown",
   "metadata": {},
   "source": [
    "#### Creación de nuevo modelo optimizado"
   ]
  },
  {
   "cell_type": "code",
   "execution_count": 45,
   "metadata": {
    "collapsed": true,
    "jupyter": {
     "outputs_hidden": true
    },
    "tags": []
   },
   "outputs": [
    {
     "name": "stdout",
     "output_type": "stream",
     "text": [
      "Found 963 validated image filenames belonging to 2 classes.\n"
     ]
    },
    {
     "name": "stderr",
     "output_type": "stream",
     "text": [
      "/home/studio-lab-user/.conda/envs/default/lib/python3.9/site-packages/keras/src/layers/convolutional/base_conv.py:107: UserWarning: Do not pass an `input_shape`/`input_dim` argument to a layer. When using Sequential models, prefer using an `Input(shape)` object as the first layer in the model instead.\n",
      "  super().__init__(activity_regularizer=activity_regularizer, **kwargs)\n"
     ]
    },
    {
     "data": {
      "text/html": [
       "<pre style=\"white-space:pre;overflow-x:auto;line-height:normal;font-family:Menlo,'DejaVu Sans Mono',consolas,'Courier New',monospace\"><span style=\"font-weight: bold\">Model: \"sequential_25\"</span>\n",
       "</pre>\n"
      ],
      "text/plain": [
       "\u001b[1mModel: \"sequential_25\"\u001b[0m\n"
      ]
     },
     "metadata": {},
     "output_type": "display_data"
    },
    {
     "data": {
      "text/html": [
       "<pre style=\"white-space:pre;overflow-x:auto;line-height:normal;font-family:Menlo,'DejaVu Sans Mono',consolas,'Courier New',monospace\">┏━━━━━━━━━━━━━━━━━━━━━━━━━━━━━━━━━┳━━━━━━━━━━━━━━━━━━━━━━━━┳━━━━━━━━━━━━━━━┓\n",
       "┃<span style=\"font-weight: bold\"> Layer (type)                    </span>┃<span style=\"font-weight: bold\"> Output Shape           </span>┃<span style=\"font-weight: bold\">       Param # </span>┃\n",
       "┡━━━━━━━━━━━━━━━━━━━━━━━━━━━━━━━━━╇━━━━━━━━━━━━━━━━━━━━━━━━╇━━━━━━━━━━━━━━━┩\n",
       "│ conv2d_83 (<span style=\"color: #0087ff; text-decoration-color: #0087ff\">Conv2D</span>)              │ (<span style=\"color: #00d7ff; text-decoration-color: #00d7ff\">None</span>, <span style=\"color: #00af00; text-decoration-color: #00af00\">64</span>, <span style=\"color: #00af00; text-decoration-color: #00af00\">64</span>, <span style=\"color: #00af00; text-decoration-color: #00af00\">64</span>)     │         <span style=\"color: #00af00; text-decoration-color: #00af00\">1,792</span> │\n",
       "├─────────────────────────────────┼────────────────────────┼───────────────┤\n",
       "│ batch_normalization_103         │ (<span style=\"color: #00d7ff; text-decoration-color: #00d7ff\">None</span>, <span style=\"color: #00af00; text-decoration-color: #00af00\">64</span>, <span style=\"color: #00af00; text-decoration-color: #00af00\">64</span>, <span style=\"color: #00af00; text-decoration-color: #00af00\">64</span>)     │           <span style=\"color: #00af00; text-decoration-color: #00af00\">256</span> │\n",
       "│ (<span style=\"color: #0087ff; text-decoration-color: #0087ff\">BatchNormalization</span>)            │                        │               │\n",
       "├─────────────────────────────────┼────────────────────────┼───────────────┤\n",
       "│ conv2d_84 (<span style=\"color: #0087ff; text-decoration-color: #0087ff\">Conv2D</span>)              │ (<span style=\"color: #00d7ff; text-decoration-color: #00d7ff\">None</span>, <span style=\"color: #00af00; text-decoration-color: #00af00\">64</span>, <span style=\"color: #00af00; text-decoration-color: #00af00\">64</span>, <span style=\"color: #00af00; text-decoration-color: #00af00\">64</span>)     │        <span style=\"color: #00af00; text-decoration-color: #00af00\">36,928</span> │\n",
       "├─────────────────────────────────┼────────────────────────┼───────────────┤\n",
       "│ batch_normalization_104         │ (<span style=\"color: #00d7ff; text-decoration-color: #00d7ff\">None</span>, <span style=\"color: #00af00; text-decoration-color: #00af00\">64</span>, <span style=\"color: #00af00; text-decoration-color: #00af00\">64</span>, <span style=\"color: #00af00; text-decoration-color: #00af00\">64</span>)     │           <span style=\"color: #00af00; text-decoration-color: #00af00\">256</span> │\n",
       "│ (<span style=\"color: #0087ff; text-decoration-color: #0087ff\">BatchNormalization</span>)            │                        │               │\n",
       "├─────────────────────────────────┼────────────────────────┼───────────────┤\n",
       "│ max_pooling2d_77 (<span style=\"color: #0087ff; text-decoration-color: #0087ff\">MaxPooling2D</span>) │ (<span style=\"color: #00d7ff; text-decoration-color: #00d7ff\">None</span>, <span style=\"color: #00af00; text-decoration-color: #00af00\">32</span>, <span style=\"color: #00af00; text-decoration-color: #00af00\">32</span>, <span style=\"color: #00af00; text-decoration-color: #00af00\">64</span>)     │             <span style=\"color: #00af00; text-decoration-color: #00af00\">0</span> │\n",
       "├─────────────────────────────────┼────────────────────────┼───────────────┤\n",
       "│ dropout_50 (<span style=\"color: #0087ff; text-decoration-color: #0087ff\">Dropout</span>)            │ (<span style=\"color: #00d7ff; text-decoration-color: #00d7ff\">None</span>, <span style=\"color: #00af00; text-decoration-color: #00af00\">32</span>, <span style=\"color: #00af00; text-decoration-color: #00af00\">32</span>, <span style=\"color: #00af00; text-decoration-color: #00af00\">64</span>)     │             <span style=\"color: #00af00; text-decoration-color: #00af00\">0</span> │\n",
       "├─────────────────────────────────┼────────────────────────┼───────────────┤\n",
       "│ conv2d_85 (<span style=\"color: #0087ff; text-decoration-color: #0087ff\">Conv2D</span>)              │ (<span style=\"color: #00d7ff; text-decoration-color: #00d7ff\">None</span>, <span style=\"color: #00af00; text-decoration-color: #00af00\">32</span>, <span style=\"color: #00af00; text-decoration-color: #00af00\">32</span>, <span style=\"color: #00af00; text-decoration-color: #00af00\">128</span>)    │        <span style=\"color: #00af00; text-decoration-color: #00af00\">73,856</span> │\n",
       "├─────────────────────────────────┼────────────────────────┼───────────────┤\n",
       "│ batch_normalization_105         │ (<span style=\"color: #00d7ff; text-decoration-color: #00d7ff\">None</span>, <span style=\"color: #00af00; text-decoration-color: #00af00\">32</span>, <span style=\"color: #00af00; text-decoration-color: #00af00\">32</span>, <span style=\"color: #00af00; text-decoration-color: #00af00\">128</span>)    │           <span style=\"color: #00af00; text-decoration-color: #00af00\">512</span> │\n",
       "│ (<span style=\"color: #0087ff; text-decoration-color: #0087ff\">BatchNormalization</span>)            │                        │               │\n",
       "├─────────────────────────────────┼────────────────────────┼───────────────┤\n",
       "│ conv2d_86 (<span style=\"color: #0087ff; text-decoration-color: #0087ff\">Conv2D</span>)              │ (<span style=\"color: #00d7ff; text-decoration-color: #00d7ff\">None</span>, <span style=\"color: #00af00; text-decoration-color: #00af00\">32</span>, <span style=\"color: #00af00; text-decoration-color: #00af00\">32</span>, <span style=\"color: #00af00; text-decoration-color: #00af00\">128</span>)    │       <span style=\"color: #00af00; text-decoration-color: #00af00\">147,584</span> │\n",
       "├─────────────────────────────────┼────────────────────────┼───────────────┤\n",
       "│ batch_normalization_106         │ (<span style=\"color: #00d7ff; text-decoration-color: #00d7ff\">None</span>, <span style=\"color: #00af00; text-decoration-color: #00af00\">32</span>, <span style=\"color: #00af00; text-decoration-color: #00af00\">32</span>, <span style=\"color: #00af00; text-decoration-color: #00af00\">128</span>)    │           <span style=\"color: #00af00; text-decoration-color: #00af00\">512</span> │\n",
       "│ (<span style=\"color: #0087ff; text-decoration-color: #0087ff\">BatchNormalization</span>)            │                        │               │\n",
       "├─────────────────────────────────┼────────────────────────┼───────────────┤\n",
       "│ max_pooling2d_78 (<span style=\"color: #0087ff; text-decoration-color: #0087ff\">MaxPooling2D</span>) │ (<span style=\"color: #00d7ff; text-decoration-color: #00d7ff\">None</span>, <span style=\"color: #00af00; text-decoration-color: #00af00\">16</span>, <span style=\"color: #00af00; text-decoration-color: #00af00\">16</span>, <span style=\"color: #00af00; text-decoration-color: #00af00\">128</span>)    │             <span style=\"color: #00af00; text-decoration-color: #00af00\">0</span> │\n",
       "├─────────────────────────────────┼────────────────────────┼───────────────┤\n",
       "│ dropout_51 (<span style=\"color: #0087ff; text-decoration-color: #0087ff\">Dropout</span>)            │ (<span style=\"color: #00d7ff; text-decoration-color: #00d7ff\">None</span>, <span style=\"color: #00af00; text-decoration-color: #00af00\">16</span>, <span style=\"color: #00af00; text-decoration-color: #00af00\">16</span>, <span style=\"color: #00af00; text-decoration-color: #00af00\">128</span>)    │             <span style=\"color: #00af00; text-decoration-color: #00af00\">0</span> │\n",
       "├─────────────────────────────────┼────────────────────────┼───────────────┤\n",
       "│ conv2d_87 (<span style=\"color: #0087ff; text-decoration-color: #0087ff\">Conv2D</span>)              │ (<span style=\"color: #00d7ff; text-decoration-color: #00d7ff\">None</span>, <span style=\"color: #00af00; text-decoration-color: #00af00\">16</span>, <span style=\"color: #00af00; text-decoration-color: #00af00\">16</span>, <span style=\"color: #00af00; text-decoration-color: #00af00\">64</span>)     │        <span style=\"color: #00af00; text-decoration-color: #00af00\">73,792</span> │\n",
       "├─────────────────────────────────┼────────────────────────┼───────────────┤\n",
       "│ batch_normalization_107         │ (<span style=\"color: #00d7ff; text-decoration-color: #00d7ff\">None</span>, <span style=\"color: #00af00; text-decoration-color: #00af00\">16</span>, <span style=\"color: #00af00; text-decoration-color: #00af00\">16</span>, <span style=\"color: #00af00; text-decoration-color: #00af00\">64</span>)     │           <span style=\"color: #00af00; text-decoration-color: #00af00\">256</span> │\n",
       "│ (<span style=\"color: #0087ff; text-decoration-color: #0087ff\">BatchNormalization</span>)            │                        │               │\n",
       "├─────────────────────────────────┼────────────────────────┼───────────────┤\n",
       "│ conv2d_88 (<span style=\"color: #0087ff; text-decoration-color: #0087ff\">Conv2D</span>)              │ (<span style=\"color: #00d7ff; text-decoration-color: #00d7ff\">None</span>, <span style=\"color: #00af00; text-decoration-color: #00af00\">16</span>, <span style=\"color: #00af00; text-decoration-color: #00af00\">16</span>, <span style=\"color: #00af00; text-decoration-color: #00af00\">64</span>)     │        <span style=\"color: #00af00; text-decoration-color: #00af00\">36,928</span> │\n",
       "├─────────────────────────────────┼────────────────────────┼───────────────┤\n",
       "│ batch_normalization_108         │ (<span style=\"color: #00d7ff; text-decoration-color: #00d7ff\">None</span>, <span style=\"color: #00af00; text-decoration-color: #00af00\">16</span>, <span style=\"color: #00af00; text-decoration-color: #00af00\">16</span>, <span style=\"color: #00af00; text-decoration-color: #00af00\">64</span>)     │           <span style=\"color: #00af00; text-decoration-color: #00af00\">256</span> │\n",
       "│ (<span style=\"color: #0087ff; text-decoration-color: #0087ff\">BatchNormalization</span>)            │                        │               │\n",
       "├─────────────────────────────────┼────────────────────────┼───────────────┤\n",
       "│ max_pooling2d_79 (<span style=\"color: #0087ff; text-decoration-color: #0087ff\">MaxPooling2D</span>) │ (<span style=\"color: #00d7ff; text-decoration-color: #00d7ff\">None</span>, <span style=\"color: #00af00; text-decoration-color: #00af00\">8</span>, <span style=\"color: #00af00; text-decoration-color: #00af00\">8</span>, <span style=\"color: #00af00; text-decoration-color: #00af00\">64</span>)       │             <span style=\"color: #00af00; text-decoration-color: #00af00\">0</span> │\n",
       "├─────────────────────────────────┼────────────────────────┼───────────────┤\n",
       "│ dropout_52 (<span style=\"color: #0087ff; text-decoration-color: #0087ff\">Dropout</span>)            │ (<span style=\"color: #00d7ff; text-decoration-color: #00d7ff\">None</span>, <span style=\"color: #00af00; text-decoration-color: #00af00\">8</span>, <span style=\"color: #00af00; text-decoration-color: #00af00\">8</span>, <span style=\"color: #00af00; text-decoration-color: #00af00\">64</span>)       │             <span style=\"color: #00af00; text-decoration-color: #00af00\">0</span> │\n",
       "├─────────────────────────────────┼────────────────────────┼───────────────┤\n",
       "│ flatten_24 (<span style=\"color: #0087ff; text-decoration-color: #0087ff\">Flatten</span>)            │ (<span style=\"color: #00d7ff; text-decoration-color: #00d7ff\">None</span>, <span style=\"color: #00af00; text-decoration-color: #00af00\">4096</span>)           │             <span style=\"color: #00af00; text-decoration-color: #00af00\">0</span> │\n",
       "├─────────────────────────────────┼────────────────────────┼───────────────┤\n",
       "│ dense_39 (<span style=\"color: #0087ff; text-decoration-color: #0087ff\">Dense</span>)                │ (<span style=\"color: #00d7ff; text-decoration-color: #00d7ff\">None</span>, <span style=\"color: #00af00; text-decoration-color: #00af00\">64</span>)             │       <span style=\"color: #00af00; text-decoration-color: #00af00\">262,208</span> │\n",
       "├─────────────────────────────────┼────────────────────────┼───────────────┤\n",
       "│ batch_normalization_109         │ (<span style=\"color: #00d7ff; text-decoration-color: #00d7ff\">None</span>, <span style=\"color: #00af00; text-decoration-color: #00af00\">64</span>)             │           <span style=\"color: #00af00; text-decoration-color: #00af00\">256</span> │\n",
       "│ (<span style=\"color: #0087ff; text-decoration-color: #0087ff\">BatchNormalization</span>)            │                        │               │\n",
       "├─────────────────────────────────┼────────────────────────┼───────────────┤\n",
       "│ dense_40 (<span style=\"color: #0087ff; text-decoration-color: #0087ff\">Dense</span>)                │ (<span style=\"color: #00d7ff; text-decoration-color: #00d7ff\">None</span>, <span style=\"color: #00af00; text-decoration-color: #00af00\">1</span>)              │            <span style=\"color: #00af00; text-decoration-color: #00af00\">65</span> │\n",
       "└─────────────────────────────────┴────────────────────────┴───────────────┘\n",
       "</pre>\n"
      ],
      "text/plain": [
       "┏━━━━━━━━━━━━━━━━━━━━━━━━━━━━━━━━━┳━━━━━━━━━━━━━━━━━━━━━━━━┳━━━━━━━━━━━━━━━┓\n",
       "┃\u001b[1m \u001b[0m\u001b[1mLayer (type)                   \u001b[0m\u001b[1m \u001b[0m┃\u001b[1m \u001b[0m\u001b[1mOutput Shape          \u001b[0m\u001b[1m \u001b[0m┃\u001b[1m \u001b[0m\u001b[1m      Param #\u001b[0m\u001b[1m \u001b[0m┃\n",
       "┡━━━━━━━━━━━━━━━━━━━━━━━━━━━━━━━━━╇━━━━━━━━━━━━━━━━━━━━━━━━╇━━━━━━━━━━━━━━━┩\n",
       "│ conv2d_83 (\u001b[38;5;33mConv2D\u001b[0m)              │ (\u001b[38;5;45mNone\u001b[0m, \u001b[38;5;34m64\u001b[0m, \u001b[38;5;34m64\u001b[0m, \u001b[38;5;34m64\u001b[0m)     │         \u001b[38;5;34m1,792\u001b[0m │\n",
       "├─────────────────────────────────┼────────────────────────┼───────────────┤\n",
       "│ batch_normalization_103         │ (\u001b[38;5;45mNone\u001b[0m, \u001b[38;5;34m64\u001b[0m, \u001b[38;5;34m64\u001b[0m, \u001b[38;5;34m64\u001b[0m)     │           \u001b[38;5;34m256\u001b[0m │\n",
       "│ (\u001b[38;5;33mBatchNormalization\u001b[0m)            │                        │               │\n",
       "├─────────────────────────────────┼────────────────────────┼───────────────┤\n",
       "│ conv2d_84 (\u001b[38;5;33mConv2D\u001b[0m)              │ (\u001b[38;5;45mNone\u001b[0m, \u001b[38;5;34m64\u001b[0m, \u001b[38;5;34m64\u001b[0m, \u001b[38;5;34m64\u001b[0m)     │        \u001b[38;5;34m36,928\u001b[0m │\n",
       "├─────────────────────────────────┼────────────────────────┼───────────────┤\n",
       "│ batch_normalization_104         │ (\u001b[38;5;45mNone\u001b[0m, \u001b[38;5;34m64\u001b[0m, \u001b[38;5;34m64\u001b[0m, \u001b[38;5;34m64\u001b[0m)     │           \u001b[38;5;34m256\u001b[0m │\n",
       "│ (\u001b[38;5;33mBatchNormalization\u001b[0m)            │                        │               │\n",
       "├─────────────────────────────────┼────────────────────────┼───────────────┤\n",
       "│ max_pooling2d_77 (\u001b[38;5;33mMaxPooling2D\u001b[0m) │ (\u001b[38;5;45mNone\u001b[0m, \u001b[38;5;34m32\u001b[0m, \u001b[38;5;34m32\u001b[0m, \u001b[38;5;34m64\u001b[0m)     │             \u001b[38;5;34m0\u001b[0m │\n",
       "├─────────────────────────────────┼────────────────────────┼───────────────┤\n",
       "│ dropout_50 (\u001b[38;5;33mDropout\u001b[0m)            │ (\u001b[38;5;45mNone\u001b[0m, \u001b[38;5;34m32\u001b[0m, \u001b[38;5;34m32\u001b[0m, \u001b[38;5;34m64\u001b[0m)     │             \u001b[38;5;34m0\u001b[0m │\n",
       "├─────────────────────────────────┼────────────────────────┼───────────────┤\n",
       "│ conv2d_85 (\u001b[38;5;33mConv2D\u001b[0m)              │ (\u001b[38;5;45mNone\u001b[0m, \u001b[38;5;34m32\u001b[0m, \u001b[38;5;34m32\u001b[0m, \u001b[38;5;34m128\u001b[0m)    │        \u001b[38;5;34m73,856\u001b[0m │\n",
       "├─────────────────────────────────┼────────────────────────┼───────────────┤\n",
       "│ batch_normalization_105         │ (\u001b[38;5;45mNone\u001b[0m, \u001b[38;5;34m32\u001b[0m, \u001b[38;5;34m32\u001b[0m, \u001b[38;5;34m128\u001b[0m)    │           \u001b[38;5;34m512\u001b[0m │\n",
       "│ (\u001b[38;5;33mBatchNormalization\u001b[0m)            │                        │               │\n",
       "├─────────────────────────────────┼────────────────────────┼───────────────┤\n",
       "│ conv2d_86 (\u001b[38;5;33mConv2D\u001b[0m)              │ (\u001b[38;5;45mNone\u001b[0m, \u001b[38;5;34m32\u001b[0m, \u001b[38;5;34m32\u001b[0m, \u001b[38;5;34m128\u001b[0m)    │       \u001b[38;5;34m147,584\u001b[0m │\n",
       "├─────────────────────────────────┼────────────────────────┼───────────────┤\n",
       "│ batch_normalization_106         │ (\u001b[38;5;45mNone\u001b[0m, \u001b[38;5;34m32\u001b[0m, \u001b[38;5;34m32\u001b[0m, \u001b[38;5;34m128\u001b[0m)    │           \u001b[38;5;34m512\u001b[0m │\n",
       "│ (\u001b[38;5;33mBatchNormalization\u001b[0m)            │                        │               │\n",
       "├─────────────────────────────────┼────────────────────────┼───────────────┤\n",
       "│ max_pooling2d_78 (\u001b[38;5;33mMaxPooling2D\u001b[0m) │ (\u001b[38;5;45mNone\u001b[0m, \u001b[38;5;34m16\u001b[0m, \u001b[38;5;34m16\u001b[0m, \u001b[38;5;34m128\u001b[0m)    │             \u001b[38;5;34m0\u001b[0m │\n",
       "├─────────────────────────────────┼────────────────────────┼───────────────┤\n",
       "│ dropout_51 (\u001b[38;5;33mDropout\u001b[0m)            │ (\u001b[38;5;45mNone\u001b[0m, \u001b[38;5;34m16\u001b[0m, \u001b[38;5;34m16\u001b[0m, \u001b[38;5;34m128\u001b[0m)    │             \u001b[38;5;34m0\u001b[0m │\n",
       "├─────────────────────────────────┼────────────────────────┼───────────────┤\n",
       "│ conv2d_87 (\u001b[38;5;33mConv2D\u001b[0m)              │ (\u001b[38;5;45mNone\u001b[0m, \u001b[38;5;34m16\u001b[0m, \u001b[38;5;34m16\u001b[0m, \u001b[38;5;34m64\u001b[0m)     │        \u001b[38;5;34m73,792\u001b[0m │\n",
       "├─────────────────────────────────┼────────────────────────┼───────────────┤\n",
       "│ batch_normalization_107         │ (\u001b[38;5;45mNone\u001b[0m, \u001b[38;5;34m16\u001b[0m, \u001b[38;5;34m16\u001b[0m, \u001b[38;5;34m64\u001b[0m)     │           \u001b[38;5;34m256\u001b[0m │\n",
       "│ (\u001b[38;5;33mBatchNormalization\u001b[0m)            │                        │               │\n",
       "├─────────────────────────────────┼────────────────────────┼───────────────┤\n",
       "│ conv2d_88 (\u001b[38;5;33mConv2D\u001b[0m)              │ (\u001b[38;5;45mNone\u001b[0m, \u001b[38;5;34m16\u001b[0m, \u001b[38;5;34m16\u001b[0m, \u001b[38;5;34m64\u001b[0m)     │        \u001b[38;5;34m36,928\u001b[0m │\n",
       "├─────────────────────────────────┼────────────────────────┼───────────────┤\n",
       "│ batch_normalization_108         │ (\u001b[38;5;45mNone\u001b[0m, \u001b[38;5;34m16\u001b[0m, \u001b[38;5;34m16\u001b[0m, \u001b[38;5;34m64\u001b[0m)     │           \u001b[38;5;34m256\u001b[0m │\n",
       "│ (\u001b[38;5;33mBatchNormalization\u001b[0m)            │                        │               │\n",
       "├─────────────────────────────────┼────────────────────────┼───────────────┤\n",
       "│ max_pooling2d_79 (\u001b[38;5;33mMaxPooling2D\u001b[0m) │ (\u001b[38;5;45mNone\u001b[0m, \u001b[38;5;34m8\u001b[0m, \u001b[38;5;34m8\u001b[0m, \u001b[38;5;34m64\u001b[0m)       │             \u001b[38;5;34m0\u001b[0m │\n",
       "├─────────────────────────────────┼────────────────────────┼───────────────┤\n",
       "│ dropout_52 (\u001b[38;5;33mDropout\u001b[0m)            │ (\u001b[38;5;45mNone\u001b[0m, \u001b[38;5;34m8\u001b[0m, \u001b[38;5;34m8\u001b[0m, \u001b[38;5;34m64\u001b[0m)       │             \u001b[38;5;34m0\u001b[0m │\n",
       "├─────────────────────────────────┼────────────────────────┼───────────────┤\n",
       "│ flatten_24 (\u001b[38;5;33mFlatten\u001b[0m)            │ (\u001b[38;5;45mNone\u001b[0m, \u001b[38;5;34m4096\u001b[0m)           │             \u001b[38;5;34m0\u001b[0m │\n",
       "├─────────────────────────────────┼────────────────────────┼───────────────┤\n",
       "│ dense_39 (\u001b[38;5;33mDense\u001b[0m)                │ (\u001b[38;5;45mNone\u001b[0m, \u001b[38;5;34m64\u001b[0m)             │       \u001b[38;5;34m262,208\u001b[0m │\n",
       "├─────────────────────────────────┼────────────────────────┼───────────────┤\n",
       "│ batch_normalization_109         │ (\u001b[38;5;45mNone\u001b[0m, \u001b[38;5;34m64\u001b[0m)             │           \u001b[38;5;34m256\u001b[0m │\n",
       "│ (\u001b[38;5;33mBatchNormalization\u001b[0m)            │                        │               │\n",
       "├─────────────────────────────────┼────────────────────────┼───────────────┤\n",
       "│ dense_40 (\u001b[38;5;33mDense\u001b[0m)                │ (\u001b[38;5;45mNone\u001b[0m, \u001b[38;5;34m1\u001b[0m)              │            \u001b[38;5;34m65\u001b[0m │\n",
       "└─────────────────────────────────┴────────────────────────┴───────────────┘\n"
      ]
     },
     "metadata": {},
     "output_type": "display_data"
    },
    {
     "data": {
      "text/html": [
       "<pre style=\"white-space:pre;overflow-x:auto;line-height:normal;font-family:Menlo,'DejaVu Sans Mono',consolas,'Courier New',monospace\"><span style=\"font-weight: bold\"> Total params: </span><span style=\"color: #00af00; text-decoration-color: #00af00\">635,457</span> (2.42 MB)\n",
       "</pre>\n"
      ],
      "text/plain": [
       "\u001b[1m Total params: \u001b[0m\u001b[38;5;34m635,457\u001b[0m (2.42 MB)\n"
      ]
     },
     "metadata": {},
     "output_type": "display_data"
    },
    {
     "data": {
      "text/html": [
       "<pre style=\"white-space:pre;overflow-x:auto;line-height:normal;font-family:Menlo,'DejaVu Sans Mono',consolas,'Courier New',monospace\"><span style=\"font-weight: bold\"> Trainable params: </span><span style=\"color: #00af00; text-decoration-color: #00af00\">634,305</span> (2.42 MB)\n",
       "</pre>\n"
      ],
      "text/plain": [
       "\u001b[1m Trainable params: \u001b[0m\u001b[38;5;34m634,305\u001b[0m (2.42 MB)\n"
      ]
     },
     "metadata": {},
     "output_type": "display_data"
    },
    {
     "data": {
      "text/html": [
       "<pre style=\"white-space:pre;overflow-x:auto;line-height:normal;font-family:Menlo,'DejaVu Sans Mono',consolas,'Courier New',monospace\"><span style=\"font-weight: bold\"> Non-trainable params: </span><span style=\"color: #00af00; text-decoration-color: #00af00\">1,152</span> (4.50 KB)\n",
       "</pre>\n"
      ],
      "text/plain": [
       "\u001b[1m Non-trainable params: \u001b[0m\u001b[38;5;34m1,152\u001b[0m (4.50 KB)\n"
      ]
     },
     "metadata": {},
     "output_type": "display_data"
    },
    {
     "name": "stdout",
     "output_type": "stream",
     "text": [
      "Epoch 1/30\n"
     ]
    },
    {
     "name": "stderr",
     "output_type": "stream",
     "text": [
      "/home/studio-lab-user/.conda/envs/default/lib/python3.9/site-packages/keras/src/trainers/data_adapters/py_dataset_adapter.py:121: UserWarning: Your `PyDataset` class should call `super().__init__(**kwargs)` in its constructor. `**kwargs` can include `workers`, `use_multiprocessing`, `max_queue_size`. Do not pass these arguments to `fit()`, as they will be ignored.\n",
      "  self._warn_if_super_not_called()\n"
     ]
    },
    {
     "name": "stdout",
     "output_type": "stream",
     "text": [
      "\u001b[1m31/31\u001b[0m \u001b[32m━━━━━━━━━━━━━━━━━━━━\u001b[0m\u001b[37m\u001b[0m \u001b[1m21s\u001b[0m 550ms/step - accuracy: 0.5383 - loss: 1.0446 - val_accuracy: 0.5000 - val_loss: 5.1733 - learning_rate: 0.0050\n",
      "Epoch 2/30\n",
      "\u001b[1m31/31\u001b[0m \u001b[32m━━━━━━━━━━━━━━━━━━━━\u001b[0m\u001b[37m\u001b[0m \u001b[1m17s\u001b[0m 544ms/step - accuracy: 0.6405 - loss: 0.6528 - val_accuracy: 0.5542 - val_loss: 0.7765 - learning_rate: 0.0050\n",
      "Epoch 3/30\n",
      "\u001b[1m31/31\u001b[0m \u001b[32m━━━━━━━━━━━━━━━━━━━━\u001b[0m\u001b[37m\u001b[0m \u001b[1m17s\u001b[0m 541ms/step - accuracy: 0.7131 - loss: 0.5598 - val_accuracy: 0.6375 - val_loss: 0.6507 - learning_rate: 0.0050\n",
      "Epoch 4/30\n",
      "\u001b[1m31/31\u001b[0m \u001b[32m━━━━━━━━━━━━━━━━━━━━\u001b[0m\u001b[37m\u001b[0m \u001b[1m17s\u001b[0m 543ms/step - accuracy: 0.8151 - loss: 0.4035 - val_accuracy: 0.6292 - val_loss: 0.6546 - learning_rate: 0.0050\n",
      "Epoch 5/30\n",
      "\u001b[1m31/31\u001b[0m \u001b[32m━━━━━━━━━━━━━━━━━━━━\u001b[0m\u001b[37m\u001b[0m \u001b[1m17s\u001b[0m 546ms/step - accuracy: 0.8499 - loss: 0.3682 - val_accuracy: 0.5083 - val_loss: 1.0030 - learning_rate: 0.0050\n",
      "Epoch 6/30\n",
      "\u001b[1m31/31\u001b[0m \u001b[32m━━━━━━━━━━━━━━━━━━━━\u001b[0m\u001b[37m\u001b[0m \u001b[1m17s\u001b[0m 538ms/step - accuracy: 0.9089 - loss: 0.2485 - val_accuracy: 0.4875 - val_loss: 2.3949 - learning_rate: 0.0050\n",
      "Epoch 7/30\n",
      "\u001b[1m31/31\u001b[0m \u001b[32m━━━━━━━━━━━━━━━━━━━━\u001b[0m\u001b[37m\u001b[0m \u001b[1m17s\u001b[0m 554ms/step - accuracy: 0.8569 - loss: 0.3198 - val_accuracy: 0.5042 - val_loss: 1.5358 - learning_rate: 0.0050\n",
      "Epoch 8/30\n",
      "\u001b[1m31/31\u001b[0m \u001b[32m━━━━━━━━━━━━━━━━━━━━\u001b[0m\u001b[37m\u001b[0m \u001b[1m17s\u001b[0m 542ms/step - accuracy: 0.8627 - loss: 0.3386 - val_accuracy: 0.4875 - val_loss: 1.4890 - learning_rate: 0.0050\n",
      "Epoch 9/30\n",
      "\u001b[1m31/31\u001b[0m \u001b[32m━━━━━━━━━━━━━━━━━━━━\u001b[0m\u001b[37m\u001b[0m \u001b[1m17s\u001b[0m 550ms/step - accuracy: 0.8837 - loss: 0.2706 - val_accuracy: 0.7375 - val_loss: 0.8465 - learning_rate: 0.0050\n",
      "Epoch 10/30\n",
      "\u001b[1m31/31\u001b[0m \u001b[32m━━━━━━━━━━━━━━━━━━━━\u001b[0m\u001b[37m\u001b[0m \u001b[1m17s\u001b[0m 544ms/step - accuracy: 0.8440 - loss: 0.3515 - val_accuracy: 0.6583 - val_loss: 1.2393 - learning_rate: 0.0050\n",
      "Epoch 11/30\n",
      "\u001b[1m31/31\u001b[0m \u001b[32m━━━━━━━━━━━━━━━━━━━━\u001b[0m\u001b[37m\u001b[0m \u001b[1m0s\u001b[0m 505ms/step - accuracy: 0.8802 - loss: 0.2913\n",
      "Epoch 11: ReduceLROnPlateau reducing learning rate to 0.0029999999329447745.\n",
      "\u001b[1m31/31\u001b[0m \u001b[32m━━━━━━━━━━━━━━━━━━━━\u001b[0m\u001b[37m\u001b[0m \u001b[1m17s\u001b[0m 541ms/step - accuracy: 0.8804 - loss: 0.2911 - val_accuracy: 0.7250 - val_loss: 0.7671 - learning_rate: 0.0050\n",
      "Epoch 12/30\n",
      "\u001b[1m31/31\u001b[0m \u001b[32m━━━━━━━━━━━━━━━━━━━━\u001b[0m\u001b[37m\u001b[0m \u001b[1m17s\u001b[0m 547ms/step - accuracy: 0.9132 - loss: 0.2202 - val_accuracy: 0.8250 - val_loss: 0.4925 - learning_rate: 0.0030\n",
      "Epoch 13/30\n",
      "\u001b[1m31/31\u001b[0m \u001b[32m━━━━━━━━━━━━━━━━━━━━\u001b[0m\u001b[37m\u001b[0m \u001b[1m17s\u001b[0m 543ms/step - accuracy: 0.9259 - loss: 0.1826 - val_accuracy: 0.7500 - val_loss: 0.6867 - learning_rate: 0.0030\n",
      "Epoch 14/30\n",
      "\u001b[1m31/31\u001b[0m \u001b[32m━━━━━━━━━━━━━━━━━━━━\u001b[0m\u001b[37m\u001b[0m \u001b[1m17s\u001b[0m 551ms/step - accuracy: 0.9380 - loss: 0.1694 - val_accuracy: 0.8708 - val_loss: 0.4040 - learning_rate: 0.0030\n",
      "Epoch 15/30\n",
      "\u001b[1m31/31\u001b[0m \u001b[32m━━━━━━━━━━━━━━━━━━━━\u001b[0m\u001b[37m\u001b[0m \u001b[1m17s\u001b[0m 544ms/step - accuracy: 0.9074 - loss: 0.2152 - val_accuracy: 0.8042 - val_loss: 0.5143 - learning_rate: 0.0030\n",
      "Epoch 16/30\n",
      "\u001b[1m31/31\u001b[0m \u001b[32m━━━━━━━━━━━━━━━━━━━━\u001b[0m\u001b[37m\u001b[0m \u001b[1m17s\u001b[0m 545ms/step - accuracy: 0.9248 - loss: 0.2043 - val_accuracy: 0.8792 - val_loss: 0.3666 - learning_rate: 0.0030\n",
      "Epoch 17/30\n",
      "\u001b[1m31/31\u001b[0m \u001b[32m━━━━━━━━━━━━━━━━━━━━\u001b[0m\u001b[37m\u001b[0m \u001b[1m17s\u001b[0m 541ms/step - accuracy: 0.9369 - loss: 0.1777 - val_accuracy: 0.7125 - val_loss: 0.7406 - learning_rate: 0.0030\n",
      "Epoch 18/30\n",
      "\u001b[1m31/31\u001b[0m \u001b[32m━━━━━━━━━━━━━━━━━━━━\u001b[0m\u001b[37m\u001b[0m \u001b[1m17s\u001b[0m 546ms/step - accuracy: 0.9400 - loss: 0.1697 - val_accuracy: 0.7500 - val_loss: 0.5809 - learning_rate: 0.0030\n",
      "Epoch 19/30\n",
      "\u001b[1m31/31\u001b[0m \u001b[32m━━━━━━━━━━━━━━━━━━━━\u001b[0m\u001b[37m\u001b[0m \u001b[1m17s\u001b[0m 543ms/step - accuracy: 0.9361 - loss: 0.1806 - val_accuracy: 0.8250 - val_loss: 0.5021 - learning_rate: 0.0030\n",
      "Epoch 20/30\n",
      "\u001b[1m31/31\u001b[0m \u001b[32m━━━━━━━━━━━━━━━━━━━━\u001b[0m\u001b[37m\u001b[0m \u001b[1m17s\u001b[0m 545ms/step - accuracy: 0.9409 - loss: 0.1769 - val_accuracy: 0.8125 - val_loss: 0.4711 - learning_rate: 0.0030\n",
      "Epoch 21/30\n",
      "\u001b[1m31/31\u001b[0m \u001b[32m━━━━━━━━━━━━━━━━━━━━\u001b[0m\u001b[37m\u001b[0m \u001b[1m17s\u001b[0m 566ms/step - accuracy: 0.9548 - loss: 0.1168 - val_accuracy: 0.7958 - val_loss: 0.4301 - learning_rate: 0.0030\n",
      "Epoch 22/30\n",
      "\u001b[1m31/31\u001b[0m \u001b[32m━━━━━━━━━━━━━━━━━━━━\u001b[0m\u001b[37m\u001b[0m \u001b[1m17s\u001b[0m 546ms/step - accuracy: 0.9528 - loss: 0.1247 - val_accuracy: 0.8000 - val_loss: 0.5322 - learning_rate: 0.0030\n",
      "Epoch 23/30\n",
      "\u001b[1m31/31\u001b[0m \u001b[32m━━━━━━━━━━━━━━━━━━━━\u001b[0m\u001b[37m\u001b[0m \u001b[1m17s\u001b[0m 551ms/step - accuracy: 0.9462 - loss: 0.1608 - val_accuracy: 0.8583 - val_loss: 0.3724 - learning_rate: 0.0030\n",
      "Epoch 24/30\n",
      "\u001b[1m31/31\u001b[0m \u001b[32m━━━━━━━━━━━━━━━━━━━━\u001b[0m\u001b[37m\u001b[0m \u001b[1m0s\u001b[0m 513ms/step - accuracy: 0.9269 - loss: 0.1827\n",
      "Epoch 24: ReduceLROnPlateau reducing learning rate to 0.001800000015646219.\n",
      "\u001b[1m31/31\u001b[0m \u001b[32m━━━━━━━━━━━━━━━━━━━━\u001b[0m\u001b[37m\u001b[0m \u001b[1m17s\u001b[0m 550ms/step - accuracy: 0.9273 - loss: 0.1822 - val_accuracy: 0.7208 - val_loss: 0.7448 - learning_rate: 0.0030\n",
      "Epoch 25/30\n",
      "\u001b[1m31/31\u001b[0m \u001b[32m━━━━━━━━━━━━━━━━━━━━\u001b[0m\u001b[37m\u001b[0m \u001b[1m17s\u001b[0m 552ms/step - accuracy: 0.9659 - loss: 0.1040 - val_accuracy: 0.9292 - val_loss: 0.1677 - learning_rate: 0.0018\n",
      "Epoch 26/30\n",
      "\u001b[1m31/31\u001b[0m \u001b[32m━━━━━━━━━━━━━━━━━━━━\u001b[0m\u001b[37m\u001b[0m \u001b[1m17s\u001b[0m 548ms/step - accuracy: 0.9543 - loss: 0.1122 - val_accuracy: 0.9167 - val_loss: 0.2320 - learning_rate: 0.0018\n",
      "Epoch 27/30\n",
      "\u001b[1m31/31\u001b[0m \u001b[32m━━━━━━━━━━━━━━━━━━━━\u001b[0m\u001b[37m\u001b[0m \u001b[1m17s\u001b[0m 551ms/step - accuracy: 0.9721 - loss: 0.0981 - val_accuracy: 0.9042 - val_loss: 0.2392 - learning_rate: 0.0018\n",
      "Epoch 28/30\n",
      "\u001b[1m31/31\u001b[0m \u001b[32m━━━━━━━━━━━━━━━━━━━━\u001b[0m\u001b[37m\u001b[0m \u001b[1m17s\u001b[0m 557ms/step - accuracy: 0.9714 - loss: 0.1015 - val_accuracy: 0.9500 - val_loss: 0.1000 - learning_rate: 0.0018\n",
      "Epoch 29/30\n",
      "\u001b[1m31/31\u001b[0m \u001b[32m━━━━━━━━━━━━━━━━━━━━\u001b[0m\u001b[37m\u001b[0m \u001b[1m17s\u001b[0m 544ms/step - accuracy: 0.9718 - loss: 0.0900 - val_accuracy: 0.9083 - val_loss: 0.3031 - learning_rate: 0.0018\n",
      "Epoch 30/30\n",
      "\u001b[1m31/31\u001b[0m \u001b[32m━━━━━━━━━━━━━━━━━━━━\u001b[0m\u001b[37m\u001b[0m \u001b[1m17s\u001b[0m 544ms/step - accuracy: 0.9691 - loss: 0.0920 - val_accuracy: 0.7750 - val_loss: 0.7809 - learning_rate: 0.0018\n"
     ]
    }
   ],
   "source": [
    "# Nuevamente instanciamos una copia de ImageDataGenerador con la configuración de Dataaugmentation reducida\n",
    "train_datagen = ImageDataGenerator(\n",
    "    rescale=1./255,\n",
    "    rotation_range=15,  # Rotación aleatoria\n",
    "    width_shift_range=0.2, # fraccion del total (1) para mover la imagen\n",
    "    height_shift_range=0.2, # fraccion del total (1) para mover la imagen\n",
    "    horizontal_flip=True, # girar las imagenes horizontalmente (eje vertical)\n",
    "    validation_split=0.2\n",
    "    )\n",
    "\n",
    "# Generadores de flujo de datos para entrenamiento, validación y prueba\n",
    "train_generator = train_datagen.flow_from_dataframe(\n",
    "    df_train,\n",
    "    x_col='filename',\n",
    "    y_col='class',\n",
    "    target_size=(img_height, img_width),\n",
    "    batch_size=batch_size,\n",
    "    subset='training',\n",
    "    class_mode='binary')\n",
    "\n",
    "# Definición de los hiperparámetros\n",
    "\n",
    "epochs = 30\n",
    "batch_size = 32\n",
    "\n",
    "# Instanciamos nuestro modelo\n",
    "modelo = Sequential()\n",
    "\n",
    "# Definimos el BASE MODEL\n",
    "\n",
    "modelo.add(layers.Conv2D(64, (3,3),input_shape=(img_width, img_height,3), padding=\"same\", activation='relu'))\n",
    "modelo.add(layers.BatchNormalization())\n",
    "modelo.add(layers.Conv2D(64, (3,3),padding=\"same\", activation='relu'))\n",
    "modelo.add(layers.BatchNormalization())\n",
    "modelo.add(layers.MaxPooling2D(2,2))\n",
    "modelo.add(layers.Dropout(0.1))\n",
    "\n",
    "\n",
    "modelo.add(layers.Conv2D(128, (3,3), padding=\"same\", activation='relu'))\n",
    "modelo.add(layers.BatchNormalization())\n",
    "modelo.add(layers.Conv2D(128, (3,3), padding=\"same\", activation='relu'))\n",
    "modelo.add(layers.BatchNormalization())\n",
    "modelo.add(layers.MaxPooling2D(2,2))\n",
    "modelo.add(layers.Dropout(0.1))\n",
    "\n",
    "\n",
    "modelo.add(layers.Conv2D(64, (3,3),padding=\"same\", activation='relu'))\n",
    "modelo.add(layers.BatchNormalization())\n",
    "modelo.add(layers.Conv2D(64, (3,3),padding=\"same\", activation='relu'))\n",
    "modelo.add(layers.BatchNormalization())\n",
    "modelo.add(layers.MaxPooling2D(2,2))\n",
    "modelo.add(layers.Dropout(0.1))\n",
    "\n",
    "\n",
    "# Definimos el TOP MODEL\n",
    "\n",
    "modelo.add(layers.Flatten())\n",
    "modelo.add(layers.Dense(64, activation='relu'))\n",
    "modelo.add(layers.BatchNormalization())\n",
    "modelo.add(layers.Dense(1, activation='sigmoid'))\n",
    "\n",
    "modelo.summary()\n",
    "\n",
    "# Compilamos el modelo con los hiperparametros definidos\n",
    "optimizer = tf.keras.optimizers.Adam(learning_rate=0.005)\n",
    "modelo.compile(loss='binary_crossentropy',\n",
    "              optimizer=optimizer,\n",
    "              metrics=['accuracy'])\n",
    "\n",
    "# Definimos nuestros callback\n",
    "callback_list=[\n",
    "    callbacks.EarlyStopping(monitor=\"val_loss\",patience=20,restore_best_weights=True),\n",
    "    callbacks.ReduceLROnPlateau(monitor=\"val_loss\",factor=0.6,patience=8,verbose=1,min_lr=0.001),\n",
    "    callbacks.ModelCheckpoint(filepath='best_model.keras',monitor='val_loss',save_best_only=True)\n",
    "]\n",
    "\n",
    "# Entrenamos el modelo\n",
    "historial = modelo.fit(train_generator,\n",
    "                       epochs = epochs,\n",
    "                       validation_data = val_generator,\n",
    "                       callbacks=callback_list)"
   ]
  },
  {
   "cell_type": "markdown",
   "metadata": {},
   "source": [
    "#### Monitoreo y evaluación del modelo"
   ]
  },
  {
   "cell_type": "code",
   "execution_count": 46,
   "metadata": {
    "tags": []
   },
   "outputs": [
    {
     "data": {
      "image/png": "[encoded data removed]",
      "text/plain": [
       "<Figure size 1200x400 with 2 Axes>"
      ]
     },
     "metadata": {},
     "output_type": "display_data"
    }
   ],
   "source": [
    "grafica_curvas_aprendizaje(historial,30)"
   ]
  },
  {
   "cell_type": "code",
   "execution_count": 59,
   "metadata": {
    "tags": []
   },
   "outputs": [
    {
     "name": "stdout",
     "output_type": "stream",
     "text": [
      "\u001b[1m1/1\u001b[0m \u001b[32m━━━━━━━━━━━━━━━━━━━━\u001b[0m\u001b[37m\u001b[0m \u001b[1m0s\u001b[0m 104ms/step\n"
     ]
    },
    {
     "data": {
      "image/png": "[encoded data removed]",
      "text/plain": [
       "<Figure size 200x200 with 1 Axes>"
      ]
     },
     "metadata": {},
     "output_type": "display_data"
    }
   ],
   "source": [
    "# Usamos las mustras del conjunto de test para predecir resultado\n",
    "\n",
    "sample_image, sample_label = next(test_generator)\n",
    "predict_label = (modelo.predict(sample_image) > 0.5).astype(\"int32\")\n",
    "random_index = np.random.randint(0, len(sample_image))  # Índice aleatorio dentro del batch\n",
    "\n",
    "single_image = sample_image[random_index]\n",
    "single_label = sample_label[random_index]\n",
    "\n",
    "mostrar_muestra(single_image,\"No smile\" if single_label == 0 else \"Smile\")\n",
    "#predicted_labels = (modelo.predict(val_generator) > 0.5).astype(\"int32\")"
   ]
  },
  {
   "cell_type": "markdown",
   "metadata": {},
   "source": [
    "**Análisis y conclusiones de la primera estrategia**\n",
    "\n",
    "1. Precisión (Accuracy):\n",
    "\n",
    "La precisión del entrenamiento es muy buena y se llega a valores sobre el 95%, sin embargo no se observa lo mismo con la precisión de validación que si bien despues de 25 epocas llega a valores moderados sin embargo es muy erratico. \n",
    "\n",
    "2. Pérdida (Loss):\n",
    "\n",
    "La pérdida de entrenamiento decrece de manera significativa y rápida, lo cual es un buen indicador de aprendizaje.\n",
    "La pérdida de validación sigue una tendencia similar a la de entrenamiento, lo cual es positivo.\n",
    "\n",
    "3. Generalización:\n",
    "\n",
    "Dado que aun no se consigue tener cercanía entre las líneas de precisión y pérdida de entrenamiento y validación se determina que el modelo no generaliza del todo bien y aun presenta un ligero sobreajuste.\n",
    "Pensamos que no se pudo mejorar el sobreajuste debido al pequeño dataset de muestras.\n",
    "\n",
    "4. Consistencia:\n",
    "\n",
    "No existe consistencia dado que as líneas de precisión no son bastante suaves, lo que sugiere utilizar técnicas de prenetrenado y finetunning.\n"
   ]
  }
 ],
 "metadata": {
  "accelerator": "GPU",
  "colab": {
   "authorship_tag": "ABX9TyNGC0ZYxe4omOAC3XIze6Vb",
   "gpuType": "T4",
   "machine_shape": "hm",
   "provenance": []
  },
  "kernelspec": {
   "display_name": ".conda-default:Python",
   "language": "python",
   "name": "conda-env-.conda-default-py"
  },
  "language_info": {
   "codemirror_mode": {
    "name": "ipython",
    "version": 3
   },
   "file_extension": ".py",
   "mimetype": "text/x-python",
   "name": "python",
   "nbconvert_exporter": "python",
   "pygments_lexer": "ipython3",
   "version": "3.9.19"
  }
 },
 "nbformat": 4,
 "nbformat_minor": 4
}
