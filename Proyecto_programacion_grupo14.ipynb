{
 "cells": [
  {
   "cell_type": "markdown",
   "metadata": {
    "id": "fOKlEkNt00Vm"
   },
   "source": [
    "### 1. Carga del conjunto de datos"
   ]
  },
  {
   "cell_type": "markdown",
   "metadata": {},
   "source": [
    "#### 1.1 Instalación e importación de librerias necesarias y lectura de datos de kaggle"
   ]
  },
  {
   "cell_type": "code",
   "execution_count": 3,
   "metadata": {
    "collapsed": true,
    "jupyter": {
     "outputs_hidden": true
    },
    "tags": []
   },
   "outputs": [
    {
     "name": "stdout",
     "output_type": "stream",
     "text": [
      "\u001b[31mERROR: Could not find a version that satisfies the requirement opencv (from versions: none)\u001b[0m\n",
      "\u001b[31mERROR: No matching distribution found for opencv\u001b[0m\n",
      "Note: you may need to restart the kernel to use updated packages.\n",
      "Requirement already satisfied: google-colab in /home/studio-lab-user/.conda/envs/default/lib/python3.9/site-packages (1.0.0)\n",
      "Requirement already satisfied: notebook>=5.2.0 in /home/studio-lab-user/.conda/envs/default/lib/python3.9/site-packages (from google-colab) (7.1.3)\n",
      "Requirement already satisfied: ipython>=5.5.0 in /home/studio-lab-user/.conda/envs/default/lib/python3.9/site-packages (from google-colab) (7.33.0)\n",
      "Requirement already satisfied: tornado>=4.5.0 in /home/studio-lab-user/.conda/envs/default/lib/python3.9/site-packages (from google-colab) (6.4)\n",
      "Requirement already satisfied: portpicker>=1.2.0 in /home/studio-lab-user/.conda/envs/default/lib/python3.9/site-packages (from google-colab) (1.6.0)\n",
      "Requirement already satisfied: requests>=2.21.0 in /home/studio-lab-user/.conda/envs/default/lib/python3.9/site-packages (from google-colab) (2.32.3)\n",
      "Requirement already satisfied: ipykernel>=4.6.0 in /home/studio-lab-user/.conda/envs/default/lib/python3.9/site-packages (from google-colab) (6.4.2)\n",
      "Requirement already satisfied: six>=1.12.0 in /home/studio-lab-user/.conda/envs/default/lib/python3.9/site-packages (from google-colab) (1.16.0)\n",
      "Requirement already satisfied: pandas>=0.24.0 in /home/studio-lab-user/.conda/envs/default/lib/python3.9/site-packages (from google-colab) (2.2.3)\n",
      "Requirement already satisfied: google-auth>=1.4.0 in /home/studio-lab-user/.conda/envs/default/lib/python3.9/site-packages (from google-colab) (2.35.0)\n",
      "Requirement already satisfied: pyasn1-modules>=0.2.1 in /home/studio-lab-user/.conda/envs/default/lib/python3.9/site-packages (from google-auth>=1.4.0->google-colab) (0.4.1)\n",
      "Requirement already satisfied: cachetools<6.0,>=2.0.0 in /home/studio-lab-user/.conda/envs/default/lib/python3.9/site-packages (from google-auth>=1.4.0->google-colab) (5.5.0)\n",
      "Requirement already satisfied: rsa<5,>=3.1.4 in /home/studio-lab-user/.conda/envs/default/lib/python3.9/site-packages (from google-auth>=1.4.0->google-colab) (4.9)\n",
      "Requirement already satisfied: traitlets<6.0,>=4.1.0 in /home/studio-lab-user/.conda/envs/default/lib/python3.9/site-packages (from ipykernel>=4.6.0->google-colab) (5.14.3)\n",
      "Requirement already satisfied: debugpy<2.0,>=1.0.0 in /home/studio-lab-user/.conda/envs/default/lib/python3.9/site-packages (from ipykernel>=4.6.0->google-colab) (1.8.1)\n",
      "Requirement already satisfied: jupyter-client<8.0 in /home/studio-lab-user/.conda/envs/default/lib/python3.9/site-packages (from ipykernel>=4.6.0->google-colab) (7.4.9)\n",
      "Requirement already satisfied: ipython-genutils in /home/studio-lab-user/.conda/envs/default/lib/python3.9/site-packages (from ipykernel>=4.6.0->google-colab) (0.2.0)\n",
      "Requirement already satisfied: matplotlib-inline<0.2.0,>=0.1.0 in /home/studio-lab-user/.conda/envs/default/lib/python3.9/site-packages (from ipykernel>=4.6.0->google-colab) (0.1.7)\n",
      "Requirement already satisfied: prompt-toolkit!=3.0.0,!=3.0.1,<3.1.0,>=2.0.0 in /home/studio-lab-user/.conda/envs/default/lib/python3.9/site-packages (from ipython>=5.5.0->google-colab) (3.0.42)\n",
      "Requirement already satisfied: pygments in /home/studio-lab-user/.conda/envs/default/lib/python3.9/site-packages (from ipython>=5.5.0->google-colab) (2.18.0)\n",
      "Requirement already satisfied: pexpect>4.3 in /home/studio-lab-user/.conda/envs/default/lib/python3.9/site-packages (from ipython>=5.5.0->google-colab) (4.9.0)\n",
      "Requirement already satisfied: backcall in /home/studio-lab-user/.conda/envs/default/lib/python3.9/site-packages (from ipython>=5.5.0->google-colab) (0.2.0)\n",
      "Requirement already satisfied: setuptools>=18.5 in /home/studio-lab-user/.conda/envs/default/lib/python3.9/site-packages (from ipython>=5.5.0->google-colab) (70.0.0)\n",
      "Requirement already satisfied: decorator in /home/studio-lab-user/.conda/envs/default/lib/python3.9/site-packages (from ipython>=5.5.0->google-colab) (5.1.1)\n",
      "Requirement already satisfied: pickleshare in /home/studio-lab-user/.conda/envs/default/lib/python3.9/site-packages (from ipython>=5.5.0->google-colab) (0.7.5)\n",
      "Requirement already satisfied: jedi>=0.16 in /home/studio-lab-user/.conda/envs/default/lib/python3.9/site-packages (from ipython>=5.5.0->google-colab) (0.19.1)\n",
      "Requirement already satisfied: parso<0.9.0,>=0.8.3 in /home/studio-lab-user/.conda/envs/default/lib/python3.9/site-packages (from jedi>=0.16->ipython>=5.5.0->google-colab) (0.8.4)\n",
      "Requirement already satisfied: nest-asyncio>=1.5.4 in /home/studio-lab-user/.conda/envs/default/lib/python3.9/site-packages (from jupyter-client<8.0->ipykernel>=4.6.0->google-colab) (1.6.0)\n",
      "Requirement already satisfied: entrypoints in /home/studio-lab-user/.conda/envs/default/lib/python3.9/site-packages (from jupyter-client<8.0->ipykernel>=4.6.0->google-colab) (0.4)\n",
      "Requirement already satisfied: pyzmq>=23.0 in /home/studio-lab-user/.conda/envs/default/lib/python3.9/site-packages (from jupyter-client<8.0->ipykernel>=4.6.0->google-colab) (26.0.3)\n",
      "Requirement already satisfied: jupyter-core>=4.9.2 in /home/studio-lab-user/.conda/envs/default/lib/python3.9/site-packages (from jupyter-client<8.0->ipykernel>=4.6.0->google-colab) (5.7.2)\n",
      "Requirement already satisfied: python-dateutil>=2.8.2 in /home/studio-lab-user/.conda/envs/default/lib/python3.9/site-packages (from jupyter-client<8.0->ipykernel>=4.6.0->google-colab) (2.9.0)\n",
      "Requirement already satisfied: platformdirs>=2.5 in /home/studio-lab-user/.conda/envs/default/lib/python3.9/site-packages (from jupyter-core>=4.9.2->jupyter-client<8.0->ipykernel>=4.6.0->google-colab) (4.2.2)\n",
      "Requirement already satisfied: jupyter-server<3,>=2.4.0 in /home/studio-lab-user/.conda/envs/default/lib/python3.9/site-packages (from notebook>=5.2.0->google-colab) (2.14.0)\n",
      "Requirement already satisfied: notebook-shim<0.3,>=0.2 in /home/studio-lab-user/.conda/envs/default/lib/python3.9/site-packages (from notebook>=5.2.0->google-colab) (0.2.4)\n",
      "Requirement already satisfied: jupyterlab<4.2,>=4.1.1 in /home/studio-lab-user/.conda/envs/default/lib/python3.9/site-packages (from notebook>=5.2.0->google-colab) (4.1.5)\n",
      "Requirement already satisfied: jupyterlab-server<3,>=2.22.1 in /home/studio-lab-user/.conda/envs/default/lib/python3.9/site-packages (from notebook>=5.2.0->google-colab) (2.27.2)\n",
      "Requirement already satisfied: nbconvert>=6.4.4 in /home/studio-lab-user/.conda/envs/default/lib/python3.9/site-packages (from jupyter-server<3,>=2.4.0->notebook>=5.2.0->google-colab) (7.16.4)\n",
      "Requirement already satisfied: packaging>=22.0 in /home/studio-lab-user/.conda/envs/default/lib/python3.9/site-packages (from jupyter-server<3,>=2.4.0->notebook>=5.2.0->google-colab) (24.0)\n",
      "Requirement already satisfied: nbformat>=5.3.0 in /home/studio-lab-user/.conda/envs/default/lib/python3.9/site-packages (from jupyter-server<3,>=2.4.0->notebook>=5.2.0->google-colab) (5.10.4)\n",
      "Requirement already satisfied: terminado>=0.8.3 in /home/studio-lab-user/.conda/envs/default/lib/python3.9/site-packages (from jupyter-server<3,>=2.4.0->notebook>=5.2.0->google-colab) (0.18.1)\n",
      "Requirement already satisfied: send2trash>=1.8.2 in /home/studio-lab-user/.conda/envs/default/lib/python3.9/site-packages (from jupyter-server<3,>=2.4.0->notebook>=5.2.0->google-colab) (1.8.3)\n",
      "Requirement already satisfied: argon2-cffi>=21.1 in /home/studio-lab-user/.conda/envs/default/lib/python3.9/site-packages (from jupyter-server<3,>=2.4.0->notebook>=5.2.0->google-colab) (23.1.0)\n",
      "Requirement already satisfied: jupyter-events>=0.9.0 in /home/studio-lab-user/.conda/envs/default/lib/python3.9/site-packages (from jupyter-server<3,>=2.4.0->notebook>=5.2.0->google-colab) (0.10.0)\n",
      "Requirement already satisfied: jupyter-server-terminals>=0.4.4 in /home/studio-lab-user/.conda/envs/default/lib/python3.9/site-packages (from jupyter-server<3,>=2.4.0->notebook>=5.2.0->google-colab) (0.5.3)\n",
      "Requirement already satisfied: prometheus-client>=0.9 in /home/studio-lab-user/.conda/envs/default/lib/python3.9/site-packages (from jupyter-server<3,>=2.4.0->notebook>=5.2.0->google-colab) (0.20.0)\n",
      "Requirement already satisfied: anyio>=3.1.0 in /home/studio-lab-user/.conda/envs/default/lib/python3.9/site-packages (from jupyter-server<3,>=2.4.0->notebook>=5.2.0->google-colab) (4.3.0)\n",
      "Requirement already satisfied: websocket-client>=1.7 in /home/studio-lab-user/.conda/envs/default/lib/python3.9/site-packages (from jupyter-server<3,>=2.4.0->notebook>=5.2.0->google-colab) (1.8.0)\n",
      "Requirement already satisfied: overrides>=5.0 in /home/studio-lab-user/.conda/envs/default/lib/python3.9/site-packages (from jupyter-server<3,>=2.4.0->notebook>=5.2.0->google-colab) (7.7.0)\n",
      "Requirement already satisfied: jinja2>=3.0.3 in /home/studio-lab-user/.conda/envs/default/lib/python3.9/site-packages (from jupyter-server<3,>=2.4.0->notebook>=5.2.0->google-colab) (3.1.4)\n",
      "Requirement already satisfied: exceptiongroup>=1.0.2 in /home/studio-lab-user/.conda/envs/default/lib/python3.9/site-packages (from anyio>=3.1.0->jupyter-server<3,>=2.4.0->notebook>=5.2.0->google-colab) (1.2.0)\n",
      "Requirement already satisfied: typing-extensions>=4.1 in /home/studio-lab-user/.conda/envs/default/lib/python3.9/site-packages (from anyio>=3.1.0->jupyter-server<3,>=2.4.0->notebook>=5.2.0->google-colab) (4.11.0)\n",
      "Requirement already satisfied: sniffio>=1.1 in /home/studio-lab-user/.conda/envs/default/lib/python3.9/site-packages (from anyio>=3.1.0->jupyter-server<3,>=2.4.0->notebook>=5.2.0->google-colab) (1.3.1)\n",
      "Requirement already satisfied: idna>=2.8 in /home/studio-lab-user/.conda/envs/default/lib/python3.9/site-packages (from anyio>=3.1.0->jupyter-server<3,>=2.4.0->notebook>=5.2.0->google-colab) (3.7)\n",
      "Requirement already satisfied: argon2-cffi-bindings in /home/studio-lab-user/.conda/envs/default/lib/python3.9/site-packages (from argon2-cffi>=21.1->jupyter-server<3,>=2.4.0->notebook>=5.2.0->google-colab) (21.2.0)\n",
      "Requirement already satisfied: MarkupSafe>=2.0 in /home/studio-lab-user/.conda/envs/default/lib/python3.9/site-packages (from jinja2>=3.0.3->jupyter-server<3,>=2.4.0->notebook>=5.2.0->google-colab) (2.1.5)\n",
      "Requirement already satisfied: rfc3986-validator>=0.1.1 in /home/studio-lab-user/.conda/envs/default/lib/python3.9/site-packages (from jupyter-events>=0.9.0->jupyter-server<3,>=2.4.0->notebook>=5.2.0->google-colab) (0.1.1)\n",
      "Requirement already satisfied: jsonschema[format-nongpl]>=4.18.0 in /home/studio-lab-user/.conda/envs/default/lib/python3.9/site-packages (from jupyter-events>=0.9.0->jupyter-server<3,>=2.4.0->notebook>=5.2.0->google-colab) (4.22.0)\n",
      "Requirement already satisfied: pyyaml>=5.3 in /home/studio-lab-user/.conda/envs/default/lib/python3.9/site-packages (from jupyter-events>=0.9.0->jupyter-server<3,>=2.4.0->notebook>=5.2.0->google-colab) (6.0.1)\n",
      "Requirement already satisfied: referencing in /home/studio-lab-user/.conda/envs/default/lib/python3.9/site-packages (from jupyter-events>=0.9.0->jupyter-server<3,>=2.4.0->notebook>=5.2.0->google-colab) (0.35.1)\n",
      "Requirement already satisfied: python-json-logger>=2.0.4 in /home/studio-lab-user/.conda/envs/default/lib/python3.9/site-packages (from jupyter-events>=0.9.0->jupyter-server<3,>=2.4.0->notebook>=5.2.0->google-colab) (2.0.7)\n",
      "Requirement already satisfied: rfc3339-validator in /home/studio-lab-user/.conda/envs/default/lib/python3.9/site-packages (from jupyter-events>=0.9.0->jupyter-server<3,>=2.4.0->notebook>=5.2.0->google-colab) (0.1.4)\n",
      "Requirement already satisfied: rpds-py>=0.7.1 in /home/studio-lab-user/.conda/envs/default/lib/python3.9/site-packages (from jsonschema[format-nongpl]>=4.18.0->jupyter-events>=0.9.0->jupyter-server<3,>=2.4.0->notebook>=5.2.0->google-colab) (0.18.1)\n",
      "Requirement already satisfied: attrs>=22.2.0 in /home/studio-lab-user/.conda/envs/default/lib/python3.9/site-packages (from jsonschema[format-nongpl]>=4.18.0->jupyter-events>=0.9.0->jupyter-server<3,>=2.4.0->notebook>=5.2.0->google-colab) (23.2.0)\n",
      "Requirement already satisfied: jsonschema-specifications>=2023.03.6 in /home/studio-lab-user/.conda/envs/default/lib/python3.9/site-packages (from jsonschema[format-nongpl]>=4.18.0->jupyter-events>=0.9.0->jupyter-server<3,>=2.4.0->notebook>=5.2.0->google-colab) (2023.12.1)\n",
      "Requirement already satisfied: fqdn in /home/studio-lab-user/.conda/envs/default/lib/python3.9/site-packages (from jsonschema[format-nongpl]>=4.18.0->jupyter-events>=0.9.0->jupyter-server<3,>=2.4.0->notebook>=5.2.0->google-colab) (1.5.1)\n",
      "Requirement already satisfied: uri-template in /home/studio-lab-user/.conda/envs/default/lib/python3.9/site-packages (from jsonschema[format-nongpl]>=4.18.0->jupyter-events>=0.9.0->jupyter-server<3,>=2.4.0->notebook>=5.2.0->google-colab) (1.3.0)\n",
      "Requirement already satisfied: isoduration in /home/studio-lab-user/.conda/envs/default/lib/python3.9/site-packages (from jsonschema[format-nongpl]>=4.18.0->jupyter-events>=0.9.0->jupyter-server<3,>=2.4.0->notebook>=5.2.0->google-colab) (20.11.0)\n",
      "Requirement already satisfied: webcolors>=1.11 in /home/studio-lab-user/.conda/envs/default/lib/python3.9/site-packages (from jsonschema[format-nongpl]>=4.18.0->jupyter-events>=0.9.0->jupyter-server<3,>=2.4.0->notebook>=5.2.0->google-colab) (1.13)\n",
      "Requirement already satisfied: jsonpointer>1.13 in /home/studio-lab-user/.conda/envs/default/lib/python3.9/site-packages (from jsonschema[format-nongpl]>=4.18.0->jupyter-events>=0.9.0->jupyter-server<3,>=2.4.0->notebook>=5.2.0->google-colab) (2.4)\n",
      "Requirement already satisfied: jupyter-lsp>=2.0.0 in /home/studio-lab-user/.conda/envs/default/lib/python3.9/site-packages (from jupyterlab<4.2,>=4.1.1->notebook>=5.2.0->google-colab) (2.2.5)\n",
      "Requirement already satisfied: tomli in /home/studio-lab-user/.conda/envs/default/lib/python3.9/site-packages (from jupyterlab<4.2,>=4.1.1->notebook>=5.2.0->google-colab) (2.0.1)\n",
      "Requirement already satisfied: async-lru>=1.0.0 in /home/studio-lab-user/.conda/envs/default/lib/python3.9/site-packages (from jupyterlab<4.2,>=4.1.1->notebook>=5.2.0->google-colab) (2.0.4)\n",
      "Requirement already satisfied: importlib-metadata>=4.8.3 in /home/studio-lab-user/.conda/envs/default/lib/python3.9/site-packages (from jupyterlab<4.2,>=4.1.1->notebook>=5.2.0->google-colab) (7.1.0)\n",
      "Requirement already satisfied: httpx>=0.25.0 in /home/studio-lab-user/.conda/envs/default/lib/python3.9/site-packages (from jupyterlab<4.2,>=4.1.1->notebook>=5.2.0->google-colab) (0.27.0)\n",
      "Requirement already satisfied: certifi in /home/studio-lab-user/.conda/envs/default/lib/python3.9/site-packages (from httpx>=0.25.0->jupyterlab<4.2,>=4.1.1->notebook>=5.2.0->google-colab) (2024.8.30)\n",
      "Requirement already satisfied: httpcore==1.* in /home/studio-lab-user/.conda/envs/default/lib/python3.9/site-packages (from httpx>=0.25.0->jupyterlab<4.2,>=4.1.1->notebook>=5.2.0->google-colab) (1.0.5)\n",
      "Requirement already satisfied: h11<0.15,>=0.13 in /home/studio-lab-user/.conda/envs/default/lib/python3.9/site-packages (from httpcore==1.*->httpx>=0.25.0->jupyterlab<4.2,>=4.1.1->notebook>=5.2.0->google-colab) (0.14.0)\n",
      "Requirement already satisfied: zipp>=0.5 in /home/studio-lab-user/.conda/envs/default/lib/python3.9/site-packages (from importlib-metadata>=4.8.3->jupyterlab<4.2,>=4.1.1->notebook>=5.2.0->google-colab) (3.17.0)\n",
      "Requirement already satisfied: babel>=2.10 in /home/studio-lab-user/.conda/envs/default/lib/python3.9/site-packages (from jupyterlab-server<3,>=2.22.1->notebook>=5.2.0->google-colab) (2.14.0)\n",
      "Requirement already satisfied: json5>=0.9.0 in /home/studio-lab-user/.conda/envs/default/lib/python3.9/site-packages (from jupyterlab-server<3,>=2.22.1->notebook>=5.2.0->google-colab) (0.9.25)\n",
      "Requirement already satisfied: beautifulsoup4 in /home/studio-lab-user/.conda/envs/default/lib/python3.9/site-packages (from nbconvert>=6.4.4->jupyter-server<3,>=2.4.0->notebook>=5.2.0->google-colab) (4.12.3)\n",
      "Requirement already satisfied: nbclient>=0.5.0 in /home/studio-lab-user/.conda/envs/default/lib/python3.9/site-packages (from nbconvert>=6.4.4->jupyter-server<3,>=2.4.0->notebook>=5.2.0->google-colab) (0.10.0)\n",
      "Requirement already satisfied: pandocfilters>=1.4.1 in /home/studio-lab-user/.conda/envs/default/lib/python3.9/site-packages (from nbconvert>=6.4.4->jupyter-server<3,>=2.4.0->notebook>=5.2.0->google-colab) (1.5.0)\n",
      "Requirement already satisfied: tinycss2 in /home/studio-lab-user/.conda/envs/default/lib/python3.9/site-packages (from nbconvert>=6.4.4->jupyter-server<3,>=2.4.0->notebook>=5.2.0->google-colab) (1.3.0)\n",
      "Requirement already satisfied: jupyterlab-pygments in /home/studio-lab-user/.conda/envs/default/lib/python3.9/site-packages (from nbconvert>=6.4.4->jupyter-server<3,>=2.4.0->notebook>=5.2.0->google-colab) (0.3.0)\n",
      "Requirement already satisfied: mistune<4,>=2.0.3 in /home/studio-lab-user/.conda/envs/default/lib/python3.9/site-packages (from nbconvert>=6.4.4->jupyter-server<3,>=2.4.0->notebook>=5.2.0->google-colab) (3.0.2)\n",
      "Requirement already satisfied: bleach!=5.0.0 in /home/studio-lab-user/.conda/envs/default/lib/python3.9/site-packages (from nbconvert>=6.4.4->jupyter-server<3,>=2.4.0->notebook>=5.2.0->google-colab) (6.1.0)\n",
      "Requirement already satisfied: defusedxml in /home/studio-lab-user/.conda/envs/default/lib/python3.9/site-packages (from nbconvert>=6.4.4->jupyter-server<3,>=2.4.0->notebook>=5.2.0->google-colab) (0.7.1)\n",
      "Requirement already satisfied: webencodings in /home/studio-lab-user/.conda/envs/default/lib/python3.9/site-packages (from bleach!=5.0.0->nbconvert>=6.4.4->jupyter-server<3,>=2.4.0->notebook>=5.2.0->google-colab) (0.5.1)\n",
      "Requirement already satisfied: fastjsonschema>=2.15 in /home/studio-lab-user/.conda/envs/default/lib/python3.9/site-packages (from nbformat>=5.3.0->jupyter-server<3,>=2.4.0->notebook>=5.2.0->google-colab) (2.19.1)\n",
      "Requirement already satisfied: pytz>=2020.1 in /home/studio-lab-user/.conda/envs/default/lib/python3.9/site-packages (from pandas>=0.24.0->google-colab) (2024.1)\n",
      "Requirement already satisfied: numpy>=1.22.4 in /home/studio-lab-user/.conda/envs/default/lib/python3.9/site-packages (from pandas>=0.24.0->google-colab) (2.0.2)\n",
      "Requirement already satisfied: tzdata>=2022.7 in /home/studio-lab-user/.conda/envs/default/lib/python3.9/site-packages (from pandas>=0.24.0->google-colab) (2024.2)\n",
      "Requirement already satisfied: ptyprocess>=0.5 in /home/studio-lab-user/.conda/envs/default/lib/python3.9/site-packages (from pexpect>4.3->ipython>=5.5.0->google-colab) (0.7.0)\n",
      "Requirement already satisfied: psutil in /home/studio-lab-user/.conda/envs/default/lib/python3.9/site-packages (from portpicker>=1.2.0->google-colab) (6.0.0)\n",
      "Requirement already satisfied: wcwidth in /home/studio-lab-user/.conda/envs/default/lib/python3.9/site-packages (from prompt-toolkit!=3.0.0,!=3.0.1,<3.1.0,>=2.0.0->ipython>=5.5.0->google-colab) (0.2.13)\n",
      "Requirement already satisfied: pyasn1<0.7.0,>=0.4.6 in /home/studio-lab-user/.conda/envs/default/lib/python3.9/site-packages (from pyasn1-modules>=0.2.1->google-auth>=1.4.0->google-colab) (0.6.1)\n",
      "Requirement already satisfied: urllib3<3,>=1.21.1 in /home/studio-lab-user/.conda/envs/default/lib/python3.9/site-packages (from requests>=2.21.0->google-colab) (2.2.1)\n",
      "Requirement already satisfied: charset-normalizer<4,>=2 in /home/studio-lab-user/.conda/envs/default/lib/python3.9/site-packages (from requests>=2.21.0->google-colab) (3.3.2)\n",
      "Requirement already satisfied: cffi>=1.0.1 in /home/studio-lab-user/.conda/envs/default/lib/python3.9/site-packages (from argon2-cffi-bindings->argon2-cffi>=21.1->jupyter-server<3,>=2.4.0->notebook>=5.2.0->google-colab) (1.16.0)\n",
      "Requirement already satisfied: pycparser in /home/studio-lab-user/.conda/envs/default/lib/python3.9/site-packages (from cffi>=1.0.1->argon2-cffi-bindings->argon2-cffi>=21.1->jupyter-server<3,>=2.4.0->notebook>=5.2.0->google-colab) (2.22)\n",
      "Requirement already satisfied: soupsieve>1.2 in /home/studio-lab-user/.conda/envs/default/lib/python3.9/site-packages (from beautifulsoup4->nbconvert>=6.4.4->jupyter-server<3,>=2.4.0->notebook>=5.2.0->google-colab) (2.5)\n",
      "Requirement already satisfied: arrow>=0.15.0 in /home/studio-lab-user/.conda/envs/default/lib/python3.9/site-packages (from isoduration->jsonschema[format-nongpl]>=4.18.0->jupyter-events>=0.9.0->jupyter-server<3,>=2.4.0->notebook>=5.2.0->google-colab) (1.3.0)\n",
      "Requirement already satisfied: types-python-dateutil>=2.8.10 in /home/studio-lab-user/.conda/envs/default/lib/python3.9/site-packages (from arrow>=0.15.0->isoduration->jsonschema[format-nongpl]>=4.18.0->jupyter-events>=0.9.0->jupyter-server<3,>=2.4.0->notebook>=5.2.0->google-colab) (2.9.0.20240316)\n",
      "Note: you may need to restart the kernel to use updated packages.\n",
      "Requirement already satisfied: matplotlib in /home/studio-lab-user/.conda/envs/default/lib/python3.9/site-packages (3.9.2)\n",
      "Requirement already satisfied: packaging>=20.0 in /home/studio-lab-user/.conda/envs/default/lib/python3.9/site-packages (from matplotlib) (24.0)\n",
      "Requirement already satisfied: pillow>=8 in /home/studio-lab-user/.conda/envs/default/lib/python3.9/site-packages (from matplotlib) (11.0.0)\n",
      "Requirement already satisfied: python-dateutil>=2.7 in /home/studio-lab-user/.conda/envs/default/lib/python3.9/site-packages (from matplotlib) (2.9.0)\n",
      "Requirement already satisfied: numpy>=1.23 in /home/studio-lab-user/.conda/envs/default/lib/python3.9/site-packages (from matplotlib) (2.0.2)\n",
      "Requirement already satisfied: contourpy>=1.0.1 in /home/studio-lab-user/.conda/envs/default/lib/python3.9/site-packages (from matplotlib) (1.3.0)\n",
      "Requirement already satisfied: cycler>=0.10 in /home/studio-lab-user/.conda/envs/default/lib/python3.9/site-packages (from matplotlib) (0.12.1)\n",
      "Requirement already satisfied: fonttools>=4.22.0 in /home/studio-lab-user/.conda/envs/default/lib/python3.9/site-packages (from matplotlib) (4.54.1)\n",
      "Requirement already satisfied: kiwisolver>=1.3.1 in /home/studio-lab-user/.conda/envs/default/lib/python3.9/site-packages (from matplotlib) (1.4.7)\n",
      "Requirement already satisfied: importlib-resources>=3.2.0 in /home/studio-lab-user/.conda/envs/default/lib/python3.9/site-packages (from matplotlib) (6.4.5)\n",
      "Requirement already satisfied: pyparsing>=2.3.1 in /home/studio-lab-user/.conda/envs/default/lib/python3.9/site-packages (from matplotlib) (3.2.0)\n",
      "Requirement already satisfied: zipp>=3.1.0 in /home/studio-lab-user/.conda/envs/default/lib/python3.9/site-packages (from importlib-resources>=3.2.0->matplotlib) (3.17.0)\n",
      "Requirement already satisfied: six>=1.5 in /home/studio-lab-user/.conda/envs/default/lib/python3.9/site-packages (from python-dateutil>=2.7->matplotlib) (1.16.0)\n",
      "Note: you may need to restart the kernel to use updated packages.\n",
      "Collecting tensorflow\n",
      "  Downloading tensorflow-2.17.0-cp39-cp39-manylinux_2_17_x86_64.manylinux2014_x86_64.whl (601.3 MB)\n",
      "\u001b[K     |████████████████████████████████| 601.3 MB 13 kB/s s eta 0:00:0134 MB 4.6 MB/s eta 0:02:02MB/s eta 0:00:040:04\n",
      "\u001b[?25hCollecting h5py>=3.10.0\n",
      "  Downloading h5py-3.12.1-cp39-cp39-manylinux_2_17_x86_64.manylinux2014_x86_64.whl (5.4 MB)\n",
      "\u001b[K     |████████████████████████████████| 5.4 MB 29.7 MB/s eta 0:00:01\n",
      "\u001b[?25hCollecting astunparse>=1.6.0\n",
      "  Downloading astunparse-1.6.3-py2.py3-none-any.whl (12 kB)\n",
      "Collecting keras>=3.2.0\n",
      "  Downloading keras-3.6.0-py3-none-any.whl (1.2 MB)\n",
      "\u001b[K     |████████████████████████████████| 1.2 MB 19.0 MB/s eta 0:00:01\n",
      "\u001b[?25hCollecting tensorflow-io-gcs-filesystem>=0.23.1\n",
      "  Downloading tensorflow_io_gcs_filesystem-0.37.1-cp39-cp39-manylinux_2_17_x86_64.manylinux2014_x86_64.whl (5.1 MB)\n",
      "\u001b[K     |████████████████████████████████| 5.1 MB 18.8 MB/s eta 0:00:01\n",
      "\u001b[?25hCollecting wrapt>=1.11.0\n",
      "  Downloading wrapt-1.16.0-cp39-cp39-manylinux_2_5_x86_64.manylinux1_x86_64.manylinux_2_17_x86_64.manylinux2014_x86_64.whl (80 kB)\n",
      "\u001b[K     |████████████████████████████████| 80 kB 12.8 MB/s eta 0:00:01\n",
      "\u001b[?25hCollecting ml-dtypes<0.5.0,>=0.3.1\n",
      "  Downloading ml_dtypes-0.4.1-cp39-cp39-manylinux_2_17_x86_64.manylinux2014_x86_64.whl (2.2 MB)\n",
      "\u001b[K     |████████████████████████████████| 2.2 MB 23.4 MB/s eta 0:00:01\n",
      "\u001b[?25hRequirement already satisfied: typing-extensions>=3.6.6 in /home/studio-lab-user/.conda/envs/default/lib/python3.9/site-packages (from tensorflow) (4.11.0)\n",
      "Requirement already satisfied: setuptools in /home/studio-lab-user/.conda/envs/default/lib/python3.9/site-packages (from tensorflow) (70.0.0)\n",
      "Collecting tensorboard<2.18,>=2.17\n",
      "  Downloading tensorboard-2.17.1-py3-none-any.whl (5.5 MB)\n",
      "\u001b[K     |████████████████████████████████| 5.5 MB 28.2 MB/s eta 0:00:01\n",
      "\u001b[?25hCollecting flatbuffers>=24.3.25\n",
      "  Downloading flatbuffers-24.3.25-py2.py3-none-any.whl (26 kB)\n",
      "Collecting opt-einsum>=2.3.2\n",
      "  Downloading opt_einsum-3.4.0-py3-none-any.whl (71 kB)\n",
      "\u001b[K     |████████████████████████████████| 71 kB 796 kB/s  eta 0:00:01\n",
      "\u001b[?25hCollecting protobuf!=4.21.0,!=4.21.1,!=4.21.2,!=4.21.3,!=4.21.4,!=4.21.5,<5.0.0dev,>=3.20.3\n",
      "  Downloading protobuf-4.25.5-cp37-abi3-manylinux2014_x86_64.whl (294 kB)\n",
      "\u001b[K     |████████████████████████████████| 294 kB 26.8 MB/s eta 0:00:01\n",
      "\u001b[?25hRequirement already satisfied: requests<3,>=2.21.0 in /home/studio-lab-user/.conda/envs/default/lib/python3.9/site-packages (from tensorflow) (2.32.3)\n",
      "Collecting grpcio<2.0,>=1.24.3\n",
      "  Downloading grpcio-1.67.0-cp39-cp39-manylinux_2_17_x86_64.manylinux2014_x86_64.whl (5.9 MB)\n",
      "\u001b[K     |████████████████████████████████| 5.9 MB 29.6 MB/s eta 0:00:01\n",
      "\u001b[?25hCollecting numpy<2.0.0,>=1.23.5\n",
      "  Downloading numpy-1.26.4-cp39-cp39-manylinux_2_17_x86_64.manylinux2014_x86_64.whl (18.2 MB)\n",
      "\u001b[K     |████████████████████████████████| 18.2 MB 20.4 MB/s eta 0:00:01\n",
      "\u001b[?25hCollecting libclang>=13.0.0\n",
      "  Downloading libclang-18.1.1-py2.py3-none-manylinux2010_x86_64.whl (24.5 MB)\n",
      "\u001b[K     |████████████████████████████████| 24.5 MB 35.7 MB/s eta 0:00:01\n",
      "\u001b[?25hCollecting absl-py>=1.0.0\n",
      "  Downloading absl_py-2.1.0-py3-none-any.whl (133 kB)\n",
      "\u001b[K     |████████████████████████████████| 133 kB 26.1 MB/s eta 0:00:01\n",
      "\u001b[?25hRequirement already satisfied: six>=1.12.0 in /home/studio-lab-user/.conda/envs/default/lib/python3.9/site-packages (from tensorflow) (1.16.0)\n",
      "Collecting gast!=0.5.0,!=0.5.1,!=0.5.2,>=0.2.1\n",
      "  Downloading gast-0.6.0-py3-none-any.whl (21 kB)\n",
      "Collecting termcolor>=1.1.0\n",
      "  Downloading termcolor-2.5.0-py3-none-any.whl (7.8 kB)\n",
      "Collecting google-pasta>=0.1.1\n",
      "  Downloading google_pasta-0.2.0-py3-none-any.whl (57 kB)\n",
      "\u001b[K     |████████████████████████████████| 57 kB 7.6 MB/s  eta 0:00:01\n",
      "\u001b[?25hRequirement already satisfied: packaging in /home/studio-lab-user/.conda/envs/default/lib/python3.9/site-packages (from tensorflow) (24.0)\n",
      "Requirement already satisfied: wheel<1.0,>=0.23.0 in /home/studio-lab-user/.conda/envs/default/lib/python3.9/site-packages (from astunparse>=1.6.0->tensorflow) (0.43.0)\n",
      "Collecting namex\n",
      "  Downloading namex-0.0.8-py3-none-any.whl (5.8 kB)\n",
      "Collecting rich\n",
      "  Downloading rich-13.9.3-py3-none-any.whl (242 kB)\n",
      "\u001b[K     |████████████████████████████████| 242 kB 49.1 MB/s eta 0:00:01\n",
      "\u001b[?25hCollecting optree\n",
      "  Downloading optree-0.13.0-cp39-cp39-manylinux_2_17_x86_64.manylinux2014_x86_64.whl (358 kB)\n",
      "\u001b[K     |████████████████████████████████| 358 kB 28.8 MB/s eta 0:00:01\n",
      "\u001b[?25hRequirement already satisfied: certifi>=2017.4.17 in /home/studio-lab-user/.conda/envs/default/lib/python3.9/site-packages (from requests<3,>=2.21.0->tensorflow) (2024.8.30)\n",
      "Requirement already satisfied: charset-normalizer<4,>=2 in /home/studio-lab-user/.conda/envs/default/lib/python3.9/site-packages (from requests<3,>=2.21.0->tensorflow) (3.3.2)\n",
      "Requirement already satisfied: urllib3<3,>=1.21.1 in /home/studio-lab-user/.conda/envs/default/lib/python3.9/site-packages (from requests<3,>=2.21.0->tensorflow) (2.2.1)\n",
      "Requirement already satisfied: idna<4,>=2.5 in /home/studio-lab-user/.conda/envs/default/lib/python3.9/site-packages (from requests<3,>=2.21.0->tensorflow) (3.7)\n",
      "Collecting markdown>=2.6.8\n",
      "  Downloading Markdown-3.7-py3-none-any.whl (106 kB)\n",
      "\u001b[K     |████████████████████████████████| 106 kB 43.1 MB/s eta 0:00:01\n",
      "\u001b[?25hCollecting tensorboard-data-server<0.8.0,>=0.7.0\n",
      "  Downloading tensorboard_data_server-0.7.2-py3-none-manylinux_2_31_x86_64.whl (6.6 MB)\n",
      "\u001b[K     |████████████████████████████████| 6.6 MB 19.8 MB/s eta 0:00:01\n",
      "\u001b[?25hCollecting werkzeug>=1.0.1\n",
      "  Downloading werkzeug-3.0.4-py3-none-any.whl (227 kB)\n",
      "\u001b[K     |████████████████████████████████| 227 kB 40.6 MB/s eta 0:00:01\n",
      "\u001b[?25hRequirement already satisfied: importlib-metadata>=4.4 in /home/studio-lab-user/.conda/envs/default/lib/python3.9/site-packages (from markdown>=2.6.8->tensorboard<2.18,>=2.17->tensorflow) (7.1.0)\n",
      "Requirement already satisfied: zipp>=0.5 in /home/studio-lab-user/.conda/envs/default/lib/python3.9/site-packages (from importlib-metadata>=4.4->markdown>=2.6.8->tensorboard<2.18,>=2.17->tensorflow) (3.17.0)\n",
      "Requirement already satisfied: MarkupSafe>=2.1.1 in /home/studio-lab-user/.conda/envs/default/lib/python3.9/site-packages (from werkzeug>=1.0.1->tensorboard<2.18,>=2.17->tensorflow) (2.1.5)\n",
      "Requirement already satisfied: pygments<3.0.0,>=2.13.0 in /home/studio-lab-user/.conda/envs/default/lib/python3.9/site-packages (from rich->keras>=3.2.0->tensorflow) (2.18.0)\n",
      "Collecting markdown-it-py>=2.2.0\n",
      "  Downloading markdown_it_py-3.0.0-py3-none-any.whl (87 kB)\n",
      "\u001b[K     |████████████████████████████████| 87 kB 15.0 MB/s eta 0:00:01\n",
      "\u001b[?25hCollecting mdurl~=0.1\n",
      "  Downloading mdurl-0.1.2-py3-none-any.whl (10.0 kB)\n",
      "Installing collected packages: mdurl, numpy, markdown-it-py, werkzeug, tensorboard-data-server, rich, protobuf, optree, namex, ml-dtypes, markdown, h5py, grpcio, absl-py, wrapt, termcolor, tensorflow-io-gcs-filesystem, tensorboard, opt-einsum, libclang, keras, google-pasta, gast, flatbuffers, astunparse, tensorflow\n",
      "  Attempting uninstall: numpy\n",
      "    Found existing installation: numpy 2.0.2\n",
      "    Uninstalling numpy-2.0.2:\n",
      "      Successfully uninstalled numpy-2.0.2\n",
      "Successfully installed absl-py-2.1.0 astunparse-1.6.3 flatbuffers-24.3.25 gast-0.6.0 google-pasta-0.2.0 grpcio-1.67.0 h5py-3.12.1 keras-3.6.0 libclang-18.1.1 markdown-3.7 markdown-it-py-3.0.0 mdurl-0.1.2 ml-dtypes-0.4.1 namex-0.0.8 numpy-1.26.4 opt-einsum-3.4.0 optree-0.13.0 protobuf-4.25.5 rich-13.9.3 tensorboard-2.17.1 tensorboard-data-server-0.7.2 tensorflow-2.17.0 tensorflow-io-gcs-filesystem-0.37.1 termcolor-2.5.0 werkzeug-3.0.4 wrapt-1.16.0\n",
      "Note: you may need to restart the kernel to use updated packages.\n"
     ]
    }
   ],
   "source": [
    "!pip install opencv\n",
    "!pip install google-colab\n",
    "!pip install matplotlib\n",
    "!pip install tensorflow\n",
    "!pip install scipy"
   ]
  },
  {
   "cell_type": "code",
   "execution_count": 20,
   "metadata": {
    "executionInfo": {
     "elapsed": 4013,
     "status": "ok",
     "timestamp": 1729741493995,
     "user": {
      "displayName": "daniel soria",
      "userId": "10185820582160562446"
     },
     "user_tz": 300
    },
    "id": "5M5sYO_tvAuv",
    "tags": []
   },
   "outputs": [],
   "source": [
    "import os\n",
    "import cv2\n",
    "import random\n",
    "import matplotlib.pyplot as plt\n",
    "import pandas as pd\n",
    "import matplotlib.pyplot as plt\n",
    "import numpy as np\n",
    "from tensorflow.keras.preprocessing.image import ImageDataGenerator\n",
    "import shutil\n",
    "import zipfile\n",
    "from tensorflow.keras.models import Sequential\n",
    "from tensorflow.keras import layers\n",
    "import tensorflow as tf"
   ]
  },
  {
   "cell_type": "code",
   "execution_count": 2,
   "metadata": {
    "colab": {
     "base_uri": "https://localhost:8080/"
    },
    "collapsed": true,
    "executionInfo": {
     "elapsed": 2434,
     "status": "ok",
     "timestamp": 1729740176632,
     "user": {
      "displayName": "daniel soria",
      "userId": "10185820582160562446"
     },
     "user_tz": 300
    },
    "id": "qwPt9Mv0cRRU",
    "jupyter": {
     "outputs_hidden": true
    },
    "outputId": "867499ac-0173-4ca0-cf96-34a44680daf6",
    "tags": []
   },
   "outputs": [
    {
     "name": "stdout",
     "output_type": "stream",
     "text": [
      "Collecting kaggle\n",
      "  Using cached kaggle-1.6.17-py3-none-any.whl\n",
      "Installing collected packages: kaggle\n",
      "  Attempting uninstall: kaggle\n",
      "    Found existing installation: kaggle 1.6.17\n",
      "    Uninstalling kaggle-1.6.17:\n",
      "      Successfully uninstalled kaggle-1.6.17\n",
      "Successfully installed kaggle-1.6.17\n",
      "Note: you may need to restart the kernel to use updated packages.\n"
     ]
    }
   ],
   "source": [
    "!pip install --upgrade --force-reinstall --no-deps kaggle"
   ]
  },
  {
   "cell_type": "code",
   "execution_count": 8,
   "metadata": {
    "colab": {
     "base_uri": "https://localhost:8080/",
     "height": 92
    },
    "collapsed": true,
    "executionInfo": {
     "elapsed": 7204,
     "status": "ok",
     "timestamp": 1729740185579,
     "user": {
      "displayName": "daniel soria",
      "userId": "10185820582160562446"
     },
     "user_tz": 300
    },
    "id": "So5bwu9dnrLu",
    "jupyter": {
     "outputs_hidden": true
    },
    "outputId": "192d3ed9-2854-4a59-8846-67243fa8291d",
    "tags": []
   },
   "outputs": [
    {
     "ename": "NameError",
     "evalue": "name 'files' is not defined",
     "output_type": "error",
     "traceback": [
      "\u001b[0;31m---------------------------------------------------------------------------\u001b[0m",
      "\u001b[0;31mNameError\u001b[0m                                 Traceback (most recent call last)",
      "\u001b[0;32m/tmp/ipykernel_4191/146270564.py\u001b[0m in \u001b[0;36m<cell line: 2>\u001b[0;34m()\u001b[0m\n\u001b[1;32m      1\u001b[0m \u001b[0;31m# Seleccionar el API Token personal previamente descargado (fichero kaggle.json)\u001b[0m\u001b[0;34m\u001b[0m\u001b[0;34m\u001b[0m\u001b[0m\n\u001b[0;32m----> 2\u001b[0;31m \u001b[0mfiles\u001b[0m\u001b[0;34m.\u001b[0m\u001b[0mupload\u001b[0m\u001b[0;34m(\u001b[0m\u001b[0;34m)\u001b[0m\u001b[0;34m\u001b[0m\u001b[0;34m\u001b[0m\u001b[0m\n\u001b[0m",
      "\u001b[0;31mNameError\u001b[0m: name 'files' is not defined"
     ]
    }
   ],
   "source": [
    "# Seleccionar el API Token personal previamente descargado (fichero kaggle.json)\n",
    "Agregar manualmente el archivo kaggle.json\n",
    "!pip install --upgrade kaggle"
   ]
  },
  {
   "cell_type": "code",
   "execution_count": 4,
   "metadata": {
    "tags": []
   },
   "outputs": [
    {
     "name": "stdout",
     "output_type": "stream",
     "text": [
      "mkdir: cannot create directory '/home/studio-lab-user/.kaggle': File exists\n"
     ]
    }
   ],
   "source": [
    "!mkdir -p ~/.kaggle"
   ]
  },
  {
   "cell_type": "code",
   "execution_count": 15,
   "metadata": {
    "executionInfo": {
     "elapsed": 432,
     "status": "ok",
     "timestamp": 1729740191706,
     "user": {
      "displayName": "daniel soria",
      "userId": "10185820582160562446"
     },
     "user_tz": 300
    },
    "id": "QHG46rMAoAtR",
    "tags": []
   },
   "outputs": [
    {
     "name": "stdout",
     "output_type": "stream",
     "text": [
      "mkdir: cannot create directory '/home/studio-lab-user/.kaggle': File exists\n"
     ]
    }
   ],
   "source": [
    "# Creamos un directorio en el que copiamos el fichero kaggle.json\n",
    "!mkdir -p ~/.kaggle\n",
    "!cp kaggle.json ~/.kaggle/\n",
    "!chmod 600 ~/.kaggle/kaggle.json"
   ]
  },
  {
   "cell_type": "code",
   "execution_count": 16,
   "metadata": {
    "colab": {
     "base_uri": "https://localhost:8080/"
    },
    "collapsed": true,
    "executionInfo": {
     "elapsed": 2477,
     "status": "ok",
     "timestamp": 1729740197123,
     "user": {
      "displayName": "daniel soria",
      "userId": "10185820582160562446"
     },
     "user_tz": 300
    },
    "id": "ITrzVyiOAogH",
    "jupyter": {
     "outputs_hidden": true
    },
    "outputId": "88d95830-51ac-4997-e726-a44d5782376a",
    "tags": []
   },
   "outputs": [
    {
     "name": "stdout",
     "output_type": "stream",
     "text": [
      "ref                                                          title                                           size  lastUpdated          downloadCount  voteCount  usabilityRating  \n",
      "-----------------------------------------------------------  ---------------------------------------------  -----  -------------------  -------------  ---------  ---------------  \n",
      "valakhorasani/mobile-device-usage-and-user-behavior-dataset  Mobile Device Usage and User Behavior Dataset   11KB  2024-09-28 20:21:12          11482        216  1.0              \n",
      "satvshr/top-4-used-car-sales-datasets-combined               Top 4 Used Car Sales Datasets Combined         446KB  2024-10-21 13:20:56           1556         28  0.9411765        \n",
      "bhadramohit/credit-card-fraud-detection                      Credit Card Fraud Detection                      2MB  2024-10-21 09:26:17            797         21  1.0              \n",
      "valakhorasani/gym-members-exercise-dataset                   Gym Members Exercise Dataset                    22KB  2024-10-06 11:27:38           5963        101  1.0              \n",
      "lainguyn123/student-performance-factors                      Student Performance Factors                     94KB  2024-09-02 10:53:57          40354        687  1.0              \n",
      "arsalanjamal002/student-sleep-patterns                       Student Sleep Patterns                          11KB  2024-10-14 06:47:21           1972         32  0.7647059        \n",
      "octopusteam/imdb-top-rated-titles-movies-and-tv-series       IMDb Top Rated Titles (Movies & TV Series)     140KB  2024-10-24 08:00:14            964         29  1.0              \n",
      "ankulsharma150/netflix-data-analysis                         Netflix Data Analysis                            1MB  2024-10-15 08:02:26           2413         32  1.0              \n",
      "haseefalam/crime-dataset                                     Crime Dataset                                   47MB  2024-09-27 11:23:22           1484         31  1.0              \n",
      "aravinii/house-price-prediction-treated-dataset              House Price Prediction Treated Dataset         279KB  2024-10-22 01:17:46           1702         28  1.0              \n",
      "abdulszz/spotify-most-streamed-songs                         Spotify Most Streamed Songs                     60KB  2024-09-07 18:23:14          16113        204  1.0              \n",
      "patricklford/largest-companies-analysis-worldwide            World Top Companies: Key Financial Analysis      1MB  2024-10-01 14:11:29           1972         29  1.0              \n",
      "waqi786/remote-work-and-mental-health                        Remote Work & Mental Health 🌍🧠                  93KB  2024-09-22 11:44:29           7874        103  1.0              \n",
      "umeradnaan/prediction-of-disaster-management-in-2024         Forecasting Disaster Management in 2024        293KB  2024-10-16 10:38:25            996         24  1.0              \n",
      "waqi786/youth-smoking-and-drug-dataset                       Youth Smoking and Drug Dataset 🚭💊              152KB  2024-10-08 15:22:23           2750         43  1.0              \n",
      "mohamedyosef101/2024-olympics-medals-and-economic-status     2024 Olympics Medals and Economic status         2KB  2024-10-13 12:39:58           2199         29  1.0              \n",
      "muhammadroshaanriaz/the-rise-of-artificial-intelligence      The Rise Of Artificial Intelligence            1009B  2024-10-14 19:31:10           1701         31  1.0              \n",
      "ravi20076/janestreetpublicv1                                 JaneStreet|Public|V1                           133MB  2024-10-16 11:17:01            107         18  1.0              \n",
      "jvanark/nvidia-daily-stock-price-data                        Nvidia Daily Stock Price Data 📈                120KB  2024-09-25 10:06:21           1318         27  1.0              \n",
      "jakubkhalponiak/phones-2024                                  Phones 2024                                      1MB  2024-10-18 12:57:22            856         31  0.9411765        \n"
     ]
    }
   ],
   "source": [
    "# Listar los datasets disponibles en kaggle para su descarga\n",
    "!kaggle datasets list"
   ]
  },
  {
   "cell_type": "code",
   "execution_count": 18,
   "metadata": {
    "colab": {
     "base_uri": "https://localhost:8080/"
    },
    "executionInfo": {
     "elapsed": 1584,
     "status": "ok",
     "timestamp": 1729740206540,
     "user": {
      "displayName": "daniel soria",
      "userId": "10185820582160562446"
     },
     "user_tz": 300
    },
    "id": "0C-dorNv3z9S",
    "outputId": "2572a13a-ac1c-48e6-8cdc-76364f03343c",
    "tags": []
   },
   "outputs": [
    {
     "name": "stdout",
     "output_type": "stream",
     "text": [
      "Dataset URL: https://www.kaggle.com/datasets/chazzer/smiling-or-not-face-data\n",
      "License(s): CC0-1.0\n",
      "smiling-or-not-face-data.zip: Skipping, found more recently modified local copy (use --force to force download)\n"
     ]
    }
   ],
   "source": [
    "!kaggle datasets download chazzer/smiling-or-not-face-data"
   ]
  },
  {
   "cell_type": "code",
   "execution_count": 4,
   "metadata": {
    "colab": {
     "base_uri": "https://localhost:8080/"
    },
    "executionInfo": {
     "elapsed": 473,
     "status": "ok",
     "timestamp": 1729740230672,
     "user": {
      "displayName": "daniel soria",
      "userId": "10185820582160562446"
     },
     "user_tz": 300
    },
    "id": "SV9ZYarbuahL",
    "outputId": "3c5fb5de-6af2-437b-f062-e3d623c93347"
   },
   "outputs": [
    {
     "name": "stdout",
     "output_type": "stream",
     "text": [
      "Ruta pricipal: my_dataset/\n"
     ]
    }
   ],
   "source": [
    "# Definimos ruta del dataset (donde se descargaron las imágenes)\n",
    "dataset_path = 'my_dataset/'\n",
    "print(f'Ruta pricipal: {dataset_path}')"
   ]
  },
  {
   "cell_type": "code",
   "execution_count": 23,
   "metadata": {
    "executionInfo": {
     "elapsed": 422,
     "status": "ok",
     "timestamp": 1729740234095,
     "user": {
      "displayName": "daniel soria",
      "userId": "10185820582160562446"
     },
     "user_tz": 300
    },
    "id": "JB1dCRRqHidH"
   },
   "outputs": [],
   "source": [
    "# Creemos un directorio para descomprimir los datos con la opción p si no existe no se crea\n",
    "!mkdir -p $dataset_path"
   ]
  },
  {
   "cell_type": "code",
   "execution_count": 28,
   "metadata": {
    "colab": {
     "base_uri": "https://localhost:8080/",
     "height": 365
    },
    "id": "I6Uy_9OPHnUJ",
    "outputId": "cf288675-c465-4292-ead8-a13bf2e61ddb",
    "tags": []
   },
   "outputs": [],
   "source": [
    "# Descomprimir el archivo ZIP en la carpeta de destino\n",
    "with zipfile.ZipFile('smiling-or-not-face-data.zip', 'r') as zip_ref:\n",
    "    zip_ref.extractall(dataset_path)"
   ]
  },
  {
   "cell_type": "markdown",
   "metadata": {
    "id": "gCsSmxKkOByS"
   },
   "source": [
    "#### 1.2 Formación del conjunto de datos de entrenamiento"
   ]
  },
  {
   "cell_type": "code",
   "execution_count": 45,
   "metadata": {
    "colab": {
     "base_uri": "https://localhost:8080/"
    },
    "executionInfo": {
     "elapsed": 297,
     "status": "ok",
     "timestamp": 1729701588594,
     "user": {
      "displayName": "daniel soria",
      "userId": "10185820582160562446"
     },
     "user_tz": 300
    },
    "id": "z0qmah5F1a4c",
    "outputId": "10d6c2ad-786d-435f-d43d-ca62f71c13aa"
   },
   "outputs": [
    {
     "name": "stdout",
     "output_type": "stream",
     "text": [
      "Cantidad de imagenes de la clase smile 600\n",
      "Cantidad de imagenes de la clase non_smile 603\n",
      "Cantidad total de imagenes (1203, 2)\n"
     ]
    }
   ],
   "source": [
    "# Definimos una función que separa las imagenes por clases y le agrega una etiqueta de clase\n",
    "def clasificacion_imagenes(dataset_path):\n",
    "  classes = ['smile','non_smile'] # Lista de clases específicas (subdirectorios) a considerar\n",
    "  all_images = []\n",
    "  all_labels = []\n",
    "  for class_name in classes:\n",
    "    class_path = os.path.join(dataset_path, class_name)\n",
    "    class_images = [os.path.join(class_path, img) for img in os.listdir(class_path)]\n",
    "    print(f'Cantidad de imagenes de la clase {class_name} {len(class_images)}')\n",
    "    all_images.extend(class_images)\n",
    "    all_labels.extend([class_name] * len(class_images))\n",
    "  return all_images, all_labels\n",
    "\n",
    "# Listar las subcarpetas en el directorio\n",
    "subfolders = [f for f in os.listdir(dataset_path) if os.path.isdir(os.path.join(dataset_path, f))]\n",
    "\n",
    "# Obtener la lista de todas las imágenes de entrenamiento y sus etiquetas\n",
    "all_train_images = []\n",
    "all_train_labels = []\n",
    "\n",
    "# Rellenamos la lista con las imagenes y sus clases para el dataframe de entrenamiento y validación\n",
    "all_train_images, all_train_labels = clasificacion_imagenes(dataset_path)\n",
    "\n",
    "# Creamos un DataFrame con las rutas de las imágenes y sus etiquetas para el set de entrenamiento\n",
    "df_train = pd.DataFrame({'filename': all_train_images, 'class': all_train_labels})\n",
    "\n",
    "# Mezclamos aleatoriamente los datos\n",
    "df_train = df_train.sample(frac=1).reset_index(drop=True)\n",
    "print(f'Cantidad total de imagenes {df_train.shape}')"
   ]
  },
  {
   "cell_type": "markdown",
   "metadata": {
    "id": "5szEpSstOQoS"
   },
   "source": [
    "#### 1.3 Formación del conjunto de datos de test\n",
    "\n",
    "Dado que para este Dataset de Kaggle dispone de 1203 muestras etiquetadas y 12000 muestras no etiquetadas en la carpeta \"test\", es por ello que vamos a copiar el 10% del conjunto de entrenamiento (120 muestras) a nuestra carpeta de Drive para el proceso de etiquetado. El siguiente bloque de código se ejecuta sólo la primera vez."
   ]
  },
  {
   "cell_type": "code",
   "execution_count": 32,
   "metadata": {
    "colab": {
     "base_uri": "https://localhost:8080/",
     "height": 1000
    },
    "collapsed": true,
    "executionInfo": {
     "elapsed": 2262,
     "status": "ok",
     "timestamp": 1729656117777,
     "user": {
      "displayName": "daniel soria",
      "userId": "10185820582160562446"
     },
     "user_tz": 300
    },
    "id": "qxvSftOmOVvo",
    "jupyter": {
     "outputs_hidden": true
    },
    "outputId": "bcff6ed1-c9b5-4df7-f2d1-72ac9424d04d",
    "tags": []
   },
   "outputs": [
    {
     "name": "stdout",
     "output_type": "stream",
     "text": [
      "no existe direcytorio my_dataset/test_samples\n",
      "no existe direcytorio my_dataset/test_samples/smile\n",
      "no existe direcytorio my_dataset/test_samples/non_smile\n",
      "Archivo copiado: Silvio_Berlusconi_0012.jpg\n",
      "Archivo copiado: Chuck_Yeager_0001.jpg\n",
      "Archivo copiado: Amelie_Mauresmo_0019.jpg\n",
      "Archivo copiado: Harrison_Ford_0006.jpg\n",
      "Archivo copiado: Gerhard_Schroeder_0046.jpg\n",
      "Archivo copiado: George_W_Bush_0246.jpg\n",
      "Archivo copiado: Danielle_Spencer_0001.jpg\n",
      "Archivo copiado: Charles_Moose_0010.jpg\n",
      "Archivo copiado: Tom_Cruise_0008.jpg\n",
      "Archivo copiado: Paul_Henderson_0001.jpg\n",
      "Archivo copiado: Byron_Scott_0002.jpg\n",
      "Archivo copiado: Ricky_Ray_0001.jpg\n",
      "Archivo copiado: Kurt_Busch_0002.jpg\n",
      "Archivo copiado: Andrew_Weissmann_0003.jpg\n",
      "Archivo copiado: Andre_Agassi_0035.jpg\n",
      "Archivo copiado: Carlos_Ruckauf_0001.jpg\n",
      "Archivo copiado: George_W_Bush_0172.jpg\n",
      "Archivo copiado: George_W_Bush_0399.jpg\n",
      "Archivo copiado: Mirela_Manjani_0001.jpg\n",
      "Archivo copiado: Roger_Federer_0002.jpg\n",
      "Archivo copiado: Ana_Isabel_Sanchez_0001.jpg\n",
      "Archivo copiado: Pierce_Brosnan_0007.jpg\n",
      "Archivo copiado: Fujio_Cho_0003.jpg\n",
      "Archivo copiado: Warren_Beatty_0001.jpg\n",
      "Archivo copiado: Steve_Lavin_0002.jpg\n",
      "Archivo copiado: Vaclav_Havel_0006.jpg\n",
      "Archivo copiado: Paul_Crake_0001.jpg\n",
      "Archivo copiado: Kofi_Annan_0016.jpg\n",
      "Archivo copiado: George_W_Bush_0201.jpg\n",
      "Archivo copiado: Lucio_Gutierrez_0007.jpg\n",
      "Archivo copiado: Rick_Pitino_0002.jpg\n",
      "Archivo copiado: Heidi_Fleiss_0001.jpg\n",
      "Archivo copiado: Ai_Sugiyama_0004.jpg\n",
      "Archivo copiado: Don_Boudria_0001.jpg\n",
      "Archivo copiado: Trent_Lott_0012.jpg\n",
      "Archivo copiado: Kwame_Kilpatrick_0001.jpg\n",
      "Archivo copiado: Jennifer_Lopez_0016.jpg\n",
      "Archivo copiado: Hector_Mitelman_0001.jpg\n",
      "Archivo copiado: Diane_Ladd_0001.jpg\n",
      "Archivo copiado: George_W_Bush_0117.jpg\n",
      "Archivo copiado: Jennifer_Capriati_0020.jpg\n",
      "Archivo copiado: Charles_Moose_0004.jpg\n",
      "Archivo copiado: Carlos_Moya_0009.jpg\n",
      "Archivo copiado: Jonathan_Byrd_0001.jpg\n",
      "Archivo copiado: Carson_Daly_0002.jpg\n",
      "Archivo copiado: John_Ashcroft_0007.jpg\n",
      "Archivo copiado: Jerry_McEntee_0001.jpg\n",
      "Archivo copiado: Roh_Moo-hyun_0001.jpg\n",
      "Archivo copiado: Guillermo_Coria_0020.jpg\n",
      "Archivo copiado: Ariel_Sharon_0001.jpg\n",
      "Archivo copiado: Yoriko_Kawaguchi_0009.jpg\n",
      "Archivo copiado: Mahmoud_Abbas_0025.jpg\n",
      "Archivo copiado: Oxana_Fedorova_0004.jpg\n",
      "Archivo copiado: Colin_Powell_0136.jpg\n",
      "Archivo copiado: Johnny_Tapia_0002.jpg\n",
      "Archivo copiado: Brad_Garrett_0001.jpg\n",
      "Archivo copiado: Pedro_Martinez_0001.jpg\n",
      "Archivo copiado: Hugo_Chavez_0067.jpg\n",
      "Archivo copiado: Serena_Williams_0014.jpg\n",
      "Archivo copiado: Sally_Field_0004.jpg\n",
      "Archivo copiado: John_Ashcroft_0052.jpg\n",
      "Archivo copiado: Reese_Witherspoon_0001.jpg\n",
      "Archivo copiado: Fidel_Castro_0010.jpg\n",
      "Archivo copiado: Venus_Williams_0008.jpg\n",
      "Archivo copiado: Bill_McBride_0001.jpg\n",
      "Archivo copiado: Ariel_Sharon_0043.jpg\n",
      "Archivo copiado: Tatiana_Gratcheva_0001.jpg\n",
      "Archivo copiado: George_W_Bush_0321.jpg\n",
      "Archivo copiado: Hugh_Grant_0008.jpg\n",
      "Archivo copiado: Brandon_Fails_0001.jpg\n",
      "Archivo copiado: George_W_Bush_0402.jpg\n",
      "Archivo copiado: Chakib_Khelil_0002.jpg\n",
      "Archivo copiado: Jonathan_Edwards_0003.jpg\n",
      "Archivo copiado: Hee-Won_Han_0001.jpg\n",
      "Archivo copiado: Luiz_Inacio_Lula_da_Silva_0024.jpg\n",
      "Archivo copiado: Sheila_Fraser_0001.jpg\n",
      "Archivo copiado: John_Engler_0001.jpg\n",
      "Archivo copiado: Donald_Rumsfeld_0024.jpg\n",
      "Archivo copiado: John_McKay_0001.jpg\n",
      "Archivo copiado: Joe_Lieberman_0004.jpg\n",
      "Archivo copiado: George_W_Bush_0023.jpg\n",
      "Archivo copiado: Tiger_Woods_0020.jpg\n",
      "Archivo copiado: Gwyneth_Paltrow_0002.jpg\n",
      "Archivo copiado: Vagit_Alekperov_0001.jpg\n",
      "Archivo copiado: Tommy_Franks_0005.jpg\n",
      "Archivo copiado: Stephen_Oake_0001.jpg\n",
      "Archivo copiado: Bill_Simon_0012.jpg\n",
      "Archivo copiado: Ronnie_Musgrove_0001.jpg\n",
      "Archivo copiado: Shaul_Mofaz_0001.jpg\n",
      "Archivo copiado: Drew_Barrymore_0002.jpg\n",
      "Archivo copiado: Paul_ONeill_0002.jpg\n",
      "Archivo copiado: Yoon_Won-Sik_0001.jpg\n",
      "Archivo copiado: Gerhard_Schroeder_0044.jpg\n",
      "Archivo copiado: Donald_Rumsfeld_0037.jpg\n",
      "Archivo copiado: Marcelo_Rios_0002.jpg\n",
      "Archivo copiado: Jon_Gruden_0005.jpg\n",
      "Archivo copiado: Hamid_Karzai_0011.jpg\n",
      "Archivo copiado: Silvio_Berlusconi_0022.jpg\n",
      "Archivo copiado: Tony_Blair_0027.jpg\n",
      "Archivo copiado: Peter_Gilmour_0001.jpg\n",
      "Archivo copiado: George_W_Bush_0188.jpg\n",
      "Archivo copiado: Tommy_Haas_0006.jpg\n",
      "Archivo copiado: Jean-David_Levitte_0001.jpg\n",
      "Archivo copiado: Atiabet_Ijan_Amabel_0001.jpg\n",
      "Archivo copiado: George_W_Bush_0340.jpg\n",
      "Archivo copiado: Andy_Garcia_0001.jpg\n",
      "Archivo copiado: James_Parker_0002.jpg\n",
      "Archivo copiado: Junko_Tabei_0001.jpg\n",
      "Archivo copiado: Hal_Gehman_0003.jpg\n",
      "Archivo copiado: Bill_Clinton_0019.jpg\n",
      "Archivo copiado: George_W_Bush_0047.jpg\n",
      "Archivo copiado: Queen_Elizabeth_II_0010.jpg\n",
      "Archivo copiado: Wendy_Selig_0001.jpg\n",
      "Archivo copiado: James_Mathis_0001.jpg\n",
      "Archivo copiado: George_W_Bush_0074.jpg\n",
      "Archivo copiado: Susilo_Bambang_Yudhoyono_0004.jpg\n",
      "Archivo copiado: Mike_Duke_0001.jpg\n",
      "Archivo copiado: Julie_Gerberding_0003.jpg\n",
      "Archivo copiado: Sophie_0001.jpg\n",
      "Archivo copiado: Mahmoud_Abbas_0015.jpg\n"
     ]
    }
   ],
   "source": [
    "# Definir la ruta de la carpeta de origen y destino\n",
    "dataset_path_org = dataset_path + 'test'\n",
    "dataset_path_dest = dataset_path + 'test_samples'\n",
    "dataset_path_test_smile = dataset_path + 'test_samples/smile'\n",
    "dataset_path_test_non_smile = dataset_path + 'test_samples/non_smile'\n",
    "\n",
    "# Crear las carpetas si no existen\n",
    "if not os.path.exists(dataset_path_dest):\n",
    "  print(f'no existe direcytorio {dataset_path_dest}')\n",
    "  !mkdir -p $dataset_path_dest\n",
    "if not os.path.exists(dataset_path_test_smile):\n",
    "  print(f'no existe direcytorio {dataset_path_test_smile}')\n",
    "  !mkdir -p $dataset_path_test_smile\n",
    "if not os.path.exists(dataset_path_test_non_smile):\n",
    "  print(f'no existe direcytorio {dataset_path_test_non_smile}')\n",
    "  !mkdir -p $dataset_path_test_non_smile\n",
    "\n",
    "# Obtener una lista de todos los archivos en la carpeta de origen\n",
    "all_test_files = os.listdir(dataset_path_org)\n",
    "\n",
    "# Seleccionar 120 archivos al azar\n",
    "random.seed(42)\n",
    "random_files = random.sample(all_test_files, 120)\n",
    "\n",
    "# Copiar los archivos seleccionados a la carpeta de destino\n",
    "for file in random_files:\n",
    "    src_path = os.path.join(dataset_path_org, file)\n",
    "    dst_path = os.path.join(dataset_path_dest, file)\n",
    "    shutil.copyfile(src_path, dst_path)\n",
    "    print(f\"Archivo copiado: {file}\")\n"
   ]
  },
  {
   "cell_type": "code",
   "execution_count": 46,
   "metadata": {
    "colab": {
     "base_uri": "https://localhost:8080/",
     "height": 88
    },
    "executionInfo": {
     "elapsed": 900,
     "status": "ok",
     "timestamp": 1729701839465,
     "user": {
      "displayName": "daniel soria",
      "userId": "10185820582160562446"
     },
     "user_tz": 300
    },
    "id": "w3P79dPChGZd",
    "outputId": "fde40384-51d3-4956-c401-c63d0532d082"
   },
   "outputs": [
    {
     "name": "stdout",
     "output_type": "stream",
     "text": [
      "Cantidad de imagenes de la clase smile 38\n",
      "Cantidad de imagenes de la clase non_smile 82\n"
     ]
    },
    {
     "data": {
      "text/plain": [
       "120"
      ]
     },
     "metadata": {},
     "output_type": "display_data"
    }
   ],
   "source": [
    "# Obtener la lista de todas las imágenes de entrenamiento y sus etiquetas\n",
    "all_test_images = []\n",
    "all_test_labels = []\n",
    "\n",
    "# Manualmente clasificamos las imagenes de test\n",
    "dataset_path_test = dataset_path + 'test_samples'\n",
    "all_test_images, all_test_labels = clasificacion_imagenes(dataset_path_test)\n",
    "\n",
    "# Creamos un Dataframe con las rutas y etiquetas para el set de test\n",
    "df_test = pd.DataFrame({'filename': all_test_images, 'class':all_test_labels})\n",
    "\n",
    "# Mezclamos aleatoriamente los datos\n",
    "df_test = df_test.sample(frac=1).reset_index(drop=True)\n",
    "\n",
    "display(len(df_test))"
   ]
  },
  {
   "cell_type": "markdown",
   "metadata": {
    "id": "CrIWzChE1BL7"
   },
   "source": [
    "### 2. Inspección del conjunto de datos"
   ]
  },
  {
   "cell_type": "code",
   "execution_count": 47,
   "metadata": {
    "colab": {
     "base_uri": "https://localhost:8080/",
     "height": 219
    },
    "executionInfo": {
     "elapsed": 991,
     "status": "ok",
     "timestamp": 1729703049592,
     "user": {
      "displayName": "daniel soria",
      "userId": "10185820582160562446"
     },
     "user_tz": 300
    },
    "id": "4ZX5tkabvW2Y",
    "outputId": "64c7ad27-bad7-4e71-c1b5-2458cac016c6"
   },
   "outputs": [
    {
     "data": {
      "image/png": "[encoded data removed]",
      "text/plain": [
       "<Figure size 200x200 with 1 Axes>"
      ]
     },
     "metadata": {},
     "output_type": "display_data"
    }
   ],
   "source": [
    "# Definimos una función para mostrar cualquier imagen dada como entrada\n",
    "\n",
    "def mostrar_muestra(imagen):\n",
    "  img = cv2.imread(imagen, cv2.COLOR_BGR2RGB)\n",
    "  img = cv2.cvtColor(img, cv2.COLOR_BGR2RGB)\n",
    "  plt.figure(figsize=(2, 2))\n",
    "  plt.imshow(img)\n",
    "\n",
    "idx = np.random.randint(1, 1200)\n",
    "mostrar_muestra(df_train.iloc[idx,0])"
   ]
  },
  {
   "cell_type": "markdown",
   "metadata": {
    "id": "G4zSl7uB1D0U"
   },
   "source": [
    "### 3. Acondicionamiento del conjunto de datos"
   ]
  },
  {
   "cell_type": "code",
   "execution_count": 55,
   "metadata": {
    "colab": {
     "base_uri": "https://localhost:8080/"
    },
    "executionInfo": {
     "elapsed": 1369,
     "status": "ok",
     "timestamp": 1729703060376,
     "user": {
      "displayName": "daniel soria",
      "userId": "10185820582160562446"
     },
     "user_tz": 300
    },
    "id": "1pzKyxq9OuQR",
    "outputId": "793cdf0e-e257-4700-a099-9397244f2f4e"
   },
   "outputs": [
    {
     "name": "stdout",
     "output_type": "stream",
     "text": [
      "Found 963 validated image filenames belonging to 2 classes.\n",
      "Found 240 validated image filenames belonging to 2 classes.\n",
      "Found 120 validated image filenames belonging to 2 classes.\n"
     ]
    }
   ],
   "source": [
    "# Definimos los parametros iniciales de nuestro generador de datos\n",
    "\n",
    "img_height = img_width = 64\n",
    "batch_size = 32\n",
    "classes = ['smile','non_smile']\n",
    "\n",
    "# Instanciamos una copia de ImageDataGenerador para el conjunto de datos de entrenamiento\n",
    "train_datagen = ImageDataGenerator(\n",
    "    rescale=1./255,\n",
    "    rotation_range=40,\n",
    "    width_shift_range=0.2,\n",
    "    height_shift_range=0.2,\n",
    "    shear_range=0.2,\n",
    "    zoom_range=0.2,\n",
    "    horizontal_flip=True,\n",
    "    fill_mode='nearest',\n",
    "    validation_split=0.2\n",
    "    )\n",
    "\n",
    "# Instanciamos una copia de ImageDataGenerador para el conjunto de datos de test\n",
    "test_datagen = ImageDataGenerator(rescale=1./255)\n",
    "\n",
    "# Generadores de flujo de datos para entrenamiento, validación y prueba\n",
    "train_generator = train_datagen.flow_from_dataframe(\n",
    "    df_train,\n",
    "    x_col='filename',\n",
    "    y_col='class',\n",
    "    target_size=(img_height, img_width),\n",
    "    batch_size=batch_size,\n",
    "    subset='training',\n",
    "    class_mode='binary')\n",
    "\n",
    "val_generator = train_datagen.flow_from_dataframe(\n",
    "    df_train,\n",
    "    x_col='filename',\n",
    "    y_col='class',\n",
    "    target_size=(img_height, img_width),\n",
    "    batch_size=batch_size,\n",
    "    subset='validation',\n",
    "    class_mode='binary')\n",
    "\n",
    "test_generator = test_datagen.flow_from_dataframe(\n",
    "    df_test,\n",
    "    x_col='filename',\n",
    "    y_col='class',\n",
    "    target_size=(img_height, img_width),\n",
    "    batch_size=batch_size)"
   ]
  },
  {
   "cell_type": "markdown",
   "metadata": {
    "id": "rxctxDrAfHsD"
   },
   "source": [
    "---\n",
    "\n",
    "\n",
    "# **ESTRATEGIA 1 - FROM SCRACH**\n",
    "\n",
    "\n",
    "---"
   ]
  },
  {
   "cell_type": "markdown",
   "metadata": {
    "id": "d-DGHCyQ1K1S"
   },
   "source": [
    "### 4. Desarrollo de la arquitectura de red neuronal y entrenamiento de la solución"
   ]
  },
  {
   "cell_type": "code",
   "execution_count": 61,
   "metadata": {
    "colab": {
     "base_uri": "https://localhost:8080/",
     "height": 216
    },
    "executionInfo": {
     "elapsed": 555,
     "status": "error",
     "timestamp": 1729739982315,
     "user": {
      "displayName": "daniel soria",
      "userId": "10185820582160562446"
     },
     "user_tz": 300
    },
    "id": "7jOL2TFDcoWx",
    "outputId": "0af9a4b0-6c56-4448-cabd-e04809a972b3"
   },
   "outputs": [
    {
     "data": {
      "text/html": [
       "<pre style=\"white-space:pre;overflow-x:auto;line-height:normal;font-family:Menlo,'DejaVu Sans Mono',consolas,'Courier New',monospace\"><span style=\"font-weight: bold\">Model: \"sequential_18\"</span>\n",
       "</pre>\n"
      ],
      "text/plain": [
       "\u001b[1mModel: \"sequential_18\"\u001b[0m\n"
      ]
     },
     "metadata": {},
     "output_type": "display_data"
    },
    {
     "data": {
      "text/html": [
       "<pre style=\"white-space:pre;overflow-x:auto;line-height:normal;font-family:Menlo,'DejaVu Sans Mono',consolas,'Courier New',monospace\">┏━━━━━━━━━━━━━━━━━━━━━━━━━━━━━━━━━┳━━━━━━━━━━━━━━━━━━━━━━━━┳━━━━━━━━━━━━━━━┓\n",
       "┃<span style=\"font-weight: bold\"> Layer (type)                    </span>┃<span style=\"font-weight: bold\"> Output Shape           </span>┃<span style=\"font-weight: bold\">       Param # </span>┃\n",
       "┡━━━━━━━━━━━━━━━━━━━━━━━━━━━━━━━━━╇━━━━━━━━━━━━━━━━━━━━━━━━╇━━━━━━━━━━━━━━━┩\n",
       "│ conv2d_46 (<span style=\"color: #0087ff; text-decoration-color: #0087ff\">Conv2D</span>)              │ (<span style=\"color: #00d7ff; text-decoration-color: #00d7ff\">None</span>, <span style=\"color: #00af00; text-decoration-color: #00af00\">62</span>, <span style=\"color: #00af00; text-decoration-color: #00af00\">62</span>, <span style=\"color: #00af00; text-decoration-color: #00af00\">128</span>)    │         <span style=\"color: #00af00; text-decoration-color: #00af00\">3,584</span> │\n",
       "├─────────────────────────────────┼────────────────────────┼───────────────┤\n",
       "│ max_pooling2d_45 (<span style=\"color: #0087ff; text-decoration-color: #0087ff\">MaxPooling2D</span>) │ (<span style=\"color: #00d7ff; text-decoration-color: #00d7ff\">None</span>, <span style=\"color: #00af00; text-decoration-color: #00af00\">31</span>, <span style=\"color: #00af00; text-decoration-color: #00af00\">31</span>, <span style=\"color: #00af00; text-decoration-color: #00af00\">128</span>)    │             <span style=\"color: #00af00; text-decoration-color: #00af00\">0</span> │\n",
       "├─────────────────────────────────┼────────────────────────┼───────────────┤\n",
       "│ conv2d_47 (<span style=\"color: #0087ff; text-decoration-color: #0087ff\">Conv2D</span>)              │ (<span style=\"color: #00d7ff; text-decoration-color: #00d7ff\">None</span>, <span style=\"color: #00af00; text-decoration-color: #00af00\">29</span>, <span style=\"color: #00af00; text-decoration-color: #00af00\">29</span>, <span style=\"color: #00af00; text-decoration-color: #00af00\">64</span>)     │        <span style=\"color: #00af00; text-decoration-color: #00af00\">73,792</span> │\n",
       "├─────────────────────────────────┼────────────────────────┼───────────────┤\n",
       "│ max_pooling2d_46 (<span style=\"color: #0087ff; text-decoration-color: #0087ff\">MaxPooling2D</span>) │ (<span style=\"color: #00d7ff; text-decoration-color: #00d7ff\">None</span>, <span style=\"color: #00af00; text-decoration-color: #00af00\">14</span>, <span style=\"color: #00af00; text-decoration-color: #00af00\">14</span>, <span style=\"color: #00af00; text-decoration-color: #00af00\">64</span>)     │             <span style=\"color: #00af00; text-decoration-color: #00af00\">0</span> │\n",
       "├─────────────────────────────────┼────────────────────────┼───────────────┤\n",
       "│ conv2d_48 (<span style=\"color: #0087ff; text-decoration-color: #0087ff\">Conv2D</span>)              │ (<span style=\"color: #00d7ff; text-decoration-color: #00d7ff\">None</span>, <span style=\"color: #00af00; text-decoration-color: #00af00\">12</span>, <span style=\"color: #00af00; text-decoration-color: #00af00\">12</span>, <span style=\"color: #00af00; text-decoration-color: #00af00\">64</span>)     │        <span style=\"color: #00af00; text-decoration-color: #00af00\">36,928</span> │\n",
       "├─────────────────────────────────┼────────────────────────┼───────────────┤\n",
       "│ max_pooling2d_47 (<span style=\"color: #0087ff; text-decoration-color: #0087ff\">MaxPooling2D</span>) │ (<span style=\"color: #00d7ff; text-decoration-color: #00d7ff\">None</span>, <span style=\"color: #00af00; text-decoration-color: #00af00\">6</span>, <span style=\"color: #00af00; text-decoration-color: #00af00\">6</span>, <span style=\"color: #00af00; text-decoration-color: #00af00\">64</span>)       │             <span style=\"color: #00af00; text-decoration-color: #00af00\">0</span> │\n",
       "├─────────────────────────────────┼────────────────────────┼───────────────┤\n",
       "│ flatten_16 (<span style=\"color: #0087ff; text-decoration-color: #0087ff\">Flatten</span>)            │ (<span style=\"color: #00d7ff; text-decoration-color: #00d7ff\">None</span>, <span style=\"color: #00af00; text-decoration-color: #00af00\">2304</span>)           │             <span style=\"color: #00af00; text-decoration-color: #00af00\">0</span> │\n",
       "├─────────────────────────────────┼────────────────────────┼───────────────┤\n",
       "│ dense_32 (<span style=\"color: #0087ff; text-decoration-color: #0087ff\">Dense</span>)                │ (<span style=\"color: #00d7ff; text-decoration-color: #00d7ff\">None</span>, <span style=\"color: #00af00; text-decoration-color: #00af00\">64</span>)             │       <span style=\"color: #00af00; text-decoration-color: #00af00\">147,520</span> │\n",
       "├─────────────────────────────────┼────────────────────────┼───────────────┤\n",
       "│ dense_33 (<span style=\"color: #0087ff; text-decoration-color: #0087ff\">Dense</span>)                │ (<span style=\"color: #00d7ff; text-decoration-color: #00d7ff\">None</span>, <span style=\"color: #00af00; text-decoration-color: #00af00\">1</span>)              │            <span style=\"color: #00af00; text-decoration-color: #00af00\">65</span> │\n",
       "└─────────────────────────────────┴────────────────────────┴───────────────┘\n",
       "</pre>\n"
      ],
      "text/plain": [
       "┏━━━━━━━━━━━━━━━━━━━━━━━━━━━━━━━━━┳━━━━━━━━━━━━━━━━━━━━━━━━┳━━━━━━━━━━━━━━━┓\n",
       "┃\u001b[1m \u001b[0m\u001b[1mLayer (type)                   \u001b[0m\u001b[1m \u001b[0m┃\u001b[1m \u001b[0m\u001b[1mOutput Shape          \u001b[0m\u001b[1m \u001b[0m┃\u001b[1m \u001b[0m\u001b[1m      Param #\u001b[0m\u001b[1m \u001b[0m┃\n",
       "┡━━━━━━━━━━━━━━━━━━━━━━━━━━━━━━━━━╇━━━━━━━━━━━━━━━━━━━━━━━━╇━━━━━━━━━━━━━━━┩\n",
       "│ conv2d_46 (\u001b[38;5;33mConv2D\u001b[0m)              │ (\u001b[38;5;45mNone\u001b[0m, \u001b[38;5;34m62\u001b[0m, \u001b[38;5;34m62\u001b[0m, \u001b[38;5;34m128\u001b[0m)    │         \u001b[38;5;34m3,584\u001b[0m │\n",
       "├─────────────────────────────────┼────────────────────────┼───────────────┤\n",
       "│ max_pooling2d_45 (\u001b[38;5;33mMaxPooling2D\u001b[0m) │ (\u001b[38;5;45mNone\u001b[0m, \u001b[38;5;34m31\u001b[0m, \u001b[38;5;34m31\u001b[0m, \u001b[38;5;34m128\u001b[0m)    │             \u001b[38;5;34m0\u001b[0m │\n",
       "├─────────────────────────────────┼────────────────────────┼───────────────┤\n",
       "│ conv2d_47 (\u001b[38;5;33mConv2D\u001b[0m)              │ (\u001b[38;5;45mNone\u001b[0m, \u001b[38;5;34m29\u001b[0m, \u001b[38;5;34m29\u001b[0m, \u001b[38;5;34m64\u001b[0m)     │        \u001b[38;5;34m73,792\u001b[0m │\n",
       "├─────────────────────────────────┼────────────────────────┼───────────────┤\n",
       "│ max_pooling2d_46 (\u001b[38;5;33mMaxPooling2D\u001b[0m) │ (\u001b[38;5;45mNone\u001b[0m, \u001b[38;5;34m14\u001b[0m, \u001b[38;5;34m14\u001b[0m, \u001b[38;5;34m64\u001b[0m)     │             \u001b[38;5;34m0\u001b[0m │\n",
       "├─────────────────────────────────┼────────────────────────┼───────────────┤\n",
       "│ conv2d_48 (\u001b[38;5;33mConv2D\u001b[0m)              │ (\u001b[38;5;45mNone\u001b[0m, \u001b[38;5;34m12\u001b[0m, \u001b[38;5;34m12\u001b[0m, \u001b[38;5;34m64\u001b[0m)     │        \u001b[38;5;34m36,928\u001b[0m │\n",
       "├─────────────────────────────────┼────────────────────────┼───────────────┤\n",
       "│ max_pooling2d_47 (\u001b[38;5;33mMaxPooling2D\u001b[0m) │ (\u001b[38;5;45mNone\u001b[0m, \u001b[38;5;34m6\u001b[0m, \u001b[38;5;34m6\u001b[0m, \u001b[38;5;34m64\u001b[0m)       │             \u001b[38;5;34m0\u001b[0m │\n",
       "├─────────────────────────────────┼────────────────────────┼───────────────┤\n",
       "│ flatten_16 (\u001b[38;5;33mFlatten\u001b[0m)            │ (\u001b[38;5;45mNone\u001b[0m, \u001b[38;5;34m2304\u001b[0m)           │             \u001b[38;5;34m0\u001b[0m │\n",
       "├─────────────────────────────────┼────────────────────────┼───────────────┤\n",
       "│ dense_32 (\u001b[38;5;33mDense\u001b[0m)                │ (\u001b[38;5;45mNone\u001b[0m, \u001b[38;5;34m64\u001b[0m)             │       \u001b[38;5;34m147,520\u001b[0m │\n",
       "├─────────────────────────────────┼────────────────────────┼───────────────┤\n",
       "│ dense_33 (\u001b[38;5;33mDense\u001b[0m)                │ (\u001b[38;5;45mNone\u001b[0m, \u001b[38;5;34m1\u001b[0m)              │            \u001b[38;5;34m65\u001b[0m │\n",
       "└─────────────────────────────────┴────────────────────────┴───────────────┘\n"
      ]
     },
     "metadata": {},
     "output_type": "display_data"
    },
    {
     "data": {
      "text/html": [
       "<pre style=\"white-space:pre;overflow-x:auto;line-height:normal;font-family:Menlo,'DejaVu Sans Mono',consolas,'Courier New',monospace\"><span style=\"font-weight: bold\"> Total params: </span><span style=\"color: #00af00; text-decoration-color: #00af00\">261,889</span> (1023.00 KB)\n",
       "</pre>\n"
      ],
      "text/plain": [
       "\u001b[1m Total params: \u001b[0m\u001b[38;5;34m261,889\u001b[0m (1023.00 KB)\n"
      ]
     },
     "metadata": {},
     "output_type": "display_data"
    },
    {
     "data": {
      "text/html": [
       "<pre style=\"white-space:pre;overflow-x:auto;line-height:normal;font-family:Menlo,'DejaVu Sans Mono',consolas,'Courier New',monospace\"><span style=\"font-weight: bold\"> Trainable params: </span><span style=\"color: #00af00; text-decoration-color: #00af00\">261,889</span> (1023.00 KB)\n",
       "</pre>\n"
      ],
      "text/plain": [
       "\u001b[1m Trainable params: \u001b[0m\u001b[38;5;34m261,889\u001b[0m (1023.00 KB)\n"
      ]
     },
     "metadata": {},
     "output_type": "display_data"
    },
    {
     "data": {
      "text/html": [
       "<pre style=\"white-space:pre;overflow-x:auto;line-height:normal;font-family:Menlo,'DejaVu Sans Mono',consolas,'Courier New',monospace\"><span style=\"font-weight: bold\"> Non-trainable params: </span><span style=\"color: #00af00; text-decoration-color: #00af00\">0</span> (0.00 B)\n",
       "</pre>\n"
      ],
      "text/plain": [
       "\u001b[1m Non-trainable params: \u001b[0m\u001b[38;5;34m0\u001b[0m (0.00 B)\n"
      ]
     },
     "metadata": {},
     "output_type": "display_data"
    },
    {
     "name": "stdout",
     "output_type": "stream",
     "text": [
      "Epoch 1/20\n",
      "\u001b[1m31/31\u001b[0m \u001b[32m━━━━━━━━━━━━━━━━━━━━\u001b[0m\u001b[37m\u001b[0m \u001b[1m11s\u001b[0m 293ms/step - accuracy: 0.5072 - loss: 0.7004 - val_accuracy: 0.5083 - val_loss: 0.6908\n",
      "Epoch 2/20\n",
      "\u001b[1m31/31\u001b[0m \u001b[32m━━━━━━━━━━━━━━━━━━━━\u001b[0m\u001b[37m\u001b[0m \u001b[1m9s\u001b[0m 293ms/step - accuracy: 0.5147 - loss: 0.6917 - val_accuracy: 0.6417 - val_loss: 0.6829\n",
      "Epoch 3/20\n",
      "\u001b[1m31/31\u001b[0m \u001b[32m━━━━━━━━━━━━━━━━━━━━\u001b[0m\u001b[37m\u001b[0m \u001b[1m9s\u001b[0m 285ms/step - accuracy: 0.6553 - loss: 0.6714 - val_accuracy: 0.6750 - val_loss: 0.6429\n",
      "Epoch 4/20\n",
      "\u001b[1m31/31\u001b[0m \u001b[32m━━━━━━━━━━━━━━━━━━━━\u001b[0m\u001b[37m\u001b[0m \u001b[1m9s\u001b[0m 280ms/step - accuracy: 0.6592 - loss: 0.6188 - val_accuracy: 0.4917 - val_loss: 0.6947\n",
      "Epoch 5/20\n",
      "\u001b[1m31/31\u001b[0m \u001b[32m━━━━━━━━━━━━━━━━━━━━\u001b[0m\u001b[37m\u001b[0m \u001b[1m8s\u001b[0m 271ms/step - accuracy: 0.4959 - loss: 0.6965 - val_accuracy: 0.4917 - val_loss: 0.6932\n",
      "Epoch 6/20\n",
      "\u001b[1m31/31\u001b[0m \u001b[32m━━━━━━━━━━━━━━━━━━━━\u001b[0m\u001b[37m\u001b[0m \u001b[1m9s\u001b[0m 281ms/step - accuracy: 0.5208 - loss: 0.6880 - val_accuracy: 0.5833 - val_loss: 0.6743\n",
      "Epoch 7/20\n",
      "\u001b[1m31/31\u001b[0m \u001b[32m━━━━━━━━━━━━━━━━━━━━\u001b[0m\u001b[37m\u001b[0m \u001b[1m9s\u001b[0m 275ms/step - accuracy: 0.6547 - loss: 0.6402 - val_accuracy: 0.7292 - val_loss: 0.5837\n",
      "Epoch 8/20\n",
      "\u001b[1m31/31\u001b[0m \u001b[32m━━━━━━━━━━━━━━━━━━━━\u001b[0m\u001b[37m\u001b[0m \u001b[1m9s\u001b[0m 285ms/step - accuracy: 0.6774 - loss: 0.6067 - val_accuracy: 0.8000 - val_loss: 0.5559\n",
      "Epoch 9/20\n",
      "\u001b[1m31/31\u001b[0m \u001b[32m━━━━━━━━━━━━━━━━━━━━\u001b[0m\u001b[37m\u001b[0m \u001b[1m9s\u001b[0m 288ms/step - accuracy: 0.7072 - loss: 0.5838 - val_accuracy: 0.5917 - val_loss: 0.6492\n",
      "Epoch 10/20\n",
      "\u001b[1m31/31\u001b[0m \u001b[32m━━━━━━━━━━━━━━━━━━━━\u001b[0m\u001b[37m\u001b[0m \u001b[1m9s\u001b[0m 278ms/step - accuracy: 0.7226 - loss: 0.5646 - val_accuracy: 0.7875 - val_loss: 0.4988\n",
      "Epoch 11/20\n",
      "\u001b[1m31/31\u001b[0m \u001b[32m━━━━━━━━━━━━━━━━━━━━\u001b[0m\u001b[37m\u001b[0m \u001b[1m9s\u001b[0m 284ms/step - accuracy: 0.7493 - loss: 0.5310 - val_accuracy: 0.7083 - val_loss: 0.5519\n",
      "Epoch 12/20\n",
      "\u001b[1m31/31\u001b[0m \u001b[32m━━━━━━━━━━━━━━━━━━━━\u001b[0m\u001b[37m\u001b[0m \u001b[1m8s\u001b[0m 265ms/step - accuracy: 0.7196 - loss: 0.5669 - val_accuracy: 0.8083 - val_loss: 0.4664\n",
      "Epoch 13/20\n",
      "\u001b[1m31/31\u001b[0m \u001b[32m━━━━━━━━━━━━━━━━━━━━\u001b[0m\u001b[37m\u001b[0m \u001b[1m9s\u001b[0m 283ms/step - accuracy: 0.8147 - loss: 0.4539 - val_accuracy: 0.7958 - val_loss: 0.4496\n",
      "Epoch 14/20\n",
      "\u001b[1m31/31\u001b[0m \u001b[32m━━━━━━━━━━━━━━━━━━━━\u001b[0m\u001b[37m\u001b[0m \u001b[1m9s\u001b[0m 282ms/step - accuracy: 0.8136 - loss: 0.4475 - val_accuracy: 0.8000 - val_loss: 0.4381\n",
      "Epoch 15/20\n",
      "\u001b[1m31/31\u001b[0m \u001b[32m━━━━━━━━━━━━━━━━━━━━\u001b[0m\u001b[37m\u001b[0m \u001b[1m9s\u001b[0m 277ms/step - accuracy: 0.8595 - loss: 0.3793 - val_accuracy: 0.8250 - val_loss: 0.3783\n",
      "Epoch 16/20\n",
      "\u001b[1m31/31\u001b[0m \u001b[32m━━━━━━━━━━━━━━━━━━━━\u001b[0m\u001b[37m\u001b[0m \u001b[1m9s\u001b[0m 274ms/step - accuracy: 0.8342 - loss: 0.3917 - val_accuracy: 0.8375 - val_loss: 0.4148\n",
      "Epoch 17/20\n",
      "\u001b[1m31/31\u001b[0m \u001b[32m━━━━━━━━━━━━━━━━━━━━\u001b[0m\u001b[37m\u001b[0m \u001b[1m10s\u001b[0m 277ms/step - accuracy: 0.8370 - loss: 0.3976 - val_accuracy: 0.8000 - val_loss: 0.4383\n",
      "Epoch 18/20\n",
      "\u001b[1m31/31\u001b[0m \u001b[32m━━━━━━━━━━━━━━━━━━━━\u001b[0m\u001b[37m\u001b[0m \u001b[1m9s\u001b[0m 275ms/step - accuracy: 0.8394 - loss: 0.3888 - val_accuracy: 0.8250 - val_loss: 0.4212\n",
      "Epoch 19/20\n",
      "\u001b[1m31/31\u001b[0m \u001b[32m━━━━━━━━━━━━━━━━━━━━\u001b[0m\u001b[37m\u001b[0m \u001b[1m8s\u001b[0m 269ms/step - accuracy: 0.8224 - loss: 0.4349 - val_accuracy: 0.8375 - val_loss: 0.3614\n",
      "Epoch 20/20\n",
      "\u001b[1m31/31\u001b[0m \u001b[32m━━━━━━━━━━━━━━━━━━━━\u001b[0m\u001b[37m\u001b[0m \u001b[1m9s\u001b[0m 281ms/step - accuracy: 0.8365 - loss: 0.3803 - val_accuracy: 0.8167 - val_loss: 0.3923\n"
     ]
    }
   ],
   "source": [
    "# Definición de los hiperparámetros\n",
    "\n",
    "epochs = 20\n",
    "batch_size = 32\n",
    "\n",
    "\n",
    "# Instanciamos nuestro modelo\n",
    "modelo = Sequential()\n",
    "\n",
    "# Definimos el BASE MODEL\n",
    "# Definimos 2 capas de 64 porque nos da mejores resultados para la extracción de caracteristicas del rostro\n",
    "\n",
    "modelo.add(layers.Conv2D(128, (3,3),input_shape=(img_width, img_height, 3),activation='relu'))\n",
    "modelo.add(layers.MaxPooling2D(2,2))\n",
    "modelo.add(layers.Conv2D(64, (3,3),activation='relu'))\n",
    "modelo.add(layers.MaxPooling2D(2,2))\n",
    "modelo.add(layers.Conv2D(64, (3,3),activation='relu'))\n",
    "modelo.add(layers.MaxPooling2D(2,2))\n",
    "\n",
    "# Definimos el TOP MODEL\n",
    "\n",
    "modelo.add(layers.Flatten())\n",
    "modelo.add(layers.Dense(64, activation='relu'))\n",
    "modelo.add(layers.Dense(1, activation='sigmoid'))\n",
    "\n",
    "modelo.summary()\n",
    "\n",
    "# Compilamos el modelo con los hiperparametros definidos\n",
    "modelo.compile(loss='binary_crossentropy',\n",
    "              optimizer='adam',\n",
    "              metrics=['accuracy'])\n",
    "\n",
    "# Entrenamos el modelo\n",
    "history = modelo.fit(train_generator,\n",
    "                     epochs = epochs,\n",
    "                     validation_data = val_generator)\n"
   ]
  },
  {
   "cell_type": "markdown",
   "metadata": {
    "id": "pFkhs3K41M-1"
   },
   "source": [
    "### 5. Monitorización del proceso de entrenamiento para la toma de decisiones"
   ]
  },
  {
   "cell_type": "code",
   "execution_count": 62,
   "metadata": {
    "tags": []
   },
   "outputs": [
    {
     "data": {
      "image/png": "[encoded data removed]",
      "text/plain": [
       "<Figure size 1200x400 with 2 Axes>"
      ]
     },
     "metadata": {},
     "output_type": "display_data"
    }
   ],
   "source": [
    "# Graficar las curvas de aprendizaje\n",
    "def grafica_curvas_aprendizaje(history):\n",
    "    acc = history.history['accuracy']\n",
    "    val_acc = history.history['val_accuracy']\n",
    "    loss = history.history['loss']\n",
    "    val_loss = history.history['val_loss']\n",
    "\n",
    "    epochs_range = range(20)\n",
    "\n",
    "    plt.figure(figsize=(12, 4))\n",
    "    plt.subplot(1, 2, 1)\n",
    "    plt.plot(epochs_range, acc, label='Entrenamiento')\n",
    "    plt.plot(epochs_range, val_acc, label='Validación')\n",
    "    plt.title('Precisión de Entrenamiento y Validación')\n",
    "    plt.legend(loc='lower right')\n",
    "\n",
    "    plt.subplot(1, 2, 2)\n",
    "    plt.plot(epochs_range, loss, label='Entrenamiento')\n",
    "    plt.plot(epochs_range, val_loss, label='Validación')\n",
    "    plt.title('Pérdida de Entrenamiento y Validación')\n",
    "    plt.legend(loc='upper right')\n",
    "    plt.show()\n",
    "\n",
    "grafica_curvas_aprendizaje(history)"
   ]
  },
  {
   "cell_type": "markdown",
   "metadata": {
    "id": "NHJXh3Sf1H_D"
   },
   "source": [
    "### 6. Evaluación del modelo predictivo y planteamiento de la siguiente prueba experimental"
   ]
  },
  {
   "cell_type": "code",
   "execution_count": 67,
   "metadata": {
    "tags": []
   },
   "outputs": [
    {
     "data": {
      "text/html": [
       "<pre style=\"white-space:pre;overflow-x:auto;line-height:normal;font-family:Menlo,'DejaVu Sans Mono',consolas,'Courier New',monospace\"><span style=\"font-weight: bold\">Model: \"sequential_21\"</span>\n",
       "</pre>\n"
      ],
      "text/plain": [
       "\u001b[1mModel: \"sequential_21\"\u001b[0m\n"
      ]
     },
     "metadata": {},
     "output_type": "display_data"
    },
    {
     "data": {
      "text/html": [
       "<pre style=\"white-space:pre;overflow-x:auto;line-height:normal;font-family:Menlo,'DejaVu Sans Mono',consolas,'Courier New',monospace\">┏━━━━━━━━━━━━━━━━━━━━━━━━━━━━━━━━━┳━━━━━━━━━━━━━━━━━━━━━━━━┳━━━━━━━━━━━━━━━┓\n",
       "┃<span style=\"font-weight: bold\"> Layer (type)                    </span>┃<span style=\"font-weight: bold\"> Output Shape           </span>┃<span style=\"font-weight: bold\">       Param # </span>┃\n",
       "┡━━━━━━━━━━━━━━━━━━━━━━━━━━━━━━━━━╇━━━━━━━━━━━━━━━━━━━━━━━━╇━━━━━━━━━━━━━━━┩\n",
       "│ conv2d_55 (<span style=\"color: #0087ff; text-decoration-color: #0087ff\">Conv2D</span>)              │ (<span style=\"color: #00d7ff; text-decoration-color: #00d7ff\">None</span>, <span style=\"color: #00af00; text-decoration-color: #00af00\">62</span>, <span style=\"color: #00af00; text-decoration-color: #00af00\">62</span>, <span style=\"color: #00af00; text-decoration-color: #00af00\">128</span>)    │         <span style=\"color: #00af00; text-decoration-color: #00af00\">3,584</span> │\n",
       "├─────────────────────────────────┼────────────────────────┼───────────────┤\n",
       "│ batch_normalization_36          │ (<span style=\"color: #00d7ff; text-decoration-color: #00d7ff\">None</span>, <span style=\"color: #00af00; text-decoration-color: #00af00\">62</span>, <span style=\"color: #00af00; text-decoration-color: #00af00\">62</span>, <span style=\"color: #00af00; text-decoration-color: #00af00\">128</span>)    │           <span style=\"color: #00af00; text-decoration-color: #00af00\">512</span> │\n",
       "│ (<span style=\"color: #0087ff; text-decoration-color: #0087ff\">BatchNormalization</span>)            │                        │               │\n",
       "├─────────────────────────────────┼────────────────────────┼───────────────┤\n",
       "│ max_pooling2d_54 (<span style=\"color: #0087ff; text-decoration-color: #0087ff\">MaxPooling2D</span>) │ (<span style=\"color: #00d7ff; text-decoration-color: #00d7ff\">None</span>, <span style=\"color: #00af00; text-decoration-color: #00af00\">31</span>, <span style=\"color: #00af00; text-decoration-color: #00af00\">31</span>, <span style=\"color: #00af00; text-decoration-color: #00af00\">128</span>)    │             <span style=\"color: #00af00; text-decoration-color: #00af00\">0</span> │\n",
       "├─────────────────────────────────┼────────────────────────┼───────────────┤\n",
       "│ dropout_33 (<span style=\"color: #0087ff; text-decoration-color: #0087ff\">Dropout</span>)            │ (<span style=\"color: #00d7ff; text-decoration-color: #00d7ff\">None</span>, <span style=\"color: #00af00; text-decoration-color: #00af00\">31</span>, <span style=\"color: #00af00; text-decoration-color: #00af00\">31</span>, <span style=\"color: #00af00; text-decoration-color: #00af00\">128</span>)    │             <span style=\"color: #00af00; text-decoration-color: #00af00\">0</span> │\n",
       "├─────────────────────────────────┼────────────────────────┼───────────────┤\n",
       "│ conv2d_56 (<span style=\"color: #0087ff; text-decoration-color: #0087ff\">Conv2D</span>)              │ (<span style=\"color: #00d7ff; text-decoration-color: #00d7ff\">None</span>, <span style=\"color: #00af00; text-decoration-color: #00af00\">29</span>, <span style=\"color: #00af00; text-decoration-color: #00af00\">29</span>, <span style=\"color: #00af00; text-decoration-color: #00af00\">64</span>)     │        <span style=\"color: #00af00; text-decoration-color: #00af00\">73,792</span> │\n",
       "├─────────────────────────────────┼────────────────────────┼───────────────┤\n",
       "│ batch_normalization_37          │ (<span style=\"color: #00d7ff; text-decoration-color: #00d7ff\">None</span>, <span style=\"color: #00af00; text-decoration-color: #00af00\">29</span>, <span style=\"color: #00af00; text-decoration-color: #00af00\">29</span>, <span style=\"color: #00af00; text-decoration-color: #00af00\">64</span>)     │           <span style=\"color: #00af00; text-decoration-color: #00af00\">256</span> │\n",
       "│ (<span style=\"color: #0087ff; text-decoration-color: #0087ff\">BatchNormalization</span>)            │                        │               │\n",
       "├─────────────────────────────────┼────────────────────────┼───────────────┤\n",
       "│ max_pooling2d_55 (<span style=\"color: #0087ff; text-decoration-color: #0087ff\">MaxPooling2D</span>) │ (<span style=\"color: #00d7ff; text-decoration-color: #00d7ff\">None</span>, <span style=\"color: #00af00; text-decoration-color: #00af00\">14</span>, <span style=\"color: #00af00; text-decoration-color: #00af00\">14</span>, <span style=\"color: #00af00; text-decoration-color: #00af00\">64</span>)     │             <span style=\"color: #00af00; text-decoration-color: #00af00\">0</span> │\n",
       "├─────────────────────────────────┼────────────────────────┼───────────────┤\n",
       "│ dropout_34 (<span style=\"color: #0087ff; text-decoration-color: #0087ff\">Dropout</span>)            │ (<span style=\"color: #00d7ff; text-decoration-color: #00d7ff\">None</span>, <span style=\"color: #00af00; text-decoration-color: #00af00\">14</span>, <span style=\"color: #00af00; text-decoration-color: #00af00\">14</span>, <span style=\"color: #00af00; text-decoration-color: #00af00\">64</span>)     │             <span style=\"color: #00af00; text-decoration-color: #00af00\">0</span> │\n",
       "├─────────────────────────────────┼────────────────────────┼───────────────┤\n",
       "│ conv2d_57 (<span style=\"color: #0087ff; text-decoration-color: #0087ff\">Conv2D</span>)              │ (<span style=\"color: #00d7ff; text-decoration-color: #00d7ff\">None</span>, <span style=\"color: #00af00; text-decoration-color: #00af00\">12</span>, <span style=\"color: #00af00; text-decoration-color: #00af00\">12</span>, <span style=\"color: #00af00; text-decoration-color: #00af00\">64</span>)     │        <span style=\"color: #00af00; text-decoration-color: #00af00\">36,928</span> │\n",
       "├─────────────────────────────────┼────────────────────────┼───────────────┤\n",
       "│ batch_normalization_38          │ (<span style=\"color: #00d7ff; text-decoration-color: #00d7ff\">None</span>, <span style=\"color: #00af00; text-decoration-color: #00af00\">12</span>, <span style=\"color: #00af00; text-decoration-color: #00af00\">12</span>, <span style=\"color: #00af00; text-decoration-color: #00af00\">64</span>)     │           <span style=\"color: #00af00; text-decoration-color: #00af00\">256</span> │\n",
       "│ (<span style=\"color: #0087ff; text-decoration-color: #0087ff\">BatchNormalization</span>)            │                        │               │\n",
       "├─────────────────────────────────┼────────────────────────┼───────────────┤\n",
       "│ max_pooling2d_56 (<span style=\"color: #0087ff; text-decoration-color: #0087ff\">MaxPooling2D</span>) │ (<span style=\"color: #00d7ff; text-decoration-color: #00d7ff\">None</span>, <span style=\"color: #00af00; text-decoration-color: #00af00\">6</span>, <span style=\"color: #00af00; text-decoration-color: #00af00\">6</span>, <span style=\"color: #00af00; text-decoration-color: #00af00\">64</span>)       │             <span style=\"color: #00af00; text-decoration-color: #00af00\">0</span> │\n",
       "├─────────────────────────────────┼────────────────────────┼───────────────┤\n",
       "│ dropout_35 (<span style=\"color: #0087ff; text-decoration-color: #0087ff\">Dropout</span>)            │ (<span style=\"color: #00d7ff; text-decoration-color: #00d7ff\">None</span>, <span style=\"color: #00af00; text-decoration-color: #00af00\">6</span>, <span style=\"color: #00af00; text-decoration-color: #00af00\">6</span>, <span style=\"color: #00af00; text-decoration-color: #00af00\">64</span>)       │             <span style=\"color: #00af00; text-decoration-color: #00af00\">0</span> │\n",
       "├─────────────────────────────────┼────────────────────────┼───────────────┤\n",
       "│ flatten_19 (<span style=\"color: #0087ff; text-decoration-color: #0087ff\">Flatten</span>)            │ (<span style=\"color: #00d7ff; text-decoration-color: #00d7ff\">None</span>, <span style=\"color: #00af00; text-decoration-color: #00af00\">2304</span>)           │             <span style=\"color: #00af00; text-decoration-color: #00af00\">0</span> │\n",
       "├─────────────────────────────────┼────────────────────────┼───────────────┤\n",
       "│ dense_38 (<span style=\"color: #0087ff; text-decoration-color: #0087ff\">Dense</span>)                │ (<span style=\"color: #00d7ff; text-decoration-color: #00d7ff\">None</span>, <span style=\"color: #00af00; text-decoration-color: #00af00\">64</span>)             │       <span style=\"color: #00af00; text-decoration-color: #00af00\">147,520</span> │\n",
       "├─────────────────────────────────┼────────────────────────┼───────────────┤\n",
       "│ dropout_36 (<span style=\"color: #0087ff; text-decoration-color: #0087ff\">Dropout</span>)            │ (<span style=\"color: #00d7ff; text-decoration-color: #00d7ff\">None</span>, <span style=\"color: #00af00; text-decoration-color: #00af00\">64</span>)             │             <span style=\"color: #00af00; text-decoration-color: #00af00\">0</span> │\n",
       "├─────────────────────────────────┼────────────────────────┼───────────────┤\n",
       "│ dense_39 (<span style=\"color: #0087ff; text-decoration-color: #0087ff\">Dense</span>)                │ (<span style=\"color: #00d7ff; text-decoration-color: #00d7ff\">None</span>, <span style=\"color: #00af00; text-decoration-color: #00af00\">1</span>)              │            <span style=\"color: #00af00; text-decoration-color: #00af00\">65</span> │\n",
       "└─────────────────────────────────┴────────────────────────┴───────────────┘\n",
       "</pre>\n"
      ],
      "text/plain": [
       "┏━━━━━━━━━━━━━━━━━━━━━━━━━━━━━━━━━┳━━━━━━━━━━━━━━━━━━━━━━━━┳━━━━━━━━━━━━━━━┓\n",
       "┃\u001b[1m \u001b[0m\u001b[1mLayer (type)                   \u001b[0m\u001b[1m \u001b[0m┃\u001b[1m \u001b[0m\u001b[1mOutput Shape          \u001b[0m\u001b[1m \u001b[0m┃\u001b[1m \u001b[0m\u001b[1m      Param #\u001b[0m\u001b[1m \u001b[0m┃\n",
       "┡━━━━━━━━━━━━━━━━━━━━━━━━━━━━━━━━━╇━━━━━━━━━━━━━━━━━━━━━━━━╇━━━━━━━━━━━━━━━┩\n",
       "│ conv2d_55 (\u001b[38;5;33mConv2D\u001b[0m)              │ (\u001b[38;5;45mNone\u001b[0m, \u001b[38;5;34m62\u001b[0m, \u001b[38;5;34m62\u001b[0m, \u001b[38;5;34m128\u001b[0m)    │         \u001b[38;5;34m3,584\u001b[0m │\n",
       "├─────────────────────────────────┼────────────────────────┼───────────────┤\n",
       "│ batch_normalization_36          │ (\u001b[38;5;45mNone\u001b[0m, \u001b[38;5;34m62\u001b[0m, \u001b[38;5;34m62\u001b[0m, \u001b[38;5;34m128\u001b[0m)    │           \u001b[38;5;34m512\u001b[0m │\n",
       "│ (\u001b[38;5;33mBatchNormalization\u001b[0m)            │                        │               │\n",
       "├─────────────────────────────────┼────────────────────────┼───────────────┤\n",
       "│ max_pooling2d_54 (\u001b[38;5;33mMaxPooling2D\u001b[0m) │ (\u001b[38;5;45mNone\u001b[0m, \u001b[38;5;34m31\u001b[0m, \u001b[38;5;34m31\u001b[0m, \u001b[38;5;34m128\u001b[0m)    │             \u001b[38;5;34m0\u001b[0m │\n",
       "├─────────────────────────────────┼────────────────────────┼───────────────┤\n",
       "│ dropout_33 (\u001b[38;5;33mDropout\u001b[0m)            │ (\u001b[38;5;45mNone\u001b[0m, \u001b[38;5;34m31\u001b[0m, \u001b[38;5;34m31\u001b[0m, \u001b[38;5;34m128\u001b[0m)    │             \u001b[38;5;34m0\u001b[0m │\n",
       "├─────────────────────────────────┼────────────────────────┼───────────────┤\n",
       "│ conv2d_56 (\u001b[38;5;33mConv2D\u001b[0m)              │ (\u001b[38;5;45mNone\u001b[0m, \u001b[38;5;34m29\u001b[0m, \u001b[38;5;34m29\u001b[0m, \u001b[38;5;34m64\u001b[0m)     │        \u001b[38;5;34m73,792\u001b[0m │\n",
       "├─────────────────────────────────┼────────────────────────┼───────────────┤\n",
       "│ batch_normalization_37          │ (\u001b[38;5;45mNone\u001b[0m, \u001b[38;5;34m29\u001b[0m, \u001b[38;5;34m29\u001b[0m, \u001b[38;5;34m64\u001b[0m)     │           \u001b[38;5;34m256\u001b[0m │\n",
       "│ (\u001b[38;5;33mBatchNormalization\u001b[0m)            │                        │               │\n",
       "├─────────────────────────────────┼────────────────────────┼───────────────┤\n",
       "│ max_pooling2d_55 (\u001b[38;5;33mMaxPooling2D\u001b[0m) │ (\u001b[38;5;45mNone\u001b[0m, \u001b[38;5;34m14\u001b[0m, \u001b[38;5;34m14\u001b[0m, \u001b[38;5;34m64\u001b[0m)     │             \u001b[38;5;34m0\u001b[0m │\n",
       "├─────────────────────────────────┼────────────────────────┼───────────────┤\n",
       "│ dropout_34 (\u001b[38;5;33mDropout\u001b[0m)            │ (\u001b[38;5;45mNone\u001b[0m, \u001b[38;5;34m14\u001b[0m, \u001b[38;5;34m14\u001b[0m, \u001b[38;5;34m64\u001b[0m)     │             \u001b[38;5;34m0\u001b[0m │\n",
       "├─────────────────────────────────┼────────────────────────┼───────────────┤\n",
       "│ conv2d_57 (\u001b[38;5;33mConv2D\u001b[0m)              │ (\u001b[38;5;45mNone\u001b[0m, \u001b[38;5;34m12\u001b[0m, \u001b[38;5;34m12\u001b[0m, \u001b[38;5;34m64\u001b[0m)     │        \u001b[38;5;34m36,928\u001b[0m │\n",
       "├─────────────────────────────────┼────────────────────────┼───────────────┤\n",
       "│ batch_normalization_38          │ (\u001b[38;5;45mNone\u001b[0m, \u001b[38;5;34m12\u001b[0m, \u001b[38;5;34m12\u001b[0m, \u001b[38;5;34m64\u001b[0m)     │           \u001b[38;5;34m256\u001b[0m │\n",
       "│ (\u001b[38;5;33mBatchNormalization\u001b[0m)            │                        │               │\n",
       "├─────────────────────────────────┼────────────────────────┼───────────────┤\n",
       "│ max_pooling2d_56 (\u001b[38;5;33mMaxPooling2D\u001b[0m) │ (\u001b[38;5;45mNone\u001b[0m, \u001b[38;5;34m6\u001b[0m, \u001b[38;5;34m6\u001b[0m, \u001b[38;5;34m64\u001b[0m)       │             \u001b[38;5;34m0\u001b[0m │\n",
       "├─────────────────────────────────┼────────────────────────┼───────────────┤\n",
       "│ dropout_35 (\u001b[38;5;33mDropout\u001b[0m)            │ (\u001b[38;5;45mNone\u001b[0m, \u001b[38;5;34m6\u001b[0m, \u001b[38;5;34m6\u001b[0m, \u001b[38;5;34m64\u001b[0m)       │             \u001b[38;5;34m0\u001b[0m │\n",
       "├─────────────────────────────────┼────────────────────────┼───────────────┤\n",
       "│ flatten_19 (\u001b[38;5;33mFlatten\u001b[0m)            │ (\u001b[38;5;45mNone\u001b[0m, \u001b[38;5;34m2304\u001b[0m)           │             \u001b[38;5;34m0\u001b[0m │\n",
       "├─────────────────────────────────┼────────────────────────┼───────────────┤\n",
       "│ dense_38 (\u001b[38;5;33mDense\u001b[0m)                │ (\u001b[38;5;45mNone\u001b[0m, \u001b[38;5;34m64\u001b[0m)             │       \u001b[38;5;34m147,520\u001b[0m │\n",
       "├─────────────────────────────────┼────────────────────────┼───────────────┤\n",
       "│ dropout_36 (\u001b[38;5;33mDropout\u001b[0m)            │ (\u001b[38;5;45mNone\u001b[0m, \u001b[38;5;34m64\u001b[0m)             │             \u001b[38;5;34m0\u001b[0m │\n",
       "├─────────────────────────────────┼────────────────────────┼───────────────┤\n",
       "│ dense_39 (\u001b[38;5;33mDense\u001b[0m)                │ (\u001b[38;5;45mNone\u001b[0m, \u001b[38;5;34m1\u001b[0m)              │            \u001b[38;5;34m65\u001b[0m │\n",
       "└─────────────────────────────────┴────────────────────────┴───────────────┘\n"
      ]
     },
     "metadata": {},
     "output_type": "display_data"
    },
    {
     "data": {
      "text/html": [
       "<pre style=\"white-space:pre;overflow-x:auto;line-height:normal;font-family:Menlo,'DejaVu Sans Mono',consolas,'Courier New',monospace\"><span style=\"font-weight: bold\"> Total params: </span><span style=\"color: #00af00; text-decoration-color: #00af00\">262,913</span> (1.00 MB)\n",
       "</pre>\n"
      ],
      "text/plain": [
       "\u001b[1m Total params: \u001b[0m\u001b[38;5;34m262,913\u001b[0m (1.00 MB)\n"
      ]
     },
     "metadata": {},
     "output_type": "display_data"
    },
    {
     "data": {
      "text/html": [
       "<pre style=\"white-space:pre;overflow-x:auto;line-height:normal;font-family:Menlo,'DejaVu Sans Mono',consolas,'Courier New',monospace\"><span style=\"font-weight: bold\"> Trainable params: </span><span style=\"color: #00af00; text-decoration-color: #00af00\">262,401</span> (1.00 MB)\n",
       "</pre>\n"
      ],
      "text/plain": [
       "\u001b[1m Trainable params: \u001b[0m\u001b[38;5;34m262,401\u001b[0m (1.00 MB)\n"
      ]
     },
     "metadata": {},
     "output_type": "display_data"
    },
    {
     "data": {
      "text/html": [
       "<pre style=\"white-space:pre;overflow-x:auto;line-height:normal;font-family:Menlo,'DejaVu Sans Mono',consolas,'Courier New',monospace\"><span style=\"font-weight: bold\"> Non-trainable params: </span><span style=\"color: #00af00; text-decoration-color: #00af00\">512</span> (2.00 KB)\n",
       "</pre>\n"
      ],
      "text/plain": [
       "\u001b[1m Non-trainable params: \u001b[0m\u001b[38;5;34m512\u001b[0m (2.00 KB)\n"
      ]
     },
     "metadata": {},
     "output_type": "display_data"
    },
    {
     "name": "stdout",
     "output_type": "stream",
     "text": [
      "Epoch 1/20\n",
      "\u001b[1m31/31\u001b[0m \u001b[32m━━━━━━━━━━━━━━━━━━━━\u001b[0m\u001b[37m\u001b[0m \u001b[1m19s\u001b[0m 511ms/step - accuracy: 0.5271 - loss: 1.6281 - val_accuracy: 0.5083 - val_loss: 0.7035\n",
      "Epoch 2/20\n",
      "\u001b[1m31/31\u001b[0m \u001b[32m━━━━━━━━━━━━━━━━━━━━\u001b[0m\u001b[37m\u001b[0m \u001b[1m16s\u001b[0m 498ms/step - accuracy: 0.5769 - loss: 0.7169 - val_accuracy: 0.5083 - val_loss: 0.6939\n",
      "Epoch 3/20\n",
      "\u001b[1m31/31\u001b[0m \u001b[32m━━━━━━━━━━━━━━━━━━━━\u001b[0m\u001b[37m\u001b[0m \u001b[1m16s\u001b[0m 503ms/step - accuracy: 0.5924 - loss: 0.6800 - val_accuracy: 0.4958 - val_loss: 0.9889\n",
      "Epoch 4/20\n",
      "\u001b[1m31/31\u001b[0m \u001b[32m━━━━━━━━━━━━━━━━━━━━\u001b[0m\u001b[37m\u001b[0m \u001b[1m15s\u001b[0m 499ms/step - accuracy: 0.6730 - loss: 0.6419 - val_accuracy: 0.4917 - val_loss: 1.0408\n",
      "Epoch 5/20\n",
      "\u001b[1m31/31\u001b[0m \u001b[32m━━━━━━━━━━━━━━━━━━━━\u001b[0m\u001b[37m\u001b[0m \u001b[1m15s\u001b[0m 490ms/step - accuracy: 0.6671 - loss: 0.6219 - val_accuracy: 0.4917 - val_loss: 0.8711\n",
      "Epoch 6/20\n",
      "\u001b[1m31/31\u001b[0m \u001b[32m━━━━━━━━━━━━━━━━━━━━\u001b[0m\u001b[37m\u001b[0m \u001b[1m15s\u001b[0m 475ms/step - accuracy: 0.6954 - loss: 0.5853 - val_accuracy: 0.4875 - val_loss: 1.1562\n",
      "Epoch 7/20\n",
      "\u001b[1m31/31\u001b[0m \u001b[32m━━━━━━━━━━━━━━━━━━━━\u001b[0m\u001b[37m\u001b[0m \u001b[1m15s\u001b[0m 497ms/step - accuracy: 0.7171 - loss: 0.5992 - val_accuracy: 0.4917 - val_loss: 2.2420\n",
      "Epoch 8/20\n",
      "\u001b[1m31/31\u001b[0m \u001b[32m━━━━━━━━━━━━━━━━━━━━\u001b[0m\u001b[37m\u001b[0m \u001b[1m16s\u001b[0m 503ms/step - accuracy: 0.7346 - loss: 0.5306 - val_accuracy: 0.4917 - val_loss: 2.4556\n",
      "Epoch 9/20\n",
      "\u001b[1m31/31\u001b[0m \u001b[32m━━━━━━━━━━━━━━━━━━━━\u001b[0m\u001b[37m\u001b[0m \u001b[1m15s\u001b[0m 498ms/step - accuracy: 0.7319 - loss: 0.5148 - val_accuracy: 0.4917 - val_loss: 1.1710\n",
      "Epoch 10/20\n",
      "\u001b[1m31/31\u001b[0m \u001b[32m━━━━━━━━━━━━━━━━━━━━\u001b[0m\u001b[37m\u001b[0m \u001b[1m15s\u001b[0m 494ms/step - accuracy: 0.7870 - loss: 0.4538 - val_accuracy: 0.5000 - val_loss: 1.2931\n",
      "Epoch 11/20\n",
      "\u001b[1m31/31\u001b[0m \u001b[32m━━━━━━━━━━━━━━━━━━━━\u001b[0m\u001b[37m\u001b[0m \u001b[1m15s\u001b[0m 496ms/step - accuracy: 0.7873 - loss: 0.5408 - val_accuracy: 0.5458 - val_loss: 1.3715\n",
      "Epoch 12/20\n",
      "\u001b[1m31/31\u001b[0m \u001b[32m━━━━━━━━━━━━━━━━━━━━\u001b[0m\u001b[37m\u001b[0m \u001b[1m15s\u001b[0m 494ms/step - accuracy: 0.7716 - loss: 0.5550 - val_accuracy: 0.4917 - val_loss: 1.6077\n",
      "Epoch 13/20\n",
      "\u001b[1m31/31\u001b[0m \u001b[32m━━━━━━━━━━━━━━━━━━━━\u001b[0m\u001b[37m\u001b[0m \u001b[1m16s\u001b[0m 507ms/step - accuracy: 0.7494 - loss: 0.4754 - val_accuracy: 0.6375 - val_loss: 0.8474\n",
      "Epoch 14/20\n",
      "\u001b[1m31/31\u001b[0m \u001b[32m━━━━━━━━━━━━━━━━━━━━\u001b[0m\u001b[37m\u001b[0m \u001b[1m16s\u001b[0m 510ms/step - accuracy: 0.7602 - loss: 0.5294 - val_accuracy: 0.7125 - val_loss: 0.5247\n",
      "Epoch 15/20\n",
      "\u001b[1m31/31\u001b[0m \u001b[32m━━━━━━━━━━━━━━━━━━━━\u001b[0m\u001b[37m\u001b[0m \u001b[1m15s\u001b[0m 490ms/step - accuracy: 0.7854 - loss: 0.4729 - val_accuracy: 0.7125 - val_loss: 0.5311\n",
      "Epoch 16/20\n",
      "\u001b[1m31/31\u001b[0m \u001b[32m━━━━━━━━━━━━━━━━━━━━\u001b[0m\u001b[37m\u001b[0m \u001b[1m15s\u001b[0m 478ms/step - accuracy: 0.8077 - loss: 0.4287 - val_accuracy: 0.5292 - val_loss: 1.0344\n",
      "Epoch 17/20\n",
      "\u001b[1m31/31\u001b[0m \u001b[32m━━━━━━━━━━━━━━━━━━━━\u001b[0m\u001b[37m\u001b[0m \u001b[1m15s\u001b[0m 484ms/step - accuracy: 0.8330 - loss: 0.4190 - val_accuracy: 0.5333 - val_loss: 0.6444\n",
      "Epoch 18/20\n",
      "\u001b[1m31/31\u001b[0m \u001b[32m━━━━━━━━━━━━━━━━━━━━\u001b[0m\u001b[37m\u001b[0m \u001b[1m15s\u001b[0m 484ms/step - accuracy: 0.7964 - loss: 0.4639 - val_accuracy: 0.6875 - val_loss: 0.6657\n",
      "Epoch 19/20\n",
      "\u001b[1m31/31\u001b[0m \u001b[32m━━━━━━━━━━━━━━━━━━━━\u001b[0m\u001b[37m\u001b[0m \u001b[1m15s\u001b[0m 493ms/step - accuracy: 0.7985 - loss: 0.5124 - val_accuracy: 0.5250 - val_loss: 0.8087\n",
      "Epoch 20/20\n",
      "\u001b[1m31/31\u001b[0m \u001b[32m━━━━━━━━━━━━━━━━━━━━\u001b[0m\u001b[37m\u001b[0m \u001b[1m16s\u001b[0m 500ms/step - accuracy: 0.8346 - loss: 0.4108 - val_accuracy: 0.4917 - val_loss: 2.2684\n"
     ]
    }
   ],
   "source": [
    "# Definición de los hiperparámetros\n",
    "\n",
    "epochs = 20\n",
    "batch_size = 32\n",
    "\n",
    "\n",
    "# Instanciamos nuestro modelo\n",
    "modelo = Sequential()\n",
    "\n",
    "# Definimos el BASE MODEL\n",
    "\n",
    "modelo.add(layers.Conv2D(128, (3,3),input_shape=(img_width, img_height, 3),activation='relu'))\n",
    "#modelo.add(layers.BatchNormalization())\n",
    "modelo.add(layers.MaxPooling2D(2,2))\n",
    "modelo.add(layers.Dropout(0.25))\n",
    "\n",
    "modelo.add(layers.Conv2D(64, (3,3),activation='relu'))\n",
    "#modelo.add(layers.BatchNormalization())\n",
    "modelo.add(layers.MaxPooling2D(2,2))\n",
    "modelo.add(layers.Dropout(0.25))\n",
    "\n",
    "modelo.add(layers.Conv2D(64, (3,3),activation='relu'))\n",
    "#modelo.add(layers.BatchNormalization())\n",
    "modelo.add(layers.MaxPooling2D(2,2))\n",
    "modelo.add(layers.Dropout(0.25))\n",
    "\n",
    "\n",
    "# Definimos el TOP MODEL\n",
    "\n",
    "modelo.add(layers.Flatten())\n",
    "modelo.add(layers.Dense(64, activation='relu'))\n",
    "modelo.add(layers.Dropout(0.5))\n",
    "\n",
    "modelo.add(layers.Dense(1, activation='sigmoid'))\n",
    "modelo.summary()\n",
    "\n",
    "# Compilamos el modelo con los hiperparametros definidos\n",
    "optimizer = tf.keras.optimizers.Adam(learning_rate=0.005, beta_1=0.9, beta_2=0.999, epsilon=1e-08)\n",
    "modelo.compile(loss='binary_crossentropy',\n",
    "              optimizer=optimizer,\n",
    "              metrics=['accuracy'])\n",
    "\n",
    "# Entrenamos el modelo\n",
    "historico = modelo.fit(train_generator,\n",
    "                     epochs = epochs,\n",
    "                     validation_data = val_generator)"
   ]
  },
  {
   "cell_type": "code",
   "execution_count": 68,
   "metadata": {
    "tags": []
   },
   "outputs": [
    {
     "data": {
      "image/png": "[encoded data removed]",
      "text/plain": [
       "<Figure size 1200x400 with 2 Axes>"
      ]
     },
     "metadata": {},
     "output_type": "display_data"
    }
   ],
   "source": [
    "grafica_curvas_aprendizaje(historico)"
   ]
  },
  {
   "cell_type": "code",
   "execution_count": null,
   "metadata": {},
   "outputs": [],
   "source": []
  }
 ],
 "metadata": {
  "accelerator": "GPU",
  "colab": {
   "authorship_tag": "ABX9TyNGC0ZYxe4omOAC3XIze6Vb",
   "gpuType": "T4",
   "machine_shape": "hm",
   "provenance": []
  },
  "kernelspec": {
   "display_name": ".conda-default:Python",
   "language": "python",
   "name": "conda-env-.conda-default-py"
  },
  "language_info": {
   "codemirror_mode": {
    "name": "ipython",
    "version": 3
   },
   "file_extension": ".py",
   "mimetype": "text/x-python",
   "name": "python",
   "nbconvert_exporter": "python",
   "pygments_lexer": "ipython3",
   "version": "3.9.19"
  }
 },
 "nbformat": 4,
 "nbformat_minor": 4
}
